{
 "cells": [
  {
   "cell_type": "code",
   "execution_count": 2,
   "metadata": {
    "ExecuteTime": {
     "end_time": "2021-03-25T00:41:15.659395Z",
     "start_time": "2021-03-25T00:41:15.448056Z"
    },
    "collapsed": true,
    "jupyter": {
     "outputs_hidden": true
    },
    "tags": []
   },
   "outputs": [
    {
     "name": "stderr",
     "output_type": "stream",
     "text": [
      "/home/liuxuan/.local/lib/python3.8/site-packages/sklearn/utils/multiclass.py:13: DeprecationWarning: Please use `spmatrix` from the `scipy.sparse` namespace, the `scipy.sparse.base` namespace is deprecated.\n",
      "  from scipy.sparse.base import spmatrix\n",
      "/home/liuxuan/.local/lib/python3.8/site-packages/sklearn/feature_extraction/image.py:167: DeprecationWarning: `np.int` is a deprecated alias for the builtin `int`. To silence this warning, use `int` by itself. Doing this will not modify any behavior and is safe. When replacing `np.int`, you may wish to use e.g. `np.int64` or `np.int32` to specify the precision. If you wish to review your current use, check the release note link for additional information.\n",
      "Deprecated in NumPy 1.20; for more details and guidance: https://numpy.org/devdocs/release/1.20.0-notes.html#deprecations\n",
      "  dtype=np.int):\n",
      "/home/liuxuan/.local/lib/python3.8/site-packages/sklearn/linear_model/least_angle.py:30: DeprecationWarning: `np.float` is a deprecated alias for the builtin `float`. To silence this warning, use `float` by itself. Doing this will not modify any behavior and is safe. If you specifically wanted the numpy scalar type, use `np.float64` here.\n",
      "Deprecated in NumPy 1.20; for more details and guidance: https://numpy.org/devdocs/release/1.20.0-notes.html#deprecations\n",
      "  method='lar', copy_X=True, eps=np.finfo(np.float).eps,\n",
      "/home/liuxuan/.local/lib/python3.8/site-packages/sklearn/linear_model/least_angle.py:167: DeprecationWarning: `np.float` is a deprecated alias for the builtin `float`. To silence this warning, use `float` by itself. Doing this will not modify any behavior and is safe. If you specifically wanted the numpy scalar type, use `np.float64` here.\n",
      "Deprecated in NumPy 1.20; for more details and guidance: https://numpy.org/devdocs/release/1.20.0-notes.html#deprecations\n",
      "  method='lar', copy_X=True, eps=np.finfo(np.float).eps,\n",
      "/home/liuxuan/.local/lib/python3.8/site-packages/sklearn/linear_model/least_angle.py:284: DeprecationWarning: `np.float` is a deprecated alias for the builtin `float`. To silence this warning, use `float` by itself. Doing this will not modify any behavior and is safe. If you specifically wanted the numpy scalar type, use `np.float64` here.\n",
      "Deprecated in NumPy 1.20; for more details and guidance: https://numpy.org/devdocs/release/1.20.0-notes.html#deprecations\n",
      "  eps=np.finfo(np.float).eps, copy_Gram=True, verbose=0,\n",
      "/home/liuxuan/.local/lib/python3.8/site-packages/sklearn/linear_model/least_angle.py:862: DeprecationWarning: `np.float` is a deprecated alias for the builtin `float`. To silence this warning, use `float` by itself. Doing this will not modify any behavior and is safe. If you specifically wanted the numpy scalar type, use `np.float64` here.\n",
      "Deprecated in NumPy 1.20; for more details and guidance: https://numpy.org/devdocs/release/1.20.0-notes.html#deprecations\n",
      "  eps=np.finfo(np.float).eps, copy_X=True, fit_path=True,\n",
      "/home/liuxuan/.local/lib/python3.8/site-packages/sklearn/linear_model/least_angle.py:1101: DeprecationWarning: `np.float` is a deprecated alias for the builtin `float`. To silence this warning, use `float` by itself. Doing this will not modify any behavior and is safe. If you specifically wanted the numpy scalar type, use `np.float64` here.\n",
      "Deprecated in NumPy 1.20; for more details and guidance: https://numpy.org/devdocs/release/1.20.0-notes.html#deprecations\n",
      "  eps=np.finfo(np.float).eps, copy_X=True, fit_path=True,\n",
      "/home/liuxuan/.local/lib/python3.8/site-packages/sklearn/linear_model/least_angle.py:1127: DeprecationWarning: `np.float` is a deprecated alias for the builtin `float`. To silence this warning, use `float` by itself. Doing this will not modify any behavior and is safe. If you specifically wanted the numpy scalar type, use `np.float64` here.\n",
      "Deprecated in NumPy 1.20; for more details and guidance: https://numpy.org/devdocs/release/1.20.0-notes.html#deprecations\n",
      "  eps=np.finfo(np.float).eps, positive=False):\n",
      "/home/liuxuan/.local/lib/python3.8/site-packages/sklearn/linear_model/least_angle.py:1362: DeprecationWarning: `np.float` is a deprecated alias for the builtin `float`. To silence this warning, use `float` by itself. Doing this will not modify any behavior and is safe. If you specifically wanted the numpy scalar type, use `np.float64` here.\n",
      "Deprecated in NumPy 1.20; for more details and guidance: https://numpy.org/devdocs/release/1.20.0-notes.html#deprecations\n",
      "  max_n_alphas=1000, n_jobs=None, eps=np.finfo(np.float).eps,\n",
      "/home/liuxuan/.local/lib/python3.8/site-packages/sklearn/linear_model/least_angle.py:1602: DeprecationWarning: `np.float` is a deprecated alias for the builtin `float`. To silence this warning, use `float` by itself. Doing this will not modify any behavior and is safe. If you specifically wanted the numpy scalar type, use `np.float64` here.\n",
      "Deprecated in NumPy 1.20; for more details and guidance: https://numpy.org/devdocs/release/1.20.0-notes.html#deprecations\n",
      "  max_n_alphas=1000, n_jobs=None, eps=np.finfo(np.float).eps,\n",
      "/home/liuxuan/.local/lib/python3.8/site-packages/sklearn/linear_model/least_angle.py:1738: DeprecationWarning: `np.float` is a deprecated alias for the builtin `float`. To silence this warning, use `float` by itself. Doing this will not modify any behavior and is safe. If you specifically wanted the numpy scalar type, use `np.float64` here.\n",
      "Deprecated in NumPy 1.20; for more details and guidance: https://numpy.org/devdocs/release/1.20.0-notes.html#deprecations\n",
      "  eps=np.finfo(np.float).eps, copy_X=True, positive=False):\n",
      "/home/liuxuan/.local/lib/python3.8/site-packages/sklearn/utils/optimize.py:18: DeprecationWarning: Please use `line_search_wolfe2` from the `scipy.optimize` namespace, the `scipy.optimize.linesearch` namespace is deprecated.\n",
      "  from scipy.optimize.linesearch import line_search_wolfe2, line_search_wolfe1\n",
      "/home/liuxuan/.local/lib/python3.8/site-packages/sklearn/utils/optimize.py:18: DeprecationWarning: Please use `line_search_wolfe1` from the `scipy.optimize` namespace, the `scipy.optimize.linesearch` namespace is deprecated.\n",
      "  from scipy.optimize.linesearch import line_search_wolfe2, line_search_wolfe1\n",
      "/home/liuxuan/.local/lib/python3.8/site-packages/sklearn/decomposition/online_lda.py:29: DeprecationWarning: `np.float` is a deprecated alias for the builtin `float`. To silence this warning, use `float` by itself. Doing this will not modify any behavior and is safe. If you specifically wanted the numpy scalar type, use `np.float64` here.\n",
      "Deprecated in NumPy 1.20; for more details and guidance: https://numpy.org/devdocs/release/1.20.0-notes.html#deprecations\n",
      "  EPS = np.finfo(np.float).eps\n",
      "/home/liuxuan/.local/lib/python3.8/site-packages/sklearn/ensemble/gradient_boosting.py:32: DeprecationWarning: `np.bool` is a deprecated alias for the builtin `bool`. To silence this warning, use `bool` by itself. Doing this will not modify any behavior and is safe. If you specifically wanted the numpy scalar type, use `np.bool_` here.\n",
      "Deprecated in NumPy 1.20; for more details and guidance: https://numpy.org/devdocs/release/1.20.0-notes.html#deprecations\n",
      "  from ._gradient_boosting import predict_stages\n",
      "/home/liuxuan/.local/lib/python3.8/site-packages/sklearn/ensemble/gradient_boosting.py:32: DeprecationWarning: `np.bool` is a deprecated alias for the builtin `bool`. To silence this warning, use `bool` by itself. Doing this will not modify any behavior and is safe. If you specifically wanted the numpy scalar type, use `np.bool_` here.\n",
      "Deprecated in NumPy 1.20; for more details and guidance: https://numpy.org/devdocs/release/1.20.0-notes.html#deprecations\n",
      "  from ._gradient_boosting import predict_stages\n"
     ]
    }
   ],
   "source": [
    "import calour as ca \n",
    "import pandas as pd\n",
    "import numpy as np\n",
    "import seaborn as sns\n",
    "%matplotlib inline\n",
    "from matplotlib import pyplot as plt\n",
    "from matplotlib.backends.backend_pdf import PdfPages\n",
    "from scipy import stats\n",
    "from scipy.sparse import csr_matrix\n",
    "from itertools import combinations, permutations\n",
    "from calour.training import plot_roc, plot_cm\n",
    "from sklearn.metrics import confusion_matrix\n",
    "from sklearn.model_selection import train_test_split\n",
    "from sklearn.metrics import roc_curve, auc\n",
    "from sklearn.ensemble import RandomForestClassifier, RandomForestRegressor\n",
    "from sklearn.model_selection import RepeatedStratifiedKFold,KFold,cross_val_score"
   ]
  },
  {
   "cell_type": "code",
   "execution_count": 10,
   "metadata": {},
   "outputs": [],
   "source": [
    "pd.set_option('max_colwidth',500)\n",
    "pd.set_option('max_rows',500)"
   ]
  },
  {
   "cell_type": "markdown",
   "metadata": {},
   "source": [
    "# functions"
   ]
  },
  {
   "cell_type": "code",
   "execution_count": 10,
   "metadata": {},
   "outputs": [],
   "source": [
    "def A_pred_B(exp_a, exp_b, field='diagnose', self_validation=True):\n",
    "    '''training on exp_a to predict exp_b\n",
    "    params\n",
    "    ------\n",
    "    exp_a/exp_b: calour.experiment\n",
    "    field: str\n",
    "        column name in sample metadata\n",
    "    self_validation: True/False\n",
    "        whether to perform self validation or not. Default is True.\n",
    "        \n",
    "    return\n",
    "    ------\n",
    "    res_a: pd.DataFrame\n",
    "        cross validation result for exp_a\n",
    "    res_b: pd.DataFrame\n",
    "        the prediction result for exp_b using RF classifer trained on exp_a\n",
    "    '''\n",
    "    skf = RepeatedStratifiedKFold(n_splits=5, n_repeats=10, random_state=0)\n",
    "    res_a = []\n",
    "    res_b = []\n",
    "    if self_validation:\n",
    "        for i, (train_index, test_index) in enumerate(skf.split(exp_a.data,\n",
    "                                                                exp_a.sample_metadata[field])):\n",
    "            x_train = exp_a.data[train_index]\n",
    "            y_train = exp_a.sample_metadata[field][train_index]\n",
    "            rfc = RandomForestClassifier(n_estimators=1000, random_state=0)\n",
    "            rfc.fit(x_train, y_train)\n",
    "\n",
    "            x_test = exp_a.data[test_index]\n",
    "            y_test = exp_a.sample_metadata[field][test_index]\n",
    "            a = pd.DataFrame(rfc.predict_proba(x_test), columns=rfc.classes_)\n",
    "            a.insert(2, 'Y_TRUE', y_test.tolist())\n",
    "            a.insert(3, 'CV', i)\n",
    "            res_a.append(a)\n",
    "\n",
    "            x_test_b = exp_b.data\n",
    "            y_test_b = exp_b.sample_metadata[field]\n",
    "            b = pd.DataFrame(rfc.predict_proba(x_test_b), columns=rfc.classes_)\n",
    "            b.insert(2, 'Y_TRUE', y_test_b.tolist())\n",
    "            b.insert(3, 'CV', i)\n",
    "            res_b.append(b)\n",
    "        res_a = pd.concat(res_a)\n",
    "        res_b = pd.concat(res_b)\n",
    "        return res_a, res_b\n",
    "    \n",
    "    else:\n",
    "        for i, (train_index, test_index) in enumerate(skf.split(exp_a.data,\n",
    "                                                                exp_a.sample_metadata[field])):\n",
    "            x_train = exp_a.data[train_index]\n",
    "            y_train = exp_a.sample_metadata[field][train_index]\n",
    "            rfc = RandomForestClassifier(n_estimators=1000, random_state=0)\n",
    "            rfc.fit(x_train, y_train)\n",
    "            \n",
    "            x_test_b = exp_b.data\n",
    "            y_test_b = exp_b.sample_metadata[field]\n",
    "            b = pd.DataFrame(rfc.predict_proba(x_test_b), columns=rfc.classes_)\n",
    "            b.insert(2, 'Y_TRUE', y_test_b.tolist())\n",
    "            b.insert(3, 'CV', i)\n",
    "            res_b.append(b)\n",
    "        res_b = pd.concat(res_b)\n",
    "        return res_b"
   ]
  },
  {
   "cell_type": "code",
   "execution_count": 25,
   "metadata": {},
   "outputs": [],
   "source": [
    "def cal_roc(result, cv=True, classes=None):\n",
    "    '''from calour plot_roc'''\n",
    "    import logging\n",
    "    logger = logging.getLogger(__name__)\n",
    "    \n",
    "    if classes is None:\n",
    "        classes = np.unique(result['Y_TRUE'].values)\n",
    "        classes.sort()\n",
    "\n",
    "\n",
    "    mean_fpr = np.linspace(0, 1, 100)\n",
    "    for cls in classes:\n",
    "        tprs = []\n",
    "        aucs = []\n",
    "        if cv is True:\n",
    "            for grp, df in result.groupby('CV'):\n",
    "                y_true = df['Y_TRUE'].values == cls\n",
    "                fpr, tpr, thresholds = roc_curve(y_true.astype(int), df[cls])\n",
    "                if np.isnan(fpr[-1]) or np.isnan(tpr[-1]):\n",
    "                    logger.warning(\n",
    "                        'The cross validation fold %r is skipped because the true positive rate or '\n",
    "                        'false positive rate computation failed. This is likely because you '\n",
    "                        'have either no true positive or no negative samples in this '\n",
    "                        'cross validation for the class %r' % (grp, cls))\n",
    "                    continue\n",
    "                mean_tpr = np.interp(mean_fpr, fpr, tpr)\n",
    "                tprs.append(mean_tpr)\n",
    "                tprs[-1][0] = 0.0\n",
    "                roc_auc = auc(mean_fpr, mean_tpr)\n",
    "                aucs.append(roc_auc)\n",
    "\n",
    "            mean_tpr = np.mean(tprs, axis=0)\n",
    "            mean_tpr[-1] = 1.0\n",
    "            mean_auc = np.mean(aucs)\n",
    "            std_auc = np.std(aucs)\n",
    "        else:\n",
    "            y_true = result['Y_TRUE'].values == cls\n",
    "            fpr, tpr, thresholds = roc_curve(y_true.astype(int), result[cls])\n",
    "            if np.isnan(fpr[-1]) or np.isnan(tpr[-1]):\n",
    "                logger.warning(\n",
    "                    'The class %r is skipped because the true positive rate or '\n",
    "                    'false positive rate computation failed. This is likely because you '\n",
    "                    'have either no true positive or no negative samples for this class' % cls)\n",
    "            roc_auc = auc(fpr, tpr)\n",
    "    return mean_auc if cv else roc_auc  "
   ]
  },
  {
   "cell_type": "markdown",
   "metadata": {},
   "source": [
    "# loading data"
   ]
  },
  {
   "cell_type": "code",
   "execution_count": 11,
   "metadata": {
    "ExecuteTime": {
     "end_time": "2021-03-25T00:41:52.788363Z",
     "start_time": "2021-03-25T00:41:50.169966Z"
    },
    "tags": []
   },
   "outputs": [
    {
     "data": {
      "text/plain": [
       "AmpliconExperiment (\"conqur-adjusted-table-rarefied17794.biom\") with 1059 samples, 4192 features"
      ]
     },
     "execution_count": 11,
     "metadata": {},
     "output_type": "execute_result"
    }
   ],
   "source": [
    "tab=ca.read_amplicon('conqur-adjusted-table-rarefied17794.biom',\n",
    "                     'metadata.txt',\n",
    "                     normalize=100,min_reads=None)\n",
    "tab"
   ]
  },
  {
   "cell_type": "code",
   "execution_count": 4,
   "metadata": {},
   "outputs": [
    {
     "data": {
      "text/html": [
       "<div>\n",
       "<style scoped>\n",
       "    .dataframe tbody tr th:only-of-type {\n",
       "        vertical-align: middle;\n",
       "    }\n",
       "\n",
       "    .dataframe tbody tr th {\n",
       "        vertical-align: top;\n",
       "    }\n",
       "\n",
       "    .dataframe thead th {\n",
       "        text-align: right;\n",
       "    }\n",
       "</style>\n",
       "<table border=\"1\" class=\"dataframe\">\n",
       "  <thead>\n",
       "    <tr style=\"text-align: right;\">\n",
       "      <th></th>\n",
       "      <th>sample_type</th>\n",
       "      <th>project_ID</th>\n",
       "      <th>sequencing_region</th>\n",
       "      <th>diagnose</th>\n",
       "      <th>age</th>\n",
       "      <th>gender</th>\n",
       "      <th>BMI</th>\n",
       "      <th>tumor_site</th>\n",
       "      <th>T_stage</th>\n",
       "      <th>N_stage</th>\n",
       "      <th>...</th>\n",
       "      <th>sequencing_region_merge</th>\n",
       "      <th>host_replicates</th>\n",
       "      <th>treatment_yn</th>\n",
       "      <th>replicate_2</th>\n",
       "      <th>HNSCC</th>\n",
       "      <th>_sample_id</th>\n",
       "      <th>_calour_original_abundance</th>\n",
       "      <th>observed_features</th>\n",
       "      <th>shannon_entropy</th>\n",
       "      <th>faith_pd</th>\n",
       "    </tr>\n",
       "    <tr>\n",
       "      <th>sample-id</th>\n",
       "      <th></th>\n",
       "      <th></th>\n",
       "      <th></th>\n",
       "      <th></th>\n",
       "      <th></th>\n",
       "      <th></th>\n",
       "      <th></th>\n",
       "      <th></th>\n",
       "      <th></th>\n",
       "      <th></th>\n",
       "      <th></th>\n",
       "      <th></th>\n",
       "      <th></th>\n",
       "      <th></th>\n",
       "      <th></th>\n",
       "      <th></th>\n",
       "      <th></th>\n",
       "      <th></th>\n",
       "      <th></th>\n",
       "      <th></th>\n",
       "      <th></th>\n",
       "    </tr>\n",
       "  </thead>\n",
       "  <tbody>\n",
       "    <tr>\n",
       "      <th>SRR21105746</th>\n",
       "      <td>Oral_rinse</td>\n",
       "      <td>PRJNA870048</td>\n",
       "      <td>V3-V4</td>\n",
       "      <td>OSCC</td>\n",
       "      <td>63.0</td>\n",
       "      <td>M</td>\n",
       "      <td>NaN</td>\n",
       "      <td>tongue</td>\n",
       "      <td>NaN</td>\n",
       "      <td>NaN</td>\n",
       "      <td>...</td>\n",
       "      <td>V3-V4</td>\n",
       "      <td>NaN</td>\n",
       "      <td>NaN</td>\n",
       "      <td>NaN</td>\n",
       "      <td>NaN</td>\n",
       "      <td>SRR21105746</td>\n",
       "      <td>17794.0</td>\n",
       "      <td>184</td>\n",
       "      <td>3.804584</td>\n",
       "      <td>16.04912</td>\n",
       "    </tr>\n",
       "    <tr>\n",
       "      <th>SRR6110936</th>\n",
       "      <td>Saliva</td>\n",
       "      <td>PRJNA412445</td>\n",
       "      <td>V4-V5</td>\n",
       "      <td>OSCC</td>\n",
       "      <td>63.0</td>\n",
       "      <td>F</td>\n",
       "      <td>NaN</td>\n",
       "      <td>NaN</td>\n",
       "      <td>II</td>\n",
       "      <td>0</td>\n",
       "      <td>...</td>\n",
       "      <td>V4-V5</td>\n",
       "      <td>NaN</td>\n",
       "      <td>NaN</td>\n",
       "      <td>NaN</td>\n",
       "      <td>NaN</td>\n",
       "      <td>SRR6110936</td>\n",
       "      <td>17794.0</td>\n",
       "      <td>177</td>\n",
       "      <td>4.731407</td>\n",
       "      <td>18.01963</td>\n",
       "    </tr>\n",
       "  </tbody>\n",
       "</table>\n",
       "<p>2 rows × 36 columns</p>\n",
       "</div>"
      ],
      "text/plain": [
       "            sample_type   project_ID sequencing_region diagnose   age gender  \\\n",
       "sample-id                                                                      \n",
       "SRR21105746  Oral_rinse  PRJNA870048             V3-V4     OSCC  63.0      M   \n",
       "SRR6110936       Saliva  PRJNA412445             V4-V5     OSCC  63.0      F   \n",
       "\n",
       "             BMI tumor_site T_stage N_stage  ...  sequencing_region_merge  \\\n",
       "sample-id                                    ...                            \n",
       "SRR21105746  NaN     tongue     NaN     NaN  ...                    V3-V4   \n",
       "SRR6110936   NaN        NaN      II       0  ...                    V4-V5   \n",
       "\n",
       "            host_replicates treatment_yn replicate_2 HNSCC   _sample_id  \\\n",
       "sample-id                                                                 \n",
       "SRR21105746             NaN          NaN         NaN   NaN  SRR21105746   \n",
       "SRR6110936              NaN          NaN         NaN   NaN   SRR6110936   \n",
       "\n",
       "            _calour_original_abundance observed_features shannon_entropy  \\\n",
       "sample-id                                                                  \n",
       "SRR21105746                    17794.0               184        3.804584   \n",
       "SRR6110936                     17794.0               177        4.731407   \n",
       "\n",
       "             faith_pd  \n",
       "sample-id              \n",
       "SRR21105746  16.04912  \n",
       "SRR6110936   18.01963  \n",
       "\n",
       "[2 rows x 36 columns]"
      ]
     },
     "execution_count": 4,
     "metadata": {},
     "output_type": "execute_result"
    }
   ],
   "source": [
    "# tab.sample_metadata.head(2)"
   ]
  },
  {
   "cell_type": "code",
   "execution_count": 12,
   "metadata": {
    "ExecuteTime": {
     "end_time": "2021-03-25T00:43:44.906528Z",
     "start_time": "2021-03-25T00:43:44.895542Z"
    }
   },
   "outputs": [
    {
     "data": {
      "text/plain": [
       "OSCC               494\n",
       "Healthy_control    393\n",
       "OPMD               172\n",
       "Name: diagnose, dtype: int64"
      ]
     },
     "execution_count": 12,
     "metadata": {},
     "output_type": "execute_result"
    }
   ],
   "source": [
    "tab.sample_metadata['diagnose'].value_counts(dropna=False)"
   ]
  },
  {
   "cell_type": "code",
   "execution_count": 13,
   "metadata": {
    "ExecuteTime": {
     "end_time": "2021-03-25T00:43:45.982889Z",
     "start_time": "2021-03-25T00:43:45.972009Z"
    }
   },
   "outputs": [
    {
     "data": {
      "text/plain": [
       "PRJNA386665    374\n",
       "PRJNA870048    181\n",
       "PRJNA744870    152\n",
       "PRJEB39064      73\n",
       "PRJEB37501      73\n",
       "PRJNA756784     59\n",
       "OEP000837       44\n",
       "PRJNA813634     25\n",
       "PRJNA421234     21\n",
       "PRJNA751046     18\n",
       "PRJNA412445     17\n",
       "PRJNA666891     12\n",
       "PRJNA700849     10\n",
       "Name: project_ID, dtype: int64"
      ]
     },
     "execution_count": 13,
     "metadata": {},
     "output_type": "execute_result"
    }
   ],
   "source": [
    "tab.sample_metadata['project_ID'].value_counts(dropna=False)"
   ]
  },
  {
   "cell_type": "code",
   "execution_count": 14,
   "metadata": {},
   "outputs": [
    {
     "data": {
      "text/html": [
       "<div>\n",
       "<style scoped>\n",
       "    .dataframe tbody tr th:only-of-type {\n",
       "        vertical-align: middle;\n",
       "    }\n",
       "\n",
       "    .dataframe tbody tr th {\n",
       "        vertical-align: top;\n",
       "    }\n",
       "\n",
       "    .dataframe thead th {\n",
       "        text-align: right;\n",
       "    }\n",
       "</style>\n",
       "<table border=\"1\" class=\"dataframe\">\n",
       "  <thead>\n",
       "    <tr style=\"text-align: right;\">\n",
       "      <th>diagnose</th>\n",
       "      <th>Healthy_control</th>\n",
       "      <th>OPMD</th>\n",
       "      <th>OSCC</th>\n",
       "    </tr>\n",
       "    <tr>\n",
       "      <th>project_ID</th>\n",
       "      <th></th>\n",
       "      <th></th>\n",
       "      <th></th>\n",
       "    </tr>\n",
       "  </thead>\n",
       "  <tbody>\n",
       "    <tr>\n",
       "      <th>OEP000837</th>\n",
       "      <td>12.0</td>\n",
       "      <td>NaN</td>\n",
       "      <td>32.0</td>\n",
       "    </tr>\n",
       "    <tr>\n",
       "      <th>PRJEB37501</th>\n",
       "      <td>NaN</td>\n",
       "      <td>28.0</td>\n",
       "      <td>45.0</td>\n",
       "    </tr>\n",
       "    <tr>\n",
       "      <th>PRJEB39064</th>\n",
       "      <td>25.0</td>\n",
       "      <td>21.0</td>\n",
       "      <td>27.0</td>\n",
       "    </tr>\n",
       "    <tr>\n",
       "      <th>PRJNA386665</th>\n",
       "      <td>127.0</td>\n",
       "      <td>123.0</td>\n",
       "      <td>124.0</td>\n",
       "    </tr>\n",
       "    <tr>\n",
       "      <th>PRJNA412445</th>\n",
       "      <td>NaN</td>\n",
       "      <td>NaN</td>\n",
       "      <td>17.0</td>\n",
       "    </tr>\n",
       "    <tr>\n",
       "      <th>PRJNA421234</th>\n",
       "      <td>7.0</td>\n",
       "      <td>NaN</td>\n",
       "      <td>14.0</td>\n",
       "    </tr>\n",
       "    <tr>\n",
       "      <th>PRJNA666891</th>\n",
       "      <td>NaN</td>\n",
       "      <td>NaN</td>\n",
       "      <td>12.0</td>\n",
       "    </tr>\n",
       "    <tr>\n",
       "      <th>PRJNA700849</th>\n",
       "      <td>8.0</td>\n",
       "      <td>NaN</td>\n",
       "      <td>2.0</td>\n",
       "    </tr>\n",
       "    <tr>\n",
       "      <th>PRJNA744870</th>\n",
       "      <td>76.0</td>\n",
       "      <td>NaN</td>\n",
       "      <td>76.0</td>\n",
       "    </tr>\n",
       "    <tr>\n",
       "      <th>PRJNA751046</th>\n",
       "      <td>9.0</td>\n",
       "      <td>NaN</td>\n",
       "      <td>9.0</td>\n",
       "    </tr>\n",
       "    <tr>\n",
       "      <th>PRJNA756784</th>\n",
       "      <td>39.0</td>\n",
       "      <td>NaN</td>\n",
       "      <td>20.0</td>\n",
       "    </tr>\n",
       "    <tr>\n",
       "      <th>PRJNA813634</th>\n",
       "      <td>NaN</td>\n",
       "      <td>NaN</td>\n",
       "      <td>25.0</td>\n",
       "    </tr>\n",
       "    <tr>\n",
       "      <th>PRJNA870048</th>\n",
       "      <td>90.0</td>\n",
       "      <td>NaN</td>\n",
       "      <td>91.0</td>\n",
       "    </tr>\n",
       "  </tbody>\n",
       "</table>\n",
       "</div>"
      ],
      "text/plain": [
       "diagnose     Healthy_control   OPMD   OSCC\n",
       "project_ID                                \n",
       "OEP000837               12.0    NaN   32.0\n",
       "PRJEB37501               NaN   28.0   45.0\n",
       "PRJEB39064              25.0   21.0   27.0\n",
       "PRJNA386665            127.0  123.0  124.0\n",
       "PRJNA412445              NaN    NaN   17.0\n",
       "PRJNA421234              7.0    NaN   14.0\n",
       "PRJNA666891              NaN    NaN   12.0\n",
       "PRJNA700849              8.0    NaN    2.0\n",
       "PRJNA744870             76.0    NaN   76.0\n",
       "PRJNA751046              9.0    NaN    9.0\n",
       "PRJNA756784             39.0    NaN   20.0\n",
       "PRJNA813634              NaN    NaN   25.0\n",
       "PRJNA870048             90.0    NaN   91.0"
      ]
     },
     "execution_count": 14,
     "metadata": {},
     "output_type": "execute_result"
    }
   ],
   "source": [
    "tab.sample_metadata.pivot_table(values='_sample_id',index='project_ID',columns='diagnose',aggfunc='count')"
   ]
  },
  {
   "cell_type": "code",
   "execution_count": 15,
   "metadata": {},
   "outputs": [
    {
     "data": {
      "text/plain": [
       "AmpliconExperiment (\"conqur-adjusted-table-rarefied17794.biom\") with 739 samples, 2847 features"
      ]
     },
     "execution_count": 15,
     "metadata": {},
     "output_type": "execute_result"
    }
   ],
   "source": [
    "projects = ['OEP000837', 'PRJEB39064', 'PRJNA386665', 'PRJNA744870',\n",
    "            'PRJNA756784', 'PRJNA870048']\n",
    "tab_f = tab.filter_samples('project_ID', projects).filter_samples(\n",
    "    'diagnose', ['Healthy_control','OSCC']).filter_abundance(0.00001)\n",
    "tab_f"
   ]
  },
  {
   "cell_type": "code",
   "execution_count": 16,
   "metadata": {},
   "outputs": [
    {
     "data": {
      "text/html": [
       "<div>\n",
       "<style scoped>\n",
       "    .dataframe tbody tr th:only-of-type {\n",
       "        vertical-align: middle;\n",
       "    }\n",
       "\n",
       "    .dataframe tbody tr th {\n",
       "        vertical-align: top;\n",
       "    }\n",
       "\n",
       "    .dataframe thead th {\n",
       "        text-align: right;\n",
       "    }\n",
       "</style>\n",
       "<table border=\"1\" class=\"dataframe\">\n",
       "  <thead>\n",
       "    <tr style=\"text-align: right;\">\n",
       "      <th>diagnose</th>\n",
       "      <th>Healthy_control</th>\n",
       "      <th>OSCC</th>\n",
       "      <th>total_samples</th>\n",
       "    </tr>\n",
       "    <tr>\n",
       "      <th>project_ID</th>\n",
       "      <th></th>\n",
       "      <th></th>\n",
       "      <th></th>\n",
       "    </tr>\n",
       "  </thead>\n",
       "  <tbody>\n",
       "    <tr>\n",
       "      <th>OEP000837</th>\n",
       "      <td>12</td>\n",
       "      <td>32</td>\n",
       "      <td>44</td>\n",
       "    </tr>\n",
       "    <tr>\n",
       "      <th>PRJEB39064</th>\n",
       "      <td>25</td>\n",
       "      <td>27</td>\n",
       "      <td>52</td>\n",
       "    </tr>\n",
       "    <tr>\n",
       "      <th>PRJNA386665</th>\n",
       "      <td>127</td>\n",
       "      <td>124</td>\n",
       "      <td>251</td>\n",
       "    </tr>\n",
       "    <tr>\n",
       "      <th>PRJNA744870</th>\n",
       "      <td>76</td>\n",
       "      <td>76</td>\n",
       "      <td>152</td>\n",
       "    </tr>\n",
       "    <tr>\n",
       "      <th>PRJNA756784</th>\n",
       "      <td>39</td>\n",
       "      <td>20</td>\n",
       "      <td>59</td>\n",
       "    </tr>\n",
       "    <tr>\n",
       "      <th>PRJNA870048</th>\n",
       "      <td>90</td>\n",
       "      <td>91</td>\n",
       "      <td>181</td>\n",
       "    </tr>\n",
       "  </tbody>\n",
       "</table>\n",
       "</div>"
      ],
      "text/plain": [
       "diagnose     Healthy_control  OSCC  total_samples\n",
       "project_ID                                       \n",
       "OEP000837                 12    32             44\n",
       "PRJEB39064                25    27             52\n",
       "PRJNA386665              127   124            251\n",
       "PRJNA744870               76    76            152\n",
       "PRJNA756784               39    20             59\n",
       "PRJNA870048               90    91            181"
      ]
     },
     "execution_count": 16,
     "metadata": {},
     "output_type": "execute_result"
    }
   ],
   "source": [
    "df = tab_f.sample_metadata.pivot_table(values='_sample_id',index='project_ID',columns='diagnose',aggfunc='count')\n",
    "df['total_samples'] = df.sum(axis=1)\n",
    "df"
   ]
  },
  {
   "cell_type": "markdown",
   "metadata": {},
   "source": [
    "# classification using differential OTUs with combined FDR <= 0.01"
   ]
  },
  {
   "cell_type": "code",
   "execution_count": 5,
   "metadata": {},
   "outputs": [
    {
     "data": {
      "text/html": [
       "<div>\n",
       "<style scoped>\n",
       "    .dataframe tbody tr th:only-of-type {\n",
       "        vertical-align: middle;\n",
       "    }\n",
       "\n",
       "    .dataframe tbody tr th {\n",
       "        vertical-align: top;\n",
       "    }\n",
       "\n",
       "    .dataframe thead th {\n",
       "        text-align: right;\n",
       "    }\n",
       "</style>\n",
       "<table border=\"1\" class=\"dataframe\">\n",
       "  <thead>\n",
       "    <tr style=\"text-align: right;\">\n",
       "      <th></th>\n",
       "      <th>baseMean</th>\n",
       "      <th>log2FoldChange</th>\n",
       "      <th>lfcSE</th>\n",
       "      <th>stat</th>\n",
       "      <th>pvalue</th>\n",
       "      <th>padj</th>\n",
       "      <th>Study</th>\n",
       "      <th>CI_low_95</th>\n",
       "      <th>CI_hig_95</th>\n",
       "      <th>CI_low_99</th>\n",
       "      <th>CI_hig_99</th>\n",
       "      <th>taxonomy</th>\n",
       "      <th>ID_taxonomy_name</th>\n",
       "      <th>ID_taxonomy</th>\n",
       "    </tr>\n",
       "  </thead>\n",
       "  <tbody>\n",
       "    <tr>\n",
       "      <th>1000563</th>\n",
       "      <td>1.238753</td>\n",
       "      <td>-0.150033</td>\n",
       "      <td>0.481462</td>\n",
       "      <td>-0.311620</td>\n",
       "      <td>0.755330</td>\n",
       "      <td>NaN</td>\n",
       "      <td>OEP000837</td>\n",
       "      <td>-1.093681</td>\n",
       "      <td>0.793615</td>\n",
       "      <td>-1.390196</td>\n",
       "      <td>1.090130</td>\n",
       "      <td>k__Bacteria; p__Bacteroidetes; c__Bacteroidia;...</td>\n",
       "      <td>1000563 ; k__Bacteria; p__Bacteroidetes; c__Ba...</td>\n",
       "      <td>1000563 \\nk__Bacteria\\np__Bacteroidetes\\nc__Ba...</td>\n",
       "    </tr>\n",
       "    <tr>\n",
       "      <th>1000563</th>\n",
       "      <td>1.363122</td>\n",
       "      <td>-0.005272</td>\n",
       "      <td>0.383247</td>\n",
       "      <td>-0.013756</td>\n",
       "      <td>0.989025</td>\n",
       "      <td>NaN</td>\n",
       "      <td>PRJEB39064</td>\n",
       "      <td>-0.756422</td>\n",
       "      <td>0.745878</td>\n",
       "      <td>-0.992451</td>\n",
       "      <td>0.981907</td>\n",
       "      <td>k__Bacteria; p__Bacteroidetes; c__Bacteroidia;...</td>\n",
       "      <td>1000563 ; k__Bacteria; p__Bacteroidetes; c__Ba...</td>\n",
       "      <td>1000563 \\nk__Bacteria\\np__Bacteroidetes\\nc__Ba...</td>\n",
       "    </tr>\n",
       "  </tbody>\n",
       "</table>\n",
       "</div>"
      ],
      "text/plain": [
       "         baseMean  log2FoldChange     lfcSE      stat    pvalue  padj  \\\n",
       "1000563  1.238753       -0.150033  0.481462 -0.311620  0.755330   NaN   \n",
       "1000563  1.363122       -0.005272  0.383247 -0.013756  0.989025   NaN   \n",
       "\n",
       "              Study  CI_low_95  CI_hig_95  CI_low_99  CI_hig_99  \\\n",
       "1000563   OEP000837  -1.093681   0.793615  -1.390196   1.090130   \n",
       "1000563  PRJEB39064  -0.756422   0.745878  -0.992451   0.981907   \n",
       "\n",
       "                                                  taxonomy  \\\n",
       "1000563  k__Bacteria; p__Bacteroidetes; c__Bacteroidia;...   \n",
       "1000563  k__Bacteria; p__Bacteroidetes; c__Bacteroidia;...   \n",
       "\n",
       "                                          ID_taxonomy_name  \\\n",
       "1000563  1000563 ; k__Bacteria; p__Bacteroidetes; c__Ba...   \n",
       "1000563  1000563 ; k__Bacteria; p__Bacteroidetes; c__Ba...   \n",
       "\n",
       "                                               ID_taxonomy  \n",
       "1000563  1000563 \\nk__Bacteria\\np__Bacteroidetes\\nc__Ba...  \n",
       "1000563  1000563 \\nk__Bacteria\\np__Bacteroidetes\\nc__Ba...  "
      ]
     },
     "execution_count": 5,
     "metadata": {},
     "output_type": "execute_result"
    }
   ],
   "source": [
    "deseq_res = pd.read_csv('differential-analysis-results.csv', index_col=0)\n",
    "deseq_res.index = [str(i) for i in deseq_res.index]\n",
    "deseq_res.head(2)"
   ]
  },
  {
   "cell_type": "code",
   "execution_count": 6,
   "metadata": {},
   "outputs": [
    {
     "data": {
      "text/plain": [
       "(8439, 14)"
      ]
     },
     "execution_count": 6,
     "metadata": {},
     "output_type": "execute_result"
    }
   ],
   "source": [
    "deseq_res.shape"
   ]
  },
  {
   "cell_type": "code",
   "execution_count": 7,
   "metadata": {},
   "outputs": [
    {
     "data": {
      "text/plain": [
       "44"
      ]
     },
     "execution_count": 7,
     "metadata": {},
     "output_type": "execute_result"
    }
   ],
   "source": [
    "sig_cutoff = 0.01\n",
    "diff_otus = deseq_res.query('Study == \"Combined\" and padj <= %f' % sig_cutoff).index.tolist()\n",
    "len(diff_otus)"
   ]
  },
  {
   "cell_type": "markdown",
   "metadata": {},
   "source": [
    "## study-to-study prediction"
   ]
  },
  {
   "cell_type": "code",
   "execution_count": 44,
   "metadata": {
    "tags": []
   },
   "outputs": [],
   "source": [
    "roc_mat_fdr1 = pd.DataFrame(index=projects, columns=projects)\n",
    "for prj_a, prj_b in permutations(projects, 2):\n",
    "    exp_a = tab_f.filter_samples('project_ID', prj_a).filter_ids(diff_otus, axis='f')\n",
    "    exp_b = tab_f.filter_samples('project_ID', prj_b).filter_ids(diff_otus, axis='f')\n",
    "    a_cv_res, a_pred_b_res = A_pred_B(exp_a, exp_b) \n",
    "    roc_mat_fdr1.loc[prj_a, prj_a] = cal_roc(a_cv_res, cv=True, classes=['OSCC'])\n",
    "    roc_mat_fdr1.loc[prj_a, prj_b] = cal_roc(a_pred_b_res, cv=True, classes=['OSCC'])"
   ]
  },
  {
   "cell_type": "code",
   "execution_count": 45,
   "metadata": {},
   "outputs": [],
   "source": [
    "# add average row\n",
    "roc_mat_fdr1.loc['average', :] = roc_mat_fdr1.mean(axis=0)"
   ]
  },
  {
   "cell_type": "markdown",
   "metadata": {},
   "source": [
    "## leave-one-study-out prediction"
   ]
  },
  {
   "cell_type": "code",
   "execution_count": 46,
   "metadata": {},
   "outputs": [],
   "source": [
    "for prj in projects:\n",
    "    exp_a = tab_f.filter_samples('project_ID', prj, negate=True).filter_ids(diff_otus, axis='f')\n",
    "    exp_b = tab_f.filter_samples('project_ID', prj).filter_ids(diff_otus, axis='f')\n",
    "    a_pred_b_res = A_pred_B(exp_a, exp_b, self_validation=False) \n",
    "    roc_mat_fdr1.loc['leave-one-out', prj] = cal_roc(a_pred_b_res, cv=True, classes=['OSCC'])"
   ]
  },
  {
   "cell_type": "code",
   "execution_count": 47,
   "metadata": {},
   "outputs": [],
   "source": [
    "# add average column\n",
    "roc_mat_fdr1.loc[:, 'average'] = roc_mat_fdr1.mean(axis=1)"
   ]
  },
  {
   "cell_type": "code",
   "execution_count": 48,
   "metadata": {},
   "outputs": [],
   "source": [
    "roc_mat_fdr1.loc['average', 'average'] = np.diag(\n",
    "    roc_mat_fdr1.loc[projects, projects]).mean() "
   ]
  },
  {
   "cell_type": "code",
   "execution_count": 49,
   "metadata": {},
   "outputs": [
    {
     "data": {
      "text/html": [
       "<div>\n",
       "<style scoped>\n",
       "    .dataframe tbody tr th:only-of-type {\n",
       "        vertical-align: middle;\n",
       "    }\n",
       "\n",
       "    .dataframe tbody tr th {\n",
       "        vertical-align: top;\n",
       "    }\n",
       "\n",
       "    .dataframe thead th {\n",
       "        text-align: right;\n",
       "    }\n",
       "</style>\n",
       "<table border=\"1\" class=\"dataframe\">\n",
       "  <thead>\n",
       "    <tr style=\"text-align: right;\">\n",
       "      <th></th>\n",
       "      <th>OEP000837</th>\n",
       "      <th>PRJEB39064</th>\n",
       "      <th>PRJNA386665</th>\n",
       "      <th>PRJNA744870</th>\n",
       "      <th>PRJNA756784</th>\n",
       "      <th>PRJNA870048</th>\n",
       "      <th>average</th>\n",
       "    </tr>\n",
       "  </thead>\n",
       "  <tbody>\n",
       "    <tr>\n",
       "      <th>OEP000837</th>\n",
       "      <td>0.929933</td>\n",
       "      <td>0.778758</td>\n",
       "      <td>0.635764</td>\n",
       "      <td>0.69702</td>\n",
       "      <td>0.618619</td>\n",
       "      <td>0.776237</td>\n",
       "      <td>0.739388</td>\n",
       "    </tr>\n",
       "    <tr>\n",
       "      <th>PRJEB39064</th>\n",
       "      <td>0.879161</td>\n",
       "      <td>0.815318</td>\n",
       "      <td>0.674581</td>\n",
       "      <td>0.726712</td>\n",
       "      <td>0.770768</td>\n",
       "      <td>0.795086</td>\n",
       "      <td>0.776938</td>\n",
       "    </tr>\n",
       "    <tr>\n",
       "      <th>PRJNA386665</th>\n",
       "      <td>0.740839</td>\n",
       "      <td>0.709651</td>\n",
       "      <td>0.68665</td>\n",
       "      <td>0.730896</td>\n",
       "      <td>0.705037</td>\n",
       "      <td>0.764664</td>\n",
       "      <td>0.722956</td>\n",
       "    </tr>\n",
       "    <tr>\n",
       "      <th>PRJNA744870</th>\n",
       "      <td>0.898343</td>\n",
       "      <td>0.82507</td>\n",
       "      <td>0.668838</td>\n",
       "      <td>0.881353</td>\n",
       "      <td>0.854733</td>\n",
       "      <td>0.89089</td>\n",
       "      <td>0.836538</td>\n",
       "    </tr>\n",
       "    <tr>\n",
       "      <th>PRJNA756784</th>\n",
       "      <td>0.853764</td>\n",
       "      <td>0.84162</td>\n",
       "      <td>0.66715</td>\n",
       "      <td>0.79088</td>\n",
       "      <td>0.896616</td>\n",
       "      <td>0.808255</td>\n",
       "      <td>0.809714</td>\n",
       "    </tr>\n",
       "    <tr>\n",
       "      <th>PRJNA870048</th>\n",
       "      <td>0.924594</td>\n",
       "      <td>0.84624</td>\n",
       "      <td>0.702832</td>\n",
       "      <td>0.884952</td>\n",
       "      <td>0.871754</td>\n",
       "      <td>0.876117</td>\n",
       "      <td>0.851082</td>\n",
       "    </tr>\n",
       "    <tr>\n",
       "      <th>average</th>\n",
       "      <td>0.871106</td>\n",
       "      <td>0.802776</td>\n",
       "      <td>0.672636</td>\n",
       "      <td>0.785302</td>\n",
       "      <td>0.786255</td>\n",
       "      <td>0.818542</td>\n",
       "      <td>0.847664</td>\n",
       "    </tr>\n",
       "    <tr>\n",
       "      <th>leave-one-out</th>\n",
       "      <td>0.92551</td>\n",
       "      <td>0.860503</td>\n",
       "      <td>0.697398</td>\n",
       "      <td>0.86459</td>\n",
       "      <td>0.859189</td>\n",
       "      <td>0.91192</td>\n",
       "      <td>0.853185</td>\n",
       "    </tr>\n",
       "  </tbody>\n",
       "</table>\n",
       "</div>"
      ],
      "text/plain": [
       "              OEP000837 PRJEB39064 PRJNA386665 PRJNA744870 PRJNA756784  \\\n",
       "OEP000837      0.929933   0.778758    0.635764     0.69702    0.618619   \n",
       "PRJEB39064     0.879161   0.815318    0.674581    0.726712    0.770768   \n",
       "PRJNA386665    0.740839   0.709651     0.68665    0.730896    0.705037   \n",
       "PRJNA744870    0.898343    0.82507    0.668838    0.881353    0.854733   \n",
       "PRJNA756784    0.853764    0.84162     0.66715     0.79088    0.896616   \n",
       "PRJNA870048    0.924594    0.84624    0.702832    0.884952    0.871754   \n",
       "average        0.871106   0.802776    0.672636    0.785302    0.786255   \n",
       "leave-one-out   0.92551   0.860503    0.697398     0.86459    0.859189   \n",
       "\n",
       "              PRJNA870048   average  \n",
       "OEP000837        0.776237  0.739388  \n",
       "PRJEB39064       0.795086  0.776938  \n",
       "PRJNA386665      0.764664  0.722956  \n",
       "PRJNA744870       0.89089  0.836538  \n",
       "PRJNA756784      0.808255  0.809714  \n",
       "PRJNA870048      0.876117  0.851082  \n",
       "average          0.818542  0.847664  \n",
       "leave-one-out     0.91192  0.853185  "
      ]
     },
     "execution_count": 49,
     "metadata": {},
     "output_type": "execute_result"
    }
   ],
   "source": [
    "roc_mat_fdr1"
   ]
  },
  {
   "cell_type": "markdown",
   "metadata": {},
   "source": [
    "## heatmap"
   ]
  },
  {
   "cell_type": "code",
   "execution_count": 51,
   "metadata": {},
   "outputs": [],
   "source": [
    "data=pd.DataFrame(index=roc_mat_fdr1.index,\n",
    "                  columns=roc_mat_fdr1.columns,\n",
    "                  data=roc_mat_fdr1.values.astype(float)).round(2)"
   ]
  },
  {
   "cell_type": "code",
   "execution_count": 54,
   "metadata": {},
   "outputs": [
    {
     "data": {
      "image/png": "[encoded data removed]",
      "text/plain": [
       "<Figure size 720x720 with 2 Axes>"
      ]
     },
     "metadata": {
      "needs_background": "light"
     },
     "output_type": "display_data"
    }
   ],
   "source": [
    "fig,ax=plt.subplots(figsize=(10, 10)) \n",
    "sns.heatmap(data, annot=True, fmt='',cmap='YlGnBu_r',cbar=True,square=True,\n",
    "            cbar_kws={\"shrink\": 0.4 }, annot_kws={'size':14}, ax=ax)\n",
    "\n",
    "ax.xaxis.tick_top() \n",
    "ax.xaxis.set_label_position('top')\n",
    "ax.set_title('Classification using %d differential OTUs (FDR <= %.2f)' % (len(diff_otus), sig_cutoff), size=14)\n",
    "ax.set_ylabel('Training dataset', size=12)\n",
    "ax.set_xlabel('Test dataset', size=12)\n",
    "plt.setp(ax.get_xticklabels(), rotation=25, ha='left', size=12)\n",
    "plt.setp(ax.get_yticklabels(), size=12)\n",
    "# plt.savefig('figures-and-tables/OSCC-classification-results-using-fdr%.2f-differential-otus.pdf' % sig_cutoff,\n",
    "#             bbox_inches='tight')"
   ]
  },
  {
   "cell_type": "code",
   "execution_count": null,
   "metadata": {},
   "outputs": [],
   "source": []
  }
 ],
 "metadata": {
  "kernelspec": {
   "display_name": "qiime2-2022.2",
   "language": "python",
   "name": "qiime2-2022.2"
  },
  "language_info": {
   "codemirror_mode": {
    "name": "ipython",
    "version": 3
   },
   "file_extension": ".py",
   "mimetype": "text/x-python",
   "name": "python",
   "nbconvert_exporter": "python",
   "pygments_lexer": "ipython3",
   "version": "3.8.12"
  },
  "toc": {
   "base_numbering": 1,
   "nav_menu": {},
   "number_sections": true,
   "sideBar": true,
   "skip_h1_title": false,
   "title_cell": "Table of Contents",
   "title_sidebar": "Contents",
   "toc_cell": false,
   "toc_position": {
    "height": "calc(100% - 180px)",
    "left": "10px",
    "top": "150px",
    "width": "224.711px"
   },
   "toc_section_display": true,
   "toc_window_display": true
  },
  "toc-autonumbering": true
 },
 "nbformat": 4,
 "nbformat_minor": 4
}
