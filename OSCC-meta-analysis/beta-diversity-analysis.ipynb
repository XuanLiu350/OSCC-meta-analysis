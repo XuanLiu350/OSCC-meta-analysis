{
 "cells": [
  {
   "cell_type": "code",
   "execution_count": 17,
   "id": "bbc3822b-f94a-4d86-884a-0437918dafd2",
   "metadata": {
    "tags": []
   },
   "outputs": [
    {
     "ename": "ERROR",
     "evalue": "Error in library(MicrobeR): there is no package called ‘MicrobeR’\n",
     "output_type": "error",
     "traceback": [
      "Error in library(MicrobeR): there is no package called ‘MicrobeR’\nTraceback:\n",
      "1. library(MicrobeR)"
     ]
    }
   ],
   "source": [
    "library(vegan)\n",
    "library(ggplot2)\n",
    "library(tidyverse)\n",
    "library(MicrobeR)"
   ]
  },
  {
   "cell_type": "code",
   "execution_count": 2,
   "id": "67d1c232-03d9-499b-8fa9-8d656e1854b2",
   "metadata": {},
   "outputs": [],
   "source": [
    "bc=read.csv('braycurtis-distance-matrix.tsv',sep='\\t',row.names=1,check.names=FALSE)\n",
    "jaccard=read.csv('beta-diversity-metrics/jaccard-distance-matrix.tsv',sep='\\t',row.names=1,check.names=FALSE)\n",
    "unweightUF=read.csv('beta-diversity-metrics/unweighted_unifrac-distance-matrix.tsv',sep='\\t',row.names=1,check.names=FALSE)\n",
    "weightUF=read.csv('beta-diversity-metrics/weighted_unifrac-distance-matrix.tsv',sep='\\t',row.names=1,check.names=FALSE)"
   ]
  },
  {
   "cell_type": "code",
   "execution_count": 3,
   "id": "d152c2cd-a538-4011-b573-fc9341645410",
   "metadata": {},
   "outputs": [
    {
     "data": {
      "text/html": [
       "<style>\n",
       ".list-inline {list-style: none; margin:0; padding: 0}\n",
       ".list-inline>li {display: inline-block}\n",
       ".list-inline>li:not(:last-child)::after {content: \"\\00b7\"; padding: 0 .5ex}\n",
       "</style>\n",
       "<ol class=list-inline><li>1059</li><li>1059</li></ol>\n"
      ],
      "text/latex": [
       "\\begin{enumerate*}\n",
       "\\item 1059\n",
       "\\item 1059\n",
       "\\end{enumerate*}\n"
      ],
      "text/markdown": [
       "1. 1059\n",
       "2. 1059\n",
       "\n",
       "\n"
      ],
      "text/plain": [
       "[1] 1059 1059"
      ]
     },
     "metadata": {},
     "output_type": "display_data"
    }
   ],
   "source": [
    "dim(bc)"
   ]
  },
  {
   "cell_type": "code",
   "execution_count": 4,
   "id": "9db17a15-c67e-4084-baa7-07f574084b17",
   "metadata": {},
   "outputs": [
    {
     "data": {
      "text/html": [
       "<table class=\"dataframe\">\n",
       "<caption>A data.frame: 2 × 1059</caption>\n",
       "<thead>\n",
       "\t<tr><th></th><th scope=col>SRR21105746</th><th scope=col>SRR6110936</th><th scope=col>SRR5559431</th><th scope=col>SRR5559472</th><th scope=col>SRR15720152</th><th scope=col>SRR5559561</th><th scope=col>SRR5559709</th><th scope=col>ERR4586659</th><th scope=col>SRR18270619</th><th scope=col>SRR15560942</th><th scope=col>⋯</th><th scope=col>SRR21105889</th><th scope=col>SRR15720113</th><th scope=col>SRR5559704</th><th scope=col>SRR21105663</th><th scope=col>SRR21105661</th><th scope=col>SRR5559396</th><th scope=col>ERR4296678</th><th scope=col>SRR21105769</th><th scope=col>SRR15719945</th><th scope=col>SRR5559429</th></tr>\n",
       "\t<tr><th></th><th scope=col>&lt;dbl&gt;</th><th scope=col>&lt;dbl&gt;</th><th scope=col>&lt;dbl&gt;</th><th scope=col>&lt;dbl&gt;</th><th scope=col>&lt;dbl&gt;</th><th scope=col>&lt;dbl&gt;</th><th scope=col>&lt;dbl&gt;</th><th scope=col>&lt;dbl&gt;</th><th scope=col>&lt;dbl&gt;</th><th scope=col>&lt;dbl&gt;</th><th scope=col>⋯</th><th scope=col>&lt;dbl&gt;</th><th scope=col>&lt;dbl&gt;</th><th scope=col>&lt;dbl&gt;</th><th scope=col>&lt;dbl&gt;</th><th scope=col>&lt;dbl&gt;</th><th scope=col>&lt;dbl&gt;</th><th scope=col>&lt;dbl&gt;</th><th scope=col>&lt;dbl&gt;</th><th scope=col>&lt;dbl&gt;</th><th scope=col>&lt;dbl&gt;</th></tr>\n",
       "</thead>\n",
       "<tbody>\n",
       "\t<tr><th scope=row>SRR21105746</th><td>0.0000000</td><td>0.3847364</td><td>0.4850511</td><td>0.2866135</td><td>0.4816230</td><td>0.2956615</td><td>0.3264584</td><td>0.7707654</td><td>0.3575362</td><td>0.4529617</td><td>⋯</td><td>0.5481061</td><td>0.4568394</td><td>0.4972463</td><td>0.518096</td><td>0.8794537</td><td>0.2874002</td><td>0.5728897</td><td>0.5814881</td><td>0.3849612</td><td>0.5261886</td></tr>\n",
       "\t<tr><th scope=row>SRR6110936</th><td>0.3847364</td><td>0.0000000</td><td>0.3876588</td><td>0.2591885</td><td>0.4958975</td><td>0.1956839</td><td>0.2188940</td><td>0.7091716</td><td>0.2354164</td><td>0.5600202</td><td>⋯</td><td>0.4244689</td><td>0.5338316</td><td>0.3940654</td><td>0.527144</td><td>0.8819827</td><td>0.2627852</td><td>0.5002810</td><td>0.5552433</td><td>0.4466674</td><td>0.4294706</td></tr>\n",
       "</tbody>\n",
       "</table>\n"
      ],
      "text/latex": [
       "A data.frame: 2 × 1059\n",
       "\\begin{tabular}{r|lllllllllllllllllllll}\n",
       "  & SRR21105746 & SRR6110936 & SRR5559431 & SRR5559472 & SRR15720152 & SRR5559561 & SRR5559709 & ERR4586659 & SRR18270619 & SRR15560942 & ⋯ & SRR21105889 & SRR15720113 & SRR5559704 & SRR21105663 & SRR21105661 & SRR5559396 & ERR4296678 & SRR21105769 & SRR15719945 & SRR5559429\\\\\n",
       "  & <dbl> & <dbl> & <dbl> & <dbl> & <dbl> & <dbl> & <dbl> & <dbl> & <dbl> & <dbl> & ⋯ & <dbl> & <dbl> & <dbl> & <dbl> & <dbl> & <dbl> & <dbl> & <dbl> & <dbl> & <dbl>\\\\\n",
       "\\hline\n",
       "\tSRR21105746 & 0.0000000 & 0.3847364 & 0.4850511 & 0.2866135 & 0.4816230 & 0.2956615 & 0.3264584 & 0.7707654 & 0.3575362 & 0.4529617 & ⋯ & 0.5481061 & 0.4568394 & 0.4972463 & 0.518096 & 0.8794537 & 0.2874002 & 0.5728897 & 0.5814881 & 0.3849612 & 0.5261886\\\\\n",
       "\tSRR6110936 & 0.3847364 & 0.0000000 & 0.3876588 & 0.2591885 & 0.4958975 & 0.1956839 & 0.2188940 & 0.7091716 & 0.2354164 & 0.5600202 & ⋯ & 0.4244689 & 0.5338316 & 0.3940654 & 0.527144 & 0.8819827 & 0.2627852 & 0.5002810 & 0.5552433 & 0.4466674 & 0.4294706\\\\\n",
       "\\end{tabular}\n"
      ],
      "text/markdown": [
       "\n",
       "A data.frame: 2 × 1059\n",
       "\n",
       "| <!--/--> | SRR21105746 &lt;dbl&gt; | SRR6110936 &lt;dbl&gt; | SRR5559431 &lt;dbl&gt; | SRR5559472 &lt;dbl&gt; | SRR15720152 &lt;dbl&gt; | SRR5559561 &lt;dbl&gt; | SRR5559709 &lt;dbl&gt; | ERR4586659 &lt;dbl&gt; | SRR18270619 &lt;dbl&gt; | SRR15560942 &lt;dbl&gt; | ⋯ ⋯ | SRR21105889 &lt;dbl&gt; | SRR15720113 &lt;dbl&gt; | SRR5559704 &lt;dbl&gt; | SRR21105663 &lt;dbl&gt; | SRR21105661 &lt;dbl&gt; | SRR5559396 &lt;dbl&gt; | ERR4296678 &lt;dbl&gt; | SRR21105769 &lt;dbl&gt; | SRR15719945 &lt;dbl&gt; | SRR5559429 &lt;dbl&gt; |\n",
       "|---|---|---|---|---|---|---|---|---|---|---|---|---|---|---|---|---|---|---|---|---|---|\n",
       "| SRR21105746 | 0.0000000 | 0.3847364 | 0.4850511 | 0.2866135 | 0.4816230 | 0.2956615 | 0.3264584 | 0.7707654 | 0.3575362 | 0.4529617 | ⋯ | 0.5481061 | 0.4568394 | 0.4972463 | 0.518096 | 0.8794537 | 0.2874002 | 0.5728897 | 0.5814881 | 0.3849612 | 0.5261886 |\n",
       "| SRR6110936 | 0.3847364 | 0.0000000 | 0.3876588 | 0.2591885 | 0.4958975 | 0.1956839 | 0.2188940 | 0.7091716 | 0.2354164 | 0.5600202 | ⋯ | 0.4244689 | 0.5338316 | 0.3940654 | 0.527144 | 0.8819827 | 0.2627852 | 0.5002810 | 0.5552433 | 0.4466674 | 0.4294706 |\n",
       "\n"
      ],
      "text/plain": [
       "            SRR21105746 SRR6110936 SRR5559431 SRR5559472 SRR15720152 SRR5559561\n",
       "SRR21105746 0.0000000   0.3847364  0.4850511  0.2866135  0.4816230   0.2956615 \n",
       "SRR6110936  0.3847364   0.0000000  0.3876588  0.2591885  0.4958975   0.1956839 \n",
       "            SRR5559709 ERR4586659 SRR18270619 SRR15560942 ⋯ SRR21105889\n",
       "SRR21105746 0.3264584  0.7707654  0.3575362   0.4529617   ⋯ 0.5481061  \n",
       "SRR6110936  0.2188940  0.7091716  0.2354164   0.5600202   ⋯ 0.4244689  \n",
       "            SRR15720113 SRR5559704 SRR21105663 SRR21105661 SRR5559396\n",
       "SRR21105746 0.4568394   0.4972463  0.518096    0.8794537   0.2874002 \n",
       "SRR6110936  0.5338316   0.3940654  0.527144    0.8819827   0.2627852 \n",
       "            ERR4296678 SRR21105769 SRR15719945 SRR5559429\n",
       "SRR21105746 0.5728897  0.5814881   0.3849612   0.5261886 \n",
       "SRR6110936  0.5002810  0.5552433   0.4466674   0.4294706 "
      ]
     },
     "metadata": {},
     "output_type": "display_data"
    }
   ],
   "source": [
    "# head(bc,2)"
   ]
  },
  {
   "cell_type": "code",
   "execution_count": 5,
   "id": "b856e7e7-a277-4f0a-9b11-f3928c1704a8",
   "metadata": {
    "tags": []
   },
   "outputs": [
    {
     "data": {
      "text/html": [
       "<table class=\"dataframe\">\n",
       "<caption>A data.frame: 2 × 36</caption>\n",
       "<thead>\n",
       "\t<tr><th></th><th scope=col>sample_type</th><th scope=col>project_ID</th><th scope=col>sequencing_region</th><th scope=col>diagnose</th><th scope=col>age</th><th scope=col>gender</th><th scope=col>BMI</th><th scope=col>tumor_site</th><th scope=col>T_stage</th><th scope=col>N_stage</th><th scope=col>⋯</th><th scope=col>sequencing_region_merge</th><th scope=col>host_replicates</th><th scope=col>treatment_yn</th><th scope=col>replicate_2</th><th scope=col>HNSCC</th><th scope=col>_sample_id</th><th scope=col>_calour_original_abundance</th><th scope=col>observed_features</th><th scope=col>shannon_entropy</th><th scope=col>faith_pd</th></tr>\n",
       "\t<tr><th></th><th scope=col>&lt;chr&gt;</th><th scope=col>&lt;chr&gt;</th><th scope=col>&lt;chr&gt;</th><th scope=col>&lt;chr&gt;</th><th scope=col>&lt;dbl&gt;</th><th scope=col>&lt;chr&gt;</th><th scope=col>&lt;dbl&gt;</th><th scope=col>&lt;chr&gt;</th><th scope=col>&lt;chr&gt;</th><th scope=col>&lt;chr&gt;</th><th scope=col>⋯</th><th scope=col>&lt;chr&gt;</th><th scope=col>&lt;chr&gt;</th><th scope=col>&lt;chr&gt;</th><th scope=col>&lt;chr&gt;</th><th scope=col>&lt;chr&gt;</th><th scope=col>&lt;chr&gt;</th><th scope=col>&lt;dbl&gt;</th><th scope=col>&lt;int&gt;</th><th scope=col>&lt;dbl&gt;</th><th scope=col>&lt;dbl&gt;</th></tr>\n",
       "</thead>\n",
       "<tbody>\n",
       "\t<tr><th scope=row>SRR21105746</th><td>Oral_rinse</td><td>PRJNA870048</td><td>V3-V4</td><td>OSCC</td><td>63</td><td>M</td><td>NA</td><td>tongue</td><td>  </td><td> </td><td>⋯</td><td>V3-V4</td><td></td><td></td><td></td><td></td><td>SRR21105746</td><td> 48812</td><td>184</td><td>3.804584</td><td>16.04912</td></tr>\n",
       "\t<tr><th scope=row>SRR6110936</th><td>Saliva    </td><td>PRJNA412445</td><td>V4-V5</td><td>OSCC</td><td>63</td><td>F</td><td>NA</td><td>      </td><td>II</td><td>0</td><td>⋯</td><td>V4-V5</td><td></td><td></td><td></td><td></td><td>SRR6110936 </td><td>113189</td><td>177</td><td>4.731407</td><td>18.01963</td></tr>\n",
       "</tbody>\n",
       "</table>\n"
      ],
      "text/latex": [
       "A data.frame: 2 × 36\n",
       "\\begin{tabular}{r|lllllllllllllllllllll}\n",
       "  & sample\\_type & project\\_ID & sequencing\\_region & diagnose & age & gender & BMI & tumor\\_site & T\\_stage & N\\_stage & ⋯ & sequencing\\_region\\_merge & host\\_replicates & treatment\\_yn & replicate\\_2 & HNSCC & \\_sample\\_id & \\_calour\\_original\\_abundance & observed\\_features & shannon\\_entropy & faith\\_pd\\\\\n",
       "  & <chr> & <chr> & <chr> & <chr> & <dbl> & <chr> & <dbl> & <chr> & <chr> & <chr> & ⋯ & <chr> & <chr> & <chr> & <chr> & <chr> & <chr> & <dbl> & <int> & <dbl> & <dbl>\\\\\n",
       "\\hline\n",
       "\tSRR21105746 & Oral\\_rinse & PRJNA870048 & V3-V4 & OSCC & 63 & M & NA & tongue &    &   & ⋯ & V3-V4 &  &  &  &  & SRR21105746 &  48812 & 184 & 3.804584 & 16.04912\\\\\n",
       "\tSRR6110936 & Saliva     & PRJNA412445 & V4-V5 & OSCC & 63 & F & NA &        & II & 0 & ⋯ & V4-V5 &  &  &  &  & SRR6110936  & 113189 & 177 & 4.731407 & 18.01963\\\\\n",
       "\\end{tabular}\n"
      ],
      "text/markdown": [
       "\n",
       "A data.frame: 2 × 36\n",
       "\n",
       "| <!--/--> | sample_type &lt;chr&gt; | project_ID &lt;chr&gt; | sequencing_region &lt;chr&gt; | diagnose &lt;chr&gt; | age &lt;dbl&gt; | gender &lt;chr&gt; | BMI &lt;dbl&gt; | tumor_site &lt;chr&gt; | T_stage &lt;chr&gt; | N_stage &lt;chr&gt; | ⋯ ⋯ | sequencing_region_merge &lt;chr&gt; | host_replicates &lt;chr&gt; | treatment_yn &lt;chr&gt; | replicate_2 &lt;chr&gt; | HNSCC &lt;chr&gt; | _sample_id &lt;chr&gt; | _calour_original_abundance &lt;dbl&gt; | observed_features &lt;int&gt; | shannon_entropy &lt;dbl&gt; | faith_pd &lt;dbl&gt; |\n",
       "|---|---|---|---|---|---|---|---|---|---|---|---|---|---|---|---|---|---|---|---|---|---|\n",
       "| SRR21105746 | Oral_rinse | PRJNA870048 | V3-V4 | OSCC | 63 | M | NA | tongue | <!----> | <!----> | ⋯ | V3-V4 | <!----> | <!----> | <!----> | <!----> | SRR21105746 |  48812 | 184 | 3.804584 | 16.04912 |\n",
       "| SRR6110936 | Saliva     | PRJNA412445 | V4-V5 | OSCC | 63 | F | NA | <!----> | II | 0 | ⋯ | V4-V5 | <!----> | <!----> | <!----> | <!----> | SRR6110936  | 113189 | 177 | 4.731407 | 18.01963 |\n",
       "\n"
      ],
      "text/plain": [
       "            sample_type project_ID  sequencing_region diagnose age gender BMI\n",
       "SRR21105746 Oral_rinse  PRJNA870048 V3-V4             OSCC     63  M      NA \n",
       "SRR6110936  Saliva      PRJNA412445 V4-V5             OSCC     63  F      NA \n",
       "            tumor_site T_stage N_stage ⋯ sequencing_region_merge\n",
       "SRR21105746 tongue                     ⋯ V3-V4                  \n",
       "SRR6110936             II      0       ⋯ V4-V5                  \n",
       "            host_replicates treatment_yn replicate_2 HNSCC _sample_id \n",
       "SRR21105746                                                SRR21105746\n",
       "SRR6110936                                                 SRR6110936 \n",
       "            _calour_original_abundance observed_features shannon_entropy\n",
       "SRR21105746  48812                     184               3.804584       \n",
       "SRR6110936  113189                     177               4.731407       \n",
       "            faith_pd\n",
       "SRR21105746 16.04912\n",
       "SRR6110936  18.01963"
      ]
     },
     "metadata": {},
     "output_type": "display_data"
    }
   ],
   "source": [
    "md <- read.csv('metadata.txt',\n",
    "               row.names=1, sep='\\t', check.names=FALSE) \n",
    "# head(md,2)"
   ]
  },
  {
   "cell_type": "code",
   "execution_count": 6,
   "id": "d6491a5a-4690-4892-b5bd-1a653cc2c33d",
   "metadata": {},
   "outputs": [
    {
     "data": {
      "text/plain": [
       "\n",
       "  OEP000837  PRJEB37501  PRJEB39064 PRJNA386665 PRJNA412445 PRJNA421234 \n",
       "         44          73          73         374          17          21 \n",
       "PRJNA666891 PRJNA700849 PRJNA744870 PRJNA751046 PRJNA756784 PRJNA813634 \n",
       "         12          10         152          18          59          25 \n",
       "PRJNA870048 \n",
       "        181 "
      ]
     },
     "metadata": {},
     "output_type": "display_data"
    }
   ],
   "source": [
    "table(md$project_ID)"
   ]
  },
  {
   "cell_type": "code",
   "execution_count": 7,
   "id": "70a39b8b-b08c-464b-9ef7-3bc9b367aee6",
   "metadata": {},
   "outputs": [],
   "source": [
    "beta_stat <- function(p,dis,c1,c2){\n",
    "    As <- list()\n",
    "    s_md <- subset(md,project_ID==p) %>% subset(diagnose==c1 | diagnose==c2)\n",
    "    sample_ids=intersect(row.names(s_md),row.names(dis))\n",
    "    s_md <- s_md[sample_ids,]\n",
    "    distance <- dis[sample_ids,sample_ids]\n",
    "    \n",
    "    adnonis_res <- adonis(distance ~ diagnose, data = s_md, permutations = 9999)$aov.tab\n",
    "    return(adnonis_res)\n",
    "}"
   ]
  },
  {
   "cell_type": "markdown",
   "id": "cf09a125-65f5-4ea1-957e-b46aa511a87e",
   "metadata": {},
   "source": [
    "# healthy_control vs OSCC"
   ]
  },
  {
   "cell_type": "code",
   "execution_count": 8,
   "id": "40cab0c9-9914-4583-811b-da65d92ae38e",
   "metadata": {},
   "outputs": [],
   "source": [
    "projects=c('OEP000837','PRJEB39064','PRJNA386665','PRJNA421234','PRJNA700849','PRJNA744870',\n",
    "          'PRJNA751046','PRJNA756784','PRJNA870048')"
   ]
  },
  {
   "cell_type": "markdown",
   "id": "4fd45165-1b65-411f-86eb-53e82cf37c8f",
   "metadata": {},
   "source": [
    "## calculation within each dataset"
   ]
  },
  {
   "cell_type": "code",
   "execution_count": 9,
   "id": "c81ec159-076c-4fa1-8b8d-78a138e12fcf",
   "metadata": {},
   "outputs": [],
   "source": [
    "distance_metric <- list(bc,jaccard,weightUF,unweightUF)\n",
    "distance_str <- c('Bray Curtis','Jaccard','Weighted UniFrac','Unweighted UniFrac')"
   ]
  },
  {
   "cell_type": "code",
   "execution_count": 10,
   "id": "6608fa96-c1dc-4ece-87cb-c486e640366b",
   "metadata": {
    "collapsed": true,
    "jupyter": {
     "outputs_hidden": true
    },
    "tags": []
   },
   "outputs": [
    {
     "name": "stderr",
     "output_type": "stream",
     "text": [
      "'adonis' will be deprecated: use 'adonis2' instead\n",
      "\n",
      "'adonis' will be deprecated: use 'adonis2' instead\n",
      "\n",
      "'adonis' will be deprecated: use 'adonis2' instead\n",
      "\n",
      "'adonis' will be deprecated: use 'adonis2' instead\n",
      "\n",
      "'adonis' will be deprecated: use 'adonis2' instead\n",
      "\n",
      "'adonis' will be deprecated: use 'adonis2' instead\n",
      "\n",
      "'adonis' will be deprecated: use 'adonis2' instead\n",
      "\n",
      "'adonis' will be deprecated: use 'adonis2' instead\n",
      "\n",
      "'adonis' will be deprecated: use 'adonis2' instead\n",
      "\n",
      "'adonis' will be deprecated: use 'adonis2' instead\n",
      "\n",
      "'adonis' will be deprecated: use 'adonis2' instead\n",
      "\n",
      "'adonis' will be deprecated: use 'adonis2' instead\n",
      "\n",
      "'adonis' will be deprecated: use 'adonis2' instead\n",
      "\n",
      "'adonis' will be deprecated: use 'adonis2' instead\n",
      "\n",
      "'adonis' will be deprecated: use 'adonis2' instead\n",
      "\n",
      "'adonis' will be deprecated: use 'adonis2' instead\n",
      "\n",
      "'adonis' will be deprecated: use 'adonis2' instead\n",
      "\n",
      "'adonis' will be deprecated: use 'adonis2' instead\n",
      "\n",
      "'adonis' will be deprecated: use 'adonis2' instead\n",
      "\n",
      "'adonis' will be deprecated: use 'adonis2' instead\n",
      "\n",
      "'adonis' will be deprecated: use 'adonis2' instead\n",
      "\n",
      "'adonis' will be deprecated: use 'adonis2' instead\n",
      "\n",
      "'adonis' will be deprecated: use 'adonis2' instead\n",
      "\n",
      "'adonis' will be deprecated: use 'adonis2' instead\n",
      "\n",
      "'adonis' will be deprecated: use 'adonis2' instead\n",
      "\n",
      "'adonis' will be deprecated: use 'adonis2' instead\n",
      "\n",
      "'adonis' will be deprecated: use 'adonis2' instead\n",
      "\n",
      "'adonis' will be deprecated: use 'adonis2' instead\n",
      "\n",
      "'adonis' will be deprecated: use 'adonis2' instead\n",
      "\n",
      "'adonis' will be deprecated: use 'adonis2' instead\n",
      "\n",
      "'adonis' will be deprecated: use 'adonis2' instead\n",
      "\n",
      "'adonis' will be deprecated: use 'adonis2' instead\n",
      "\n",
      "'adonis' will be deprecated: use 'adonis2' instead\n",
      "\n",
      "'adonis' will be deprecated: use 'adonis2' instead\n",
      "\n",
      "'adonis' will be deprecated: use 'adonis2' instead\n",
      "\n",
      "'adonis' will be deprecated: use 'adonis2' instead\n",
      "\n"
     ]
    }
   ],
   "source": [
    "set.seed(1)\n",
    "PerStudy_beta<-list()\n",
    "for (i in 1:length(distance_metric)){\n",
    "    dis <- distance_metric[[i]]\n",
    "    dis_str <- distance_str[i]\n",
    "\n",
    "    for(p in projects){        \n",
    "        PerStudy_beta[[dis_str]][[p]]<-beta_stat(p,dis,'Healthy_control','OSCC')\n",
    "   }\n",
    "}"
   ]
  },
  {
   "cell_type": "code",
   "execution_count": 14,
   "id": "ce6c2441-13c4-49d4-918a-d3a1b75c98bf",
   "metadata": {},
   "outputs": [],
   "source": [
    "# PerStudy_beta$`Bray Curtis`$OEP000837"
   ]
  },
  {
   "cell_type": "code",
   "execution_count": 11,
   "id": "73cf7c23-b19f-4af4-bc75-600b4755706a",
   "metadata": {},
   "outputs": [],
   "source": [
    "data <- data.frame()\n",
    "\n",
    "for (dis_str in distance_str){\n",
    "   diag_res <- data.frame(row.names=projects) \n",
    "   for (p in projects){       \n",
    "       diag_res[p,1] <- PerStudy_beta[[dis_str]][[p]]['diagnose','R2']\n",
    "       diag_res[p,2] <- PerStudy_beta[[dis_str]][[p]]['diagnose','Pr(>F)'] \n",
    "   }   \n",
    "   names(diag_res) <- c('R2','pvalue')\n",
    "   diag_res['study']<-row.names(diag_res)\n",
    "   diag_res['metric'] <- dis_str\n",
    "   data <- rbind(data, diag_res)\n",
    "}"
   ]
  },
  {
   "cell_type": "code",
   "execution_count": 16,
   "id": "fc1d4317-e048-46f8-8d54-ecb0c20b4e41",
   "metadata": {},
   "outputs": [],
   "source": [
    "# data"
   ]
  },
  {
   "cell_type": "markdown",
   "id": "d073cd61-4c66-41e2-8c6d-22f84bec21bc",
   "metadata": {},
   "source": [
    "## combined results"
   ]
  },
  {
   "cell_type": "code",
   "execution_count": 12,
   "id": "16ed7221-95db-42f2-8d07-8e0b25d1aea3",
   "metadata": {
    "collapsed": true,
    "jupyter": {
     "outputs_hidden": true
    },
    "tags": []
   },
   "outputs": [
    {
     "name": "stderr",
     "output_type": "stream",
     "text": [
      "'adonis' will be deprecated: use 'adonis2' instead\n",
      "\n",
      "'adonis' will be deprecated: use 'adonis2' instead\n",
      "\n",
      "'adonis' will be deprecated: use 'adonis2' instead\n",
      "\n",
      "'adonis' will be deprecated: use 'adonis2' instead\n",
      "\n"
     ]
    }
   ],
   "source": [
    "# combined \n",
    "mtd <- subset(md,project_ID %in% projects) %>% \n",
    "subset(diagnose == 'Healthy_control'| diagnose == 'OSCC')\n",
    "\n",
    "df <- data.frame()\n",
    "for (i in 1:length(distance_metric)){\n",
    "    dis <- distance_metric[[i]]\n",
    "    dis_str <- distance_str[i]\n",
    "    \n",
    "    sample_ids = intersect(row.names(mtd),row.names(dis))\n",
    "    s_md <- mtd[sample_ids,]\n",
    "    distance <- dis[sample_ids,sample_ids]\n",
    "    adnonis_res <- adonis(distance ~ diagnose, permutations = 9999,\n",
    "                          strata=s_md$project_ID,data = s_md)$aov.tab\n",
    "    R2 <- adnonis_res['diagnose','R2']\n",
    "    pvalue <- adnonis_res['diagnose','Pr(>F)']\n",
    "    l <- data.frame('R2'=R2,'pvalue'=pvalue,'study'='Combined','metric'=dis_str)\n",
    "    df <- rbind(df, l)\n",
    "    \n",
    "}"
   ]
  },
  {
   "cell_type": "code",
   "execution_count": 13,
   "id": "f8617c3b-f8bc-42c1-8a47-549f82025426",
   "metadata": {},
   "outputs": [],
   "source": [
    "hg <- rbind(data,df) %>% mutate(Compare='Healthy control versus OSCC') %>% \n",
    "mutate(Pvalue=case_when(\n",
    "    pvalue < 0.05 ~ 'P < 0.05',  \n",
    "    TRUE~\"ns\"))"
   ]
  },
  {
   "cell_type": "markdown",
   "id": "a3a29873-e097-4fac-97c9-2eb21ac223de",
   "metadata": {},
   "source": [
    "## visualization"
   ]
  },
  {
   "cell_type": "code",
   "execution_count": 14,
   "id": "d1d5cdc6-6123-4900-b22e-0863f72d1167",
   "metadata": {},
   "outputs": [],
   "source": [
    "cols <- c(\"#E69F00\",\n",
    "         \"#0072B2\",\n",
    "         \"#D6604D\",\n",
    "         \"#7570B3\")"
   ]
  },
  {
   "cell_type": "code",
   "execution_count": 15,
   "id": "6a4d4da7-82a8-41d4-b022-7f751550a1ab",
   "metadata": {},
   "outputs": [
    {
     "ename": "ERROR",
     "evalue": "Error in theme_MicrobeR(): could not find function \"theme_MicrobeR\"\n",
     "output_type": "error",
     "traceback": [
      "Error in theme_MicrobeR(): could not find function \"theme_MicrobeR\"\nTraceback:\n"
     ]
    }
   ],
   "source": [
    "ggplot(data = hg, aes(x = R2, y =study, color=metric)) + \n",
    "geom_point(aes(shape =Pvalue),size=2) +\n",
    "theme_MicrobeR() +\n",
    "theme(panel.border = element_blank(), axis.line = element_line())+ \n",
    "theme(axis.text.x = element_text(angle = 30, hjust = 1), \n",
    "        panel.grid = element_blank(), \n",
    "        axis.text = element_text(size = 10,colour = 'black'), \n",
    "        axis.title = element_text(size = 10),\n",
    "        plot.title = element_text(size = 10,hjust = 0.5),\n",
    "      legend.title = element_text(size = 10),\n",
    "      legend.text = element_text(size = 8),\n",
    "     plot.margin=unit(rep(2,4),'lines'))+scale_color_manual(values=cols)+\n",
    "labs(title = 'Healthy control vs OSCC',y='') #\n",
    "# ggsave(\"figures-and-tables/adonis-healthy-control-vs-OSCC.pdf\", \n",
    "#        device=\"pdf\", height=5, width=5.2, useDingbats=F)"
   ]
  },
  {
   "cell_type": "code",
   "execution_count": null,
   "id": "b0df0534-a81a-4b6f-9efc-d16ff7d946b3",
   "metadata": {},
   "outputs": [],
   "source": []
  },
  {
   "cell_type": "code",
   "execution_count": null,
   "id": "53778e7b-715e-46ab-a39e-f982324b8883",
   "metadata": {},
   "outputs": [],
   "source": []
  }
 ],
 "metadata": {
  "kernelspec": {
   "display_name": "R",
   "language": "R",
   "name": "ir"
  },
  "language_info": {
   "codemirror_mode": "r",
   "file_extension": ".r",
   "mimetype": "text/x-r-source",
   "name": "R",
   "pygments_lexer": "r",
   "version": "4.3.1"
  }
 },
 "nbformat": 4,
 "nbformat_minor": 5
}
