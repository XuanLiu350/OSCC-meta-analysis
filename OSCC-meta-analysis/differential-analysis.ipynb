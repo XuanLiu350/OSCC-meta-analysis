{
 "cells": [
  {
   "cell_type": "code",
   "execution_count": 1,
   "id": "89642490-1f40-4f38-82bc-b821c4c1b73d",
   "metadata": {
    "collapsed": true,
    "jupyter": {
     "outputs_hidden": true
    },
    "tags": []
   },
   "outputs": [
    {
     "name": "stderr",
     "output_type": "stream",
     "text": [
      "Loading required package: S4Vectors\n",
      "\n",
      "Loading required package: stats4\n",
      "\n",
      "Loading required package: BiocGenerics\n",
      "\n",
      "Loading required package: parallel\n",
      "\n",
      "\n",
      "Attaching package: ‘BiocGenerics’\n",
      "\n",
      "\n",
      "The following objects are masked from ‘package:parallel’:\n",
      "\n",
      "    clusterApply, clusterApplyLB, clusterCall, clusterEvalQ,\n",
      "    clusterExport, clusterMap, parApply, parCapply, parLapply,\n",
      "    parLapplyLB, parRapply, parSapply, parSapplyLB\n",
      "\n",
      "\n",
      "The following objects are masked from ‘package:stats’:\n",
      "\n",
      "    IQR, mad, sd, var, xtabs\n",
      "\n",
      "\n",
      "The following objects are masked from ‘package:base’:\n",
      "\n",
      "    anyDuplicated, append, as.data.frame, basename, cbind, colnames,\n",
      "    dirname, do.call, duplicated, eval, evalq, Filter, Find, get, grep,\n",
      "    grepl, intersect, is.unsorted, lapply, Map, mapply, match, mget,\n",
      "    order, paste, pmax, pmax.int, pmin, pmin.int, Position, rank,\n",
      "    rbind, Reduce, rownames, sapply, setdiff, sort, table, tapply,\n",
      "    union, unique, unsplit, which, which.max, which.min\n",
      "\n",
      "\n",
      "\n",
      "Attaching package: ‘S4Vectors’\n",
      "\n",
      "\n",
      "The following object is masked from ‘package:base’:\n",
      "\n",
      "    expand.grid\n",
      "\n",
      "\n",
      "Loading required package: IRanges\n",
      "\n",
      "Loading required package: GenomicRanges\n",
      "\n",
      "Loading required package: GenomeInfoDb\n",
      "\n",
      "Loading required package: SummarizedExperiment\n",
      "\n",
      "Loading required package: Biobase\n",
      "\n",
      "Welcome to Bioconductor\n",
      "\n",
      "    Vignettes contain introductory material; view with\n",
      "    'browseVignettes()'. To cite Bioconductor, see\n",
      "    'citation(\"Biobase\")', and for packages 'citation(\"pkgname\")'.\n",
      "\n",
      "\n",
      "Loading required package: DelayedArray\n",
      "\n",
      "Loading required package: matrixStats\n",
      "\n",
      "\n",
      "Attaching package: ‘matrixStats’\n",
      "\n",
      "\n",
      "The following objects are masked from ‘package:Biobase’:\n",
      "\n",
      "    anyMissing, rowMedians\n",
      "\n",
      "\n",
      "\n",
      "Attaching package: ‘DelayedArray’\n",
      "\n",
      "\n",
      "The following objects are masked from ‘package:matrixStats’:\n",
      "\n",
      "    colMaxs, colMins, colRanges, rowMaxs, rowMins, rowRanges\n",
      "\n",
      "\n",
      "The following objects are masked from ‘package:base’:\n",
      "\n",
      "    aperm, apply, rowsum\n",
      "\n",
      "\n",
      "── \u001b[1mAttaching packages\u001b[22m ─────────────────────────────────────── tidyverse 1.3.1 ──\n",
      "\n",
      "\u001b[32m✔\u001b[39m \u001b[34mtibble \u001b[39m 3.2.1     \u001b[32m✔\u001b[39m \u001b[34mdplyr  \u001b[39m 1.1.2\n",
      "\u001b[32m✔\u001b[39m \u001b[34mtidyr  \u001b[39m 1.3.0     \u001b[32m✔\u001b[39m \u001b[34mstringr\u001b[39m 1.5.0\n",
      "\u001b[32m✔\u001b[39m \u001b[34mreadr  \u001b[39m 2.1.2     \u001b[32m✔\u001b[39m \u001b[34mforcats\u001b[39m 0.5.1\n",
      "\u001b[32m✔\u001b[39m \u001b[34mpurrr  \u001b[39m 1.0.1     \n",
      "\n",
      "Warning message:\n",
      "“package ‘readr’ was built under R version 4.0.4”\n",
      "── \u001b[1mConflicts\u001b[22m ────────────────────────────────────────── tidyverse_conflicts() ──\n",
      "\u001b[31m✖\u001b[39m \u001b[34mdplyr\u001b[39m::\u001b[32mcollapse()\u001b[39m        masks \u001b[34mIRanges\u001b[39m::collapse()\n",
      "\u001b[31m✖\u001b[39m \u001b[34mdplyr\u001b[39m::\u001b[32mcombine()\u001b[39m         masks \u001b[34mBiobase\u001b[39m::combine(), \u001b[34mBiocGenerics\u001b[39m::combine()\n",
      "\u001b[31m✖\u001b[39m \u001b[34mdplyr\u001b[39m::\u001b[32mcount()\u001b[39m           masks \u001b[34mmatrixStats\u001b[39m::count()\n",
      "\u001b[31m✖\u001b[39m \u001b[34mdplyr\u001b[39m::\u001b[32mdesc()\u001b[39m            masks \u001b[34mIRanges\u001b[39m::desc()\n",
      "\u001b[31m✖\u001b[39m \u001b[34mtidyr\u001b[39m::\u001b[32mexpand()\u001b[39m          masks \u001b[34mS4Vectors\u001b[39m::expand()\n",
      "\u001b[31m✖\u001b[39m \u001b[34mdplyr\u001b[39m::\u001b[32mfilter()\u001b[39m          masks \u001b[34mstats\u001b[39m::filter()\n",
      "\u001b[31m✖\u001b[39m \u001b[34mdplyr\u001b[39m::\u001b[32mfirst()\u001b[39m           masks \u001b[34mS4Vectors\u001b[39m::first()\n",
      "\u001b[31m✖\u001b[39m \u001b[34mdplyr\u001b[39m::\u001b[32mlag()\u001b[39m             masks \u001b[34mstats\u001b[39m::lag()\n",
      "\u001b[31m✖\u001b[39m \u001b[34mBiocGenerics\u001b[39m::\u001b[32mPosition()\u001b[39m masks \u001b[34mggplot2\u001b[39m::Position(), \u001b[34mbase\u001b[39m::Position()\n",
      "\u001b[31m✖\u001b[39m \u001b[34mpurrr\u001b[39m::\u001b[32mreduce()\u001b[39m          masks \u001b[34mGenomicRanges\u001b[39m::reduce(), \u001b[34mIRanges\u001b[39m::reduce()\n",
      "\u001b[31m✖\u001b[39m \u001b[34mdplyr\u001b[39m::\u001b[32mrename()\u001b[39m          masks \u001b[34mS4Vectors\u001b[39m::rename()\n",
      "\u001b[31m✖\u001b[39m \u001b[34mpurrr\u001b[39m::\u001b[32msimplify()\u001b[39m        masks \u001b[34mDelayedArray\u001b[39m::simplify()\n",
      "\u001b[31m✖\u001b[39m \u001b[34mdplyr\u001b[39m::\u001b[32mslice()\u001b[39m           masks \u001b[34mIRanges\u001b[39m::slice()\n",
      "\n",
      "Registered S3 method overwritten by 'treeio':\n",
      "  method     from\n",
      "  root.phylo ape \n",
      "\n",
      "This is MicrobeR 0.3.2. See https://jbisanz.github.io/MicrobeR/ for usage information.\n",
      "\n",
      "Loading required package: Matrix\n",
      "\n",
      "\n",
      "Attaching package: ‘Matrix’\n",
      "\n",
      "\n",
      "The following objects are masked from ‘package:tidyr’:\n",
      "\n",
      "    expand, pack, unpack\n",
      "\n",
      "\n",
      "The following object is masked from ‘package:S4Vectors’:\n",
      "\n",
      "    expand\n",
      "\n",
      "\n",
      "\n",
      "Loading the 'metafor' package (version 3.0-2). For an\n",
      "introduction to the package please type: help(metafor)\n",
      "\n",
      "\n"
     ]
    }
   ],
   "source": [
    "library(ggplot2)\n",
    "library('DESeq2')\n",
    "library(tidyverse)\n",
    "library(MicrobeR)\n",
    "library('metafor')"
   ]
  },
  {
   "cell_type": "markdown",
   "id": "2b0fc1da-6b8e-4223-b3ae-6a02fbae1589",
   "metadata": {},
   "source": [
    "# loading data"
   ]
  },
  {
   "cell_type": "markdown",
   "id": "cdbec46d-7561-4c57-966c-bf21801c6649",
   "metadata": {},
   "source": [
    "## OTU count table"
   ]
  },
  {
   "cell_type": "code",
   "execution_count": 2,
   "id": "ee88aec9-5640-49f2-a086-896cfece244b",
   "metadata": {
    "tags": []
   },
   "outputs": [
    {
     "data": {
      "text/html": [
       "<table>\n",
       "<caption>A data.frame: 6 × 1059</caption>\n",
       "<thead>\n",
       "\t<tr><th></th><th scope=col>SRR21105746</th><th scope=col>SRR6110936</th><th scope=col>SRR5559431</th><th scope=col>SRR5559472</th><th scope=col>SRR15720152</th><th scope=col>SRR5559561</th><th scope=col>SRR5559709</th><th scope=col>ERR4586659</th><th scope=col>SRR18270619</th><th scope=col>SRR15560942</th><th scope=col>⋯</th><th scope=col>SRR21105889</th><th scope=col>SRR15720113</th><th scope=col>SRR5559704</th><th scope=col>SRR21105663</th><th scope=col>SRR21105661</th><th scope=col>SRR5559396</th><th scope=col>ERR4296678</th><th scope=col>SRR21105769</th><th scope=col>SRR15719945</th><th scope=col>SRR5559429</th></tr>\n",
       "\t<tr><th></th><th scope=col>&lt;int&gt;</th><th scope=col>&lt;int&gt;</th><th scope=col>&lt;int&gt;</th><th scope=col>&lt;int&gt;</th><th scope=col>&lt;int&gt;</th><th scope=col>&lt;int&gt;</th><th scope=col>&lt;int&gt;</th><th scope=col>&lt;int&gt;</th><th scope=col>&lt;int&gt;</th><th scope=col>&lt;int&gt;</th><th scope=col>⋯</th><th scope=col>&lt;int&gt;</th><th scope=col>&lt;int&gt;</th><th scope=col>&lt;int&gt;</th><th scope=col>&lt;int&gt;</th><th scope=col>&lt;int&gt;</th><th scope=col>&lt;int&gt;</th><th scope=col>&lt;int&gt;</th><th scope=col>&lt;int&gt;</th><th scope=col>&lt;int&gt;</th><th scope=col>&lt;int&gt;</th></tr>\n",
       "</thead>\n",
       "<tbody>\n",
       "\t<tr><th scope=row>1000148</th><td>  0</td><td>   0</td><td>   0</td><td>  0</td><td>   0</td><td>   0</td><td>   0</td><td>  0</td><td> 0</td><td>   0</td><td>⋯</td><td>   0</td><td>    0</td><td>   0</td><td>  0</td><td>  0</td><td> 0</td><td>   0</td><td>    0</td><td>    0</td><td>   0</td></tr>\n",
       "\t<tr><th scope=row>1000563</th><td>  0</td><td>   0</td><td>   0</td><td>  0</td><td>   0</td><td>   0</td><td>   0</td><td>  0</td><td> 0</td><td>   0</td><td>⋯</td><td>   0</td><td>    0</td><td>   0</td><td>  0</td><td>  0</td><td> 0</td><td>   0</td><td>    0</td><td>    0</td><td>   0</td></tr>\n",
       "\t<tr><th scope=row>1000647</th><td>  0</td><td>   0</td><td>   0</td><td>  0</td><td>   0</td><td>   0</td><td>   0</td><td>  0</td><td> 0</td><td>   0</td><td>⋯</td><td>   0</td><td>    0</td><td>   0</td><td>  0</td><td>  0</td><td> 0</td><td>   0</td><td>    0</td><td>    0</td><td>   0</td></tr>\n",
       "\t<tr><th scope=row>1000973</th><td> 30</td><td>  46</td><td>  46</td><td> 46</td><td>  55</td><td>  46</td><td>  46</td><td> 42</td><td>46</td><td>   7</td><td>⋯</td><td>  73</td><td>   11</td><td>  46</td><td> 40</td><td>  5</td><td>46</td><td>  74</td><td>   12</td><td>   17</td><td>  46</td></tr>\n",
       "\t<tr><th scope=row>1001762</th><td>163</td><td>4467</td><td>2249</td><td>292</td><td>2130</td><td>3180</td><td>4148</td><td>892</td><td>65</td><td>1159</td><td>⋯</td><td>3405</td><td>28937</td><td>2258</td><td>163</td><td>163</td><td>18</td><td>8752</td><td>27432</td><td>22333</td><td>3315</td></tr>\n",
       "\t<tr><th scope=row>1001920</th><td>  0</td><td>   0</td><td>  21</td><td>  0</td><td>   0</td><td>   0</td><td>   0</td><td>  0</td><td> 0</td><td>   0</td><td>⋯</td><td>   0</td><td>    0</td><td>   0</td><td>  0</td><td>  0</td><td> 1</td><td>   0</td><td>    0</td><td>    0</td><td>   0</td></tr>\n",
       "</tbody>\n",
       "</table>\n"
      ],
      "text/latex": [
       "A data.frame: 6 × 1059\n",
       "\\begin{tabular}{r|lllllllllllllllllllll}\n",
       "  & SRR21105746 & SRR6110936 & SRR5559431 & SRR5559472 & SRR15720152 & SRR5559561 & SRR5559709 & ERR4586659 & SRR18270619 & SRR15560942 & ⋯ & SRR21105889 & SRR15720113 & SRR5559704 & SRR21105663 & SRR21105661 & SRR5559396 & ERR4296678 & SRR21105769 & SRR15719945 & SRR5559429\\\\\n",
       "  & <int> & <int> & <int> & <int> & <int> & <int> & <int> & <int> & <int> & <int> & ⋯ & <int> & <int> & <int> & <int> & <int> & <int> & <int> & <int> & <int> & <int>\\\\\n",
       "\\hline\n",
       "\t1000148 &   0 &    0 &    0 &   0 &    0 &    0 &    0 &   0 &  0 &    0 & ⋯ &    0 &     0 &    0 &   0 &   0 &  0 &    0 &     0 &     0 &    0\\\\\n",
       "\t1000563 &   0 &    0 &    0 &   0 &    0 &    0 &    0 &   0 &  0 &    0 & ⋯ &    0 &     0 &    0 &   0 &   0 &  0 &    0 &     0 &     0 &    0\\\\\n",
       "\t1000647 &   0 &    0 &    0 &   0 &    0 &    0 &    0 &   0 &  0 &    0 & ⋯ &    0 &     0 &    0 &   0 &   0 &  0 &    0 &     0 &     0 &    0\\\\\n",
       "\t1000973 &  30 &   46 &   46 &  46 &   55 &   46 &   46 &  42 & 46 &    7 & ⋯ &   73 &    11 &   46 &  40 &   5 & 46 &   74 &    12 &    17 &   46\\\\\n",
       "\t1001762 & 163 & 4467 & 2249 & 292 & 2130 & 3180 & 4148 & 892 & 65 & 1159 & ⋯ & 3405 & 28937 & 2258 & 163 & 163 & 18 & 8752 & 27432 & 22333 & 3315\\\\\n",
       "\t1001920 &   0 &    0 &   21 &   0 &    0 &    0 &    0 &   0 &  0 &    0 & ⋯ &    0 &     0 &    0 &   0 &   0 &  1 &    0 &     0 &     0 &    0\\\\\n",
       "\\end{tabular}\n"
      ],
      "text/markdown": [
       "\n",
       "A data.frame: 6 × 1059\n",
       "\n",
       "| <!--/--> | SRR21105746 &lt;int&gt; | SRR6110936 &lt;int&gt; | SRR5559431 &lt;int&gt; | SRR5559472 &lt;int&gt; | SRR15720152 &lt;int&gt; | SRR5559561 &lt;int&gt; | SRR5559709 &lt;int&gt; | ERR4586659 &lt;int&gt; | SRR18270619 &lt;int&gt; | SRR15560942 &lt;int&gt; | ⋯ ⋯ | SRR21105889 &lt;int&gt; | SRR15720113 &lt;int&gt; | SRR5559704 &lt;int&gt; | SRR21105663 &lt;int&gt; | SRR21105661 &lt;int&gt; | SRR5559396 &lt;int&gt; | ERR4296678 &lt;int&gt; | SRR21105769 &lt;int&gt; | SRR15719945 &lt;int&gt; | SRR5559429 &lt;int&gt; |\n",
       "|---|---|---|---|---|---|---|---|---|---|---|---|---|---|---|---|---|---|---|---|---|---|\n",
       "| 1000148 |   0 |    0 |    0 |   0 |    0 |    0 |    0 |   0 |  0 |    0 | ⋯ |    0 |     0 |    0 |   0 |   0 |  0 |    0 |     0 |     0 |    0 |\n",
       "| 1000563 |   0 |    0 |    0 |   0 |    0 |    0 |    0 |   0 |  0 |    0 | ⋯ |    0 |     0 |    0 |   0 |   0 |  0 |    0 |     0 |     0 |    0 |\n",
       "| 1000647 |   0 |    0 |    0 |   0 |    0 |    0 |    0 |   0 |  0 |    0 | ⋯ |    0 |     0 |    0 |   0 |   0 |  0 |    0 |     0 |     0 |    0 |\n",
       "| 1000973 |  30 |   46 |   46 |  46 |   55 |   46 |   46 |  42 | 46 |    7 | ⋯ |   73 |    11 |   46 |  40 |   5 | 46 |   74 |    12 |    17 |   46 |\n",
       "| 1001762 | 163 | 4467 | 2249 | 292 | 2130 | 3180 | 4148 | 892 | 65 | 1159 | ⋯ | 3405 | 28937 | 2258 | 163 | 163 | 18 | 8752 | 27432 | 22333 | 3315 |\n",
       "| 1001920 |   0 |    0 |   21 |   0 |    0 |    0 |    0 |   0 |  0 |    0 | ⋯ |    0 |     0 |    0 |   0 |   0 |  1 |    0 |     0 |     0 |    0 |\n",
       "\n"
      ],
      "text/plain": [
       "        SRR21105746 SRR6110936 SRR5559431 SRR5559472 SRR15720152 SRR5559561\n",
       "1000148   0            0          0         0           0           0      \n",
       "1000563   0            0          0         0           0           0      \n",
       "1000647   0            0          0         0           0           0      \n",
       "1000973  30           46         46        46          55          46      \n",
       "1001762 163         4467       2249       292        2130        3180      \n",
       "1001920   0            0         21         0           0           0      \n",
       "        SRR5559709 ERR4586659 SRR18270619 SRR15560942 ⋯ SRR21105889 SRR15720113\n",
       "1000148    0         0         0             0        ⋯    0            0      \n",
       "1000563    0         0         0             0        ⋯    0            0      \n",
       "1000647    0         0         0             0        ⋯    0            0      \n",
       "1000973   46        42        46             7        ⋯   73           11      \n",
       "1001762 4148       892        65          1159        ⋯ 3405        28937      \n",
       "1001920    0         0         0             0        ⋯    0            0      \n",
       "        SRR5559704 SRR21105663 SRR21105661 SRR5559396 ERR4296678 SRR21105769\n",
       "1000148    0         0           0          0            0           0      \n",
       "1000563    0         0           0          0            0           0      \n",
       "1000647    0         0           0          0            0           0      \n",
       "1000973   46        40           5         46           74          12      \n",
       "1001762 2258       163         163         18         8752       27432      \n",
       "1001920    0         0           0          1            0           0      \n",
       "        SRR15719945 SRR5559429\n",
       "1000148     0          0      \n",
       "1000563     0          0      \n",
       "1000647     0          0      \n",
       "1000973    17         46      \n",
       "1001762 22333       3315      \n",
       "1001920     0          0      "
      ]
     },
     "metadata": {},
     "output_type": "display_data"
    }
   ],
   "source": [
    "# loading ConQuR-adjusted OTU count table. \n",
    "data <- read.csv('conqur-adjusted-table.txt',\n",
    "                 sep='\\t',row.names=1, check.names=FALSE)\n",
    "head(data)"
   ]
  },
  {
   "cell_type": "code",
   "execution_count": 3,
   "id": "9152ce4d-7adc-4b6e-8c19-cbfe3c102e25",
   "metadata": {},
   "outputs": [
    {
     "data": {
      "text/html": [
       "<style>\n",
       ".list-inline {list-style: none; margin:0; padding: 0}\n",
       ".list-inline>li {display: inline-block}\n",
       ".list-inline>li:not(:last-child)::after {content: \"\\00b7\"; padding: 0 .5ex}\n",
       "</style>\n",
       "<ol class=list-inline><li>4192</li><li>1059</li></ol>\n"
      ],
      "text/latex": [
       "\\begin{enumerate*}\n",
       "\\item 4192\n",
       "\\item 1059\n",
       "\\end{enumerate*}\n"
      ],
      "text/markdown": [
       "1. 4192\n",
       "2. 1059\n",
       "\n",
       "\n"
      ],
      "text/plain": [
       "[1] 4192 1059"
      ]
     },
     "metadata": {},
     "output_type": "display_data"
    }
   ],
   "source": [
    "dim(data)"
   ]
  },
  {
   "cell_type": "markdown",
   "id": "21beda97-305e-4553-81d2-b0e52c3238c7",
   "metadata": {},
   "source": [
    "## metadata"
   ]
  },
  {
   "cell_type": "code",
   "execution_count": 4,
   "id": "1ace1ea3-567a-4b28-81be-0df33e779d69",
   "metadata": {},
   "outputs": [
    {
     "data": {
      "text/html": [
       "<table>\n",
       "<caption>A data.frame: 6 × 36</caption>\n",
       "<thead>\n",
       "\t<tr><th></th><th scope=col>sample_type</th><th scope=col>project_ID</th><th scope=col>sequencing_region</th><th scope=col>diagnose</th><th scope=col>age</th><th scope=col>gender</th><th scope=col>BMI</th><th scope=col>tumor_site</th><th scope=col>T_stage</th><th scope=col>N_stage</th><th scope=col>⋯</th><th scope=col>sequencing_region_merge</th><th scope=col>host_replicates</th><th scope=col>treatment_yn</th><th scope=col>replicate_2</th><th scope=col>HNSCC</th><th scope=col>_sample_id</th><th scope=col>_calour_original_abundance</th><th scope=col>observed_features</th><th scope=col>shannon_entropy</th><th scope=col>faith_pd</th></tr>\n",
       "\t<tr><th></th><th scope=col>&lt;chr&gt;</th><th scope=col>&lt;chr&gt;</th><th scope=col>&lt;chr&gt;</th><th scope=col>&lt;chr&gt;</th><th scope=col>&lt;dbl&gt;</th><th scope=col>&lt;chr&gt;</th><th scope=col>&lt;dbl&gt;</th><th scope=col>&lt;chr&gt;</th><th scope=col>&lt;chr&gt;</th><th scope=col>&lt;chr&gt;</th><th scope=col>⋯</th><th scope=col>&lt;chr&gt;</th><th scope=col>&lt;chr&gt;</th><th scope=col>&lt;chr&gt;</th><th scope=col>&lt;chr&gt;</th><th scope=col>&lt;chr&gt;</th><th scope=col>&lt;chr&gt;</th><th scope=col>&lt;dbl&gt;</th><th scope=col>&lt;int&gt;</th><th scope=col>&lt;dbl&gt;</th><th scope=col>&lt;dbl&gt;</th></tr>\n",
       "</thead>\n",
       "<tbody>\n",
       "\t<tr><th scope=row>SRR21105746</th><td>Oral_rinse</td><td>PRJNA870048</td><td>V3-V4</td><td>OSCC           </td><td>63</td><td>M</td><td>NA</td><td>tongue</td><td>  </td><td> </td><td>⋯</td><td>V3-V4</td><td></td><td></td><td></td><td></td><td>SRR21105746</td><td> 48812</td><td>184</td><td>3.804584</td><td>16.04912</td></tr>\n",
       "\t<tr><th scope=row>SRR6110936</th><td>Saliva    </td><td>PRJNA412445</td><td>V4-V5</td><td>OSCC           </td><td>63</td><td>F</td><td>NA</td><td>      </td><td>II</td><td>0</td><td>⋯</td><td>V4-V5</td><td></td><td></td><td></td><td></td><td>SRR6110936 </td><td>113189</td><td>177</td><td>4.731407</td><td>18.01963</td></tr>\n",
       "\t<tr><th scope=row>SRR5559431</th><td>Saliva    </td><td>PRJNA386665</td><td>V4   </td><td>OSCC           </td><td>48</td><td>M</td><td>NA</td><td>      </td><td>  </td><td> </td><td>⋯</td><td>V3-V4</td><td></td><td></td><td></td><td></td><td>SRR5559431 </td><td>145834</td><td>185</td><td>4.851843</td><td>19.47109</td></tr>\n",
       "\t<tr><th scope=row>SRR5559472</th><td>Saliva    </td><td>PRJNA386665</td><td>V4   </td><td>OSCC           </td><td>45</td><td>M</td><td>NA</td><td>      </td><td>  </td><td> </td><td>⋯</td><td>V3-V4</td><td></td><td></td><td></td><td></td><td>SRR5559472 </td><td> 94157</td><td>194</td><td>4.315743</td><td>19.95387</td></tr>\n",
       "\t<tr><th scope=row>SRR15720152</th><td>Oral_rinse</td><td>PRJNA744870</td><td>V3-V4</td><td>Healthy_control</td><td>NA</td><td> </td><td>NA</td><td>      </td><td>  </td><td> </td><td>⋯</td><td>V3-V4</td><td></td><td></td><td></td><td></td><td>SRR15720152</td><td>105411</td><td>154</td><td>4.485692</td><td>15.65140</td></tr>\n",
       "\t<tr><th scope=row>SRR5559561</th><td>Saliva    </td><td>PRJNA386665</td><td>V4   </td><td>OSCC           </td><td>49</td><td>M</td><td>NA</td><td>      </td><td>  </td><td> </td><td>⋯</td><td>V3-V4</td><td></td><td></td><td></td><td></td><td>SRR5559561 </td><td> 94015</td><td>141</td><td>4.164621</td><td>15.49631</td></tr>\n",
       "</tbody>\n",
       "</table>\n"
      ],
      "text/latex": [
       "A data.frame: 6 × 36\n",
       "\\begin{tabular}{r|lllllllllllllllllllll}\n",
       "  & sample\\_type & project\\_ID & sequencing\\_region & diagnose & age & gender & BMI & tumor\\_site & T\\_stage & N\\_stage & ⋯ & sequencing\\_region\\_merge & host\\_replicates & treatment\\_yn & replicate\\_2 & HNSCC & \\_sample\\_id & \\_calour\\_original\\_abundance & observed\\_features & shannon\\_entropy & faith\\_pd\\\\\n",
       "  & <chr> & <chr> & <chr> & <chr> & <dbl> & <chr> & <dbl> & <chr> & <chr> & <chr> & ⋯ & <chr> & <chr> & <chr> & <chr> & <chr> & <chr> & <dbl> & <int> & <dbl> & <dbl>\\\\\n",
       "\\hline\n",
       "\tSRR21105746 & Oral\\_rinse & PRJNA870048 & V3-V4 & OSCC            & 63 & M & NA & tongue &    &   & ⋯ & V3-V4 &  &  &  &  & SRR21105746 &  48812 & 184 & 3.804584 & 16.04912\\\\\n",
       "\tSRR6110936 & Saliva     & PRJNA412445 & V4-V5 & OSCC            & 63 & F & NA &        & II & 0 & ⋯ & V4-V5 &  &  &  &  & SRR6110936  & 113189 & 177 & 4.731407 & 18.01963\\\\\n",
       "\tSRR5559431 & Saliva     & PRJNA386665 & V4    & OSCC            & 48 & M & NA &        &    &   & ⋯ & V3-V4 &  &  &  &  & SRR5559431  & 145834 & 185 & 4.851843 & 19.47109\\\\\n",
       "\tSRR5559472 & Saliva     & PRJNA386665 & V4    & OSCC            & 45 & M & NA &        &    &   & ⋯ & V3-V4 &  &  &  &  & SRR5559472  &  94157 & 194 & 4.315743 & 19.95387\\\\\n",
       "\tSRR15720152 & Oral\\_rinse & PRJNA744870 & V3-V4 & Healthy\\_control & NA &   & NA &        &    &   & ⋯ & V3-V4 &  &  &  &  & SRR15720152 & 105411 & 154 & 4.485692 & 15.65140\\\\\n",
       "\tSRR5559561 & Saliva     & PRJNA386665 & V4    & OSCC            & 49 & M & NA &        &    &   & ⋯ & V3-V4 &  &  &  &  & SRR5559561  &  94015 & 141 & 4.164621 & 15.49631\\\\\n",
       "\\end{tabular}\n"
      ],
      "text/markdown": [
       "\n",
       "A data.frame: 6 × 36\n",
       "\n",
       "| <!--/--> | sample_type &lt;chr&gt; | project_ID &lt;chr&gt; | sequencing_region &lt;chr&gt; | diagnose &lt;chr&gt; | age &lt;dbl&gt; | gender &lt;chr&gt; | BMI &lt;dbl&gt; | tumor_site &lt;chr&gt; | T_stage &lt;chr&gt; | N_stage &lt;chr&gt; | ⋯ ⋯ | sequencing_region_merge &lt;chr&gt; | host_replicates &lt;chr&gt; | treatment_yn &lt;chr&gt; | replicate_2 &lt;chr&gt; | HNSCC &lt;chr&gt; | _sample_id &lt;chr&gt; | _calour_original_abundance &lt;dbl&gt; | observed_features &lt;int&gt; | shannon_entropy &lt;dbl&gt; | faith_pd &lt;dbl&gt; |\n",
       "|---|---|---|---|---|---|---|---|---|---|---|---|---|---|---|---|---|---|---|---|---|---|\n",
       "| SRR21105746 | Oral_rinse | PRJNA870048 | V3-V4 | OSCC            | 63 | M | NA | tongue | <!----> | <!----> | ⋯ | V3-V4 | <!----> | <!----> | <!----> | <!----> | SRR21105746 |  48812 | 184 | 3.804584 | 16.04912 |\n",
       "| SRR6110936 | Saliva     | PRJNA412445 | V4-V5 | OSCC            | 63 | F | NA | <!----> | II | 0 | ⋯ | V4-V5 | <!----> | <!----> | <!----> | <!----> | SRR6110936  | 113189 | 177 | 4.731407 | 18.01963 |\n",
       "| SRR5559431 | Saliva     | PRJNA386665 | V4    | OSCC            | 48 | M | NA | <!----> | <!----> | <!----> | ⋯ | V3-V4 | <!----> | <!----> | <!----> | <!----> | SRR5559431  | 145834 | 185 | 4.851843 | 19.47109 |\n",
       "| SRR5559472 | Saliva     | PRJNA386665 | V4    | OSCC            | 45 | M | NA | <!----> | <!----> | <!----> | ⋯ | V3-V4 | <!----> | <!----> | <!----> | <!----> | SRR5559472  |  94157 | 194 | 4.315743 | 19.95387 |\n",
       "| SRR15720152 | Oral_rinse | PRJNA744870 | V3-V4 | Healthy_control | NA | <!----> | NA | <!----> | <!----> | <!----> | ⋯ | V3-V4 | <!----> | <!----> | <!----> | <!----> | SRR15720152 | 105411 | 154 | 4.485692 | 15.65140 |\n",
       "| SRR5559561 | Saliva     | PRJNA386665 | V4    | OSCC            | 49 | M | NA | <!----> | <!----> | <!----> | ⋯ | V3-V4 | <!----> | <!----> | <!----> | <!----> | SRR5559561  |  94015 | 141 | 4.164621 | 15.49631 |\n",
       "\n"
      ],
      "text/plain": [
       "            sample_type project_ID  sequencing_region diagnose        age\n",
       "SRR21105746 Oral_rinse  PRJNA870048 V3-V4             OSCC            63 \n",
       "SRR6110936  Saliva      PRJNA412445 V4-V5             OSCC            63 \n",
       "SRR5559431  Saliva      PRJNA386665 V4                OSCC            48 \n",
       "SRR5559472  Saliva      PRJNA386665 V4                OSCC            45 \n",
       "SRR15720152 Oral_rinse  PRJNA744870 V3-V4             Healthy_control NA \n",
       "SRR5559561  Saliva      PRJNA386665 V4                OSCC            49 \n",
       "            gender BMI tumor_site T_stage N_stage ⋯ sequencing_region_merge\n",
       "SRR21105746 M      NA  tongue                     ⋯ V3-V4                  \n",
       "SRR6110936  F      NA             II      0       ⋯ V4-V5                  \n",
       "SRR5559431  M      NA                             ⋯ V3-V4                  \n",
       "SRR5559472  M      NA                             ⋯ V3-V4                  \n",
       "SRR15720152        NA                             ⋯ V3-V4                  \n",
       "SRR5559561  M      NA                             ⋯ V3-V4                  \n",
       "            host_replicates treatment_yn replicate_2 HNSCC _sample_id \n",
       "SRR21105746                                                SRR21105746\n",
       "SRR6110936                                                 SRR6110936 \n",
       "SRR5559431                                                 SRR5559431 \n",
       "SRR5559472                                                 SRR5559472 \n",
       "SRR15720152                                                SRR15720152\n",
       "SRR5559561                                                 SRR5559561 \n",
       "            _calour_original_abundance observed_features shannon_entropy\n",
       "SRR21105746  48812                     184               3.804584       \n",
       "SRR6110936  113189                     177               4.731407       \n",
       "SRR5559431  145834                     185               4.851843       \n",
       "SRR5559472   94157                     194               4.315743       \n",
       "SRR15720152 105411                     154               4.485692       \n",
       "SRR5559561   94015                     141               4.164621       \n",
       "            faith_pd\n",
       "SRR21105746 16.04912\n",
       "SRR6110936  18.01963\n",
       "SRR5559431  19.47109\n",
       "SRR5559472  19.95387\n",
       "SRR15720152 15.65140\n",
       "SRR5559561  15.49631"
      ]
     },
     "metadata": {},
     "output_type": "display_data"
    }
   ],
   "source": [
    "md <- read.csv('metadata.txt',\n",
    "               sep='\\t',row.names=1, check.names=FALSE)\n",
    "head(md)"
   ]
  },
  {
   "cell_type": "code",
   "execution_count": 5,
   "id": "faaa2af1-f460-493e-b183-1567315457f3",
   "metadata": {},
   "outputs": [
    {
     "data": {
      "text/html": [
       "<style>\n",
       ".list-inline {list-style: none; margin:0; padding: 0}\n",
       ".list-inline>li {display: inline-block}\n",
       ".list-inline>li:not(:last-child)::after {content: \"\\00b7\"; padding: 0 .5ex}\n",
       "</style>\n",
       "<ol class=list-inline><li>1059</li><li>36</li></ol>\n"
      ],
      "text/latex": [
       "\\begin{enumerate*}\n",
       "\\item 1059\n",
       "\\item 36\n",
       "\\end{enumerate*}\n"
      ],
      "text/markdown": [
       "1. 1059\n",
       "2. 36\n",
       "\n",
       "\n"
      ],
      "text/plain": [
       "[1] 1059   36"
      ]
     },
     "metadata": {},
     "output_type": "display_data"
    }
   ],
   "source": [
    "dim(md)"
   ]
  },
  {
   "cell_type": "code",
   "execution_count": 6,
   "id": "d85ac9dc-2d6f-40f9-a135-e67bdaa76291",
   "metadata": {},
   "outputs": [
    {
     "data": {
      "text/plain": [
       "\n",
       "Healthy_control            OPMD            OSCC \n",
       "            393             172             494 "
      ]
     },
     "metadata": {},
     "output_type": "display_data"
    }
   ],
   "source": [
    "table(md$diagnose)"
   ]
  },
  {
   "cell_type": "markdown",
   "id": "ae11ae41-48e8-43e4-b849-f80bcc9d1502",
   "metadata": {},
   "source": [
    "## taxonomy"
   ]
  },
  {
   "cell_type": "code",
   "execution_count": 7,
   "id": "0257fad5-201a-4e51-99e1-f2b6fa4d6d2b",
   "metadata": {},
   "outputs": [
    {
     "data": {
      "text/html": [
       "<table>\n",
       "<caption>A data.frame: 6 × 2</caption>\n",
       "<thead>\n",
       "\t<tr><th></th><th scope=col>ID</th><th scope=col>taxonomy</th></tr>\n",
       "\t<tr><th></th><th scope=col>&lt;int&gt;</th><th scope=col>&lt;chr&gt;</th></tr>\n",
       "</thead>\n",
       "<tbody>\n",
       "\t<tr><th scope=row>1</th><td>228054</td><td>k__Bacteria; p__Cyanobacteria; c__Synechococcophycideae; o__Synechococcales; f__Synechococcaceae; g__Synechococcus; s__             </td></tr>\n",
       "\t<tr><th scope=row>2</th><td>228057</td><td>k__Bacteria; p__Proteobacteria; c__Alphaproteobacteria; o__Rickettsiales; f__Pelagibacteraceae; g__; s__                            </td></tr>\n",
       "\t<tr><th scope=row>3</th><td> 73627</td><td>k__Bacteria; p__Actinobacteria; c__Actinobacteria; o__Actinomycetales; f__Mycobacteriaceae; g__Mycobacterium; s__                   </td></tr>\n",
       "\t<tr><th scope=row>4</th><td>378462</td><td>k__Bacteria; p__Firmicutes; c__Bacilli; o__Bacillales; f__Staphylococcaceae; g__Staphylococcus; s__                                 </td></tr>\n",
       "\t<tr><th scope=row>5</th><td> 89370</td><td>k__Bacteria; p__Firmicutes; c__Bacilli; o__Bacillales; f__Bacillaceae; g__Anoxybacillus; s__kestanbolensis                          </td></tr>\n",
       "\t<tr><th scope=row>6</th><td>370251</td><td>k__Bacteria; p__Proteobacteria; c__Gammaproteobacteria; o__Oceanospirillales; f__Endozoicimonaceae; g__Endozoicomonas; s__montiporae</td></tr>\n",
       "</tbody>\n",
       "</table>\n"
      ],
      "text/latex": [
       "A data.frame: 6 × 2\n",
       "\\begin{tabular}{r|ll}\n",
       "  & ID & taxonomy\\\\\n",
       "  & <int> & <chr>\\\\\n",
       "\\hline\n",
       "\t1 & 228054 & k\\_\\_Bacteria; p\\_\\_Cyanobacteria; c\\_\\_Synechococcophycideae; o\\_\\_Synechococcales; f\\_\\_Synechococcaceae; g\\_\\_Synechococcus; s\\_\\_             \\\\\n",
       "\t2 & 228057 & k\\_\\_Bacteria; p\\_\\_Proteobacteria; c\\_\\_Alphaproteobacteria; o\\_\\_Rickettsiales; f\\_\\_Pelagibacteraceae; g\\_\\_; s\\_\\_                            \\\\\n",
       "\t3 &  73627 & k\\_\\_Bacteria; p\\_\\_Actinobacteria; c\\_\\_Actinobacteria; o\\_\\_Actinomycetales; f\\_\\_Mycobacteriaceae; g\\_\\_Mycobacterium; s\\_\\_                   \\\\\n",
       "\t4 & 378462 & k\\_\\_Bacteria; p\\_\\_Firmicutes; c\\_\\_Bacilli; o\\_\\_Bacillales; f\\_\\_Staphylococcaceae; g\\_\\_Staphylococcus; s\\_\\_                                 \\\\\n",
       "\t5 &  89370 & k\\_\\_Bacteria; p\\_\\_Firmicutes; c\\_\\_Bacilli; o\\_\\_Bacillales; f\\_\\_Bacillaceae; g\\_\\_Anoxybacillus; s\\_\\_kestanbolensis                          \\\\\n",
       "\t6 & 370251 & k\\_\\_Bacteria; p\\_\\_Proteobacteria; c\\_\\_Gammaproteobacteria; o\\_\\_Oceanospirillales; f\\_\\_Endozoicimonaceae; g\\_\\_Endozoicomonas; s\\_\\_montiporae\\\\\n",
       "\\end{tabular}\n"
      ],
      "text/markdown": [
       "\n",
       "A data.frame: 6 × 2\n",
       "\n",
       "| <!--/--> | ID &lt;int&gt; | taxonomy &lt;chr&gt; |\n",
       "|---|---|---|\n",
       "| 1 | 228054 | k__Bacteria; p__Cyanobacteria; c__Synechococcophycideae; o__Synechococcales; f__Synechococcaceae; g__Synechococcus; s__              |\n",
       "| 2 | 228057 | k__Bacteria; p__Proteobacteria; c__Alphaproteobacteria; o__Rickettsiales; f__Pelagibacteraceae; g__; s__                             |\n",
       "| 3 |  73627 | k__Bacteria; p__Actinobacteria; c__Actinobacteria; o__Actinomycetales; f__Mycobacteriaceae; g__Mycobacterium; s__                    |\n",
       "| 4 | 378462 | k__Bacteria; p__Firmicutes; c__Bacilli; o__Bacillales; f__Staphylococcaceae; g__Staphylococcus; s__                                  |\n",
       "| 5 |  89370 | k__Bacteria; p__Firmicutes; c__Bacilli; o__Bacillales; f__Bacillaceae; g__Anoxybacillus; s__kestanbolensis                           |\n",
       "| 6 | 370251 | k__Bacteria; p__Proteobacteria; c__Gammaproteobacteria; o__Oceanospirillales; f__Endozoicimonaceae; g__Endozoicomonas; s__montiporae |\n",
       "\n"
      ],
      "text/plain": [
       "  ID    \n",
       "1 228054\n",
       "2 228057\n",
       "3  73627\n",
       "4 378462\n",
       "5  89370\n",
       "6 370251\n",
       "  taxonomy                                                                                                                            \n",
       "1 k__Bacteria; p__Cyanobacteria; c__Synechococcophycideae; o__Synechococcales; f__Synechococcaceae; g__Synechococcus; s__             \n",
       "2 k__Bacteria; p__Proteobacteria; c__Alphaproteobacteria; o__Rickettsiales; f__Pelagibacteraceae; g__; s__                            \n",
       "3 k__Bacteria; p__Actinobacteria; c__Actinobacteria; o__Actinomycetales; f__Mycobacteriaceae; g__Mycobacterium; s__                   \n",
       "4 k__Bacteria; p__Firmicutes; c__Bacilli; o__Bacillales; f__Staphylococcaceae; g__Staphylococcus; s__                                 \n",
       "5 k__Bacteria; p__Firmicutes; c__Bacilli; o__Bacillales; f__Bacillaceae; g__Anoxybacillus; s__kestanbolensis                          \n",
       "6 k__Bacteria; p__Proteobacteria; c__Gammaproteobacteria; o__Oceanospirillales; f__Endozoicimonaceae; g__Endozoicomonas; s__montiporae"
      ]
     },
     "metadata": {},
     "output_type": "display_data"
    }
   ],
   "source": [
    "# loading taxonomy info\n",
    "taxo <- read.csv('99_otu_taxonomy.txt',\n",
    "                 sep='\\t',header=F)\n",
    "names(taxo) <- c('ID','taxonomy')\n",
    "head(taxo)"
   ]
  },
  {
   "cell_type": "code",
   "execution_count": 8,
   "id": "11ab9aba-af25-438b-ab3c-511b12901637",
   "metadata": {},
   "outputs": [
    {
     "data": {
      "text/html": [
       "<table>\n",
       "<caption>A data.frame: 6 × 4</caption>\n",
       "<thead>\n",
       "\t<tr><th></th><th scope=col>ID</th><th scope=col>taxonomy</th><th scope=col>ID_taxonomy_name</th><th scope=col>ID_taxonomy</th></tr>\n",
       "\t<tr><th></th><th scope=col>&lt;int&gt;</th><th scope=col>&lt;chr&gt;</th><th scope=col>&lt;chr&gt;</th><th scope=col>&lt;chr&gt;</th></tr>\n",
       "</thead>\n",
       "<tbody>\n",
       "\t<tr><th scope=row>1</th><td>228054</td><td>k__Bacteria; p__Cyanobacteria; c__Synechococcophycideae; o__Synechococcales; f__Synechococcaceae; g__Synechococcus; s__             </td><td>228054 ; k__Bacteria; p__Cyanobacteria; c__Synechococcophycideae; o__Synechococcales; f__Synechococcaceae; g__Synechococcus; s__             </td><td>228054 \n",
       "k__Bacteria\n",
       "p__Cyanobacteria\n",
       "c__Synechococcophycideae\n",
       "o__Synechococcales\n",
       "f__Synechococcaceae\n",
       "g__Synechococcus\n",
       "s__             </td></tr>\n",
       "\t<tr><th scope=row>2</th><td>228057</td><td>k__Bacteria; p__Proteobacteria; c__Alphaproteobacteria; o__Rickettsiales; f__Pelagibacteraceae; g__; s__                            </td><td>228057 ; k__Bacteria; p__Proteobacteria; c__Alphaproteobacteria; o__Rickettsiales; f__Pelagibacteraceae; g__; s__                            </td><td>228057 \n",
       "k__Bacteria\n",
       "p__Proteobacteria\n",
       "c__Alphaproteobacteria\n",
       "o__Rickettsiales\n",
       "f__Pelagibacteraceae\n",
       "g__\n",
       "s__                            </td></tr>\n",
       "\t<tr><th scope=row>3</th><td> 73627</td><td>k__Bacteria; p__Actinobacteria; c__Actinobacteria; o__Actinomycetales; f__Mycobacteriaceae; g__Mycobacterium; s__                   </td><td>73627 ; k__Bacteria; p__Actinobacteria; c__Actinobacteria; o__Actinomycetales; f__Mycobacteriaceae; g__Mycobacterium; s__                    </td><td>73627 \n",
       "k__Bacteria\n",
       "p__Actinobacteria\n",
       "c__Actinobacteria\n",
       "o__Actinomycetales\n",
       "f__Mycobacteriaceae\n",
       "g__Mycobacterium\n",
       "s__                    </td></tr>\n",
       "\t<tr><th scope=row>4</th><td>378462</td><td>k__Bacteria; p__Firmicutes; c__Bacilli; o__Bacillales; f__Staphylococcaceae; g__Staphylococcus; s__                                 </td><td>378462 ; k__Bacteria; p__Firmicutes; c__Bacilli; o__Bacillales; f__Staphylococcaceae; g__Staphylococcus; s__                                 </td><td>378462 \n",
       "k__Bacteria\n",
       "p__Firmicutes\n",
       "c__Bacilli\n",
       "o__Bacillales\n",
       "f__Staphylococcaceae\n",
       "g__Staphylococcus\n",
       "s__                                 </td></tr>\n",
       "\t<tr><th scope=row>5</th><td> 89370</td><td>k__Bacteria; p__Firmicutes; c__Bacilli; o__Bacillales; f__Bacillaceae; g__Anoxybacillus; s__kestanbolensis                          </td><td>89370 ; k__Bacteria; p__Firmicutes; c__Bacilli; o__Bacillales; f__Bacillaceae; g__Anoxybacillus; s__kestanbolensis                           </td><td>89370 \n",
       "k__Bacteria\n",
       "p__Firmicutes\n",
       "c__Bacilli\n",
       "o__Bacillales\n",
       "f__Bacillaceae\n",
       "g__Anoxybacillus\n",
       "s__kestanbolensis                           </td></tr>\n",
       "\t<tr><th scope=row>6</th><td>370251</td><td>k__Bacteria; p__Proteobacteria; c__Gammaproteobacteria; o__Oceanospirillales; f__Endozoicimonaceae; g__Endozoicomonas; s__montiporae</td><td>370251 ; k__Bacteria; p__Proteobacteria; c__Gammaproteobacteria; o__Oceanospirillales; f__Endozoicimonaceae; g__Endozoicomonas; s__montiporae</td><td>370251 \n",
       "k__Bacteria\n",
       "p__Proteobacteria\n",
       "c__Gammaproteobacteria\n",
       "o__Oceanospirillales\n",
       "f__Endozoicimonaceae\n",
       "g__Endozoicomonas\n",
       "s__montiporae</td></tr>\n",
       "</tbody>\n",
       "</table>\n"
      ],
      "text/latex": [
       "A data.frame: 6 × 4\n",
       "\\begin{tabular}{r|llll}\n",
       "  & ID & taxonomy & ID\\_taxonomy\\_name & ID\\_taxonomy\\\\\n",
       "  & <int> & <chr> & <chr> & <chr>\\\\\n",
       "\\hline\n",
       "\t1 & 228054 & k\\_\\_Bacteria; p\\_\\_Cyanobacteria; c\\_\\_Synechococcophycideae; o\\_\\_Synechococcales; f\\_\\_Synechococcaceae; g\\_\\_Synechococcus; s\\_\\_              & 228054 ; k\\_\\_Bacteria; p\\_\\_Cyanobacteria; c\\_\\_Synechococcophycideae; o\\_\\_Synechococcales; f\\_\\_Synechococcaceae; g\\_\\_Synechococcus; s\\_\\_              & 228054 \n",
       "k\\_\\_Bacteria\n",
       "p\\_\\_Cyanobacteria\n",
       "c\\_\\_Synechococcophycideae\n",
       "o\\_\\_Synechococcales\n",
       "f\\_\\_Synechococcaceae\n",
       "g\\_\\_Synechococcus\n",
       "s\\_\\_             \\\\\n",
       "\t2 & 228057 & k\\_\\_Bacteria; p\\_\\_Proteobacteria; c\\_\\_Alphaproteobacteria; o\\_\\_Rickettsiales; f\\_\\_Pelagibacteraceae; g\\_\\_; s\\_\\_                             & 228057 ; k\\_\\_Bacteria; p\\_\\_Proteobacteria; c\\_\\_Alphaproteobacteria; o\\_\\_Rickettsiales; f\\_\\_Pelagibacteraceae; g\\_\\_; s\\_\\_                             & 228057 \n",
       "k\\_\\_Bacteria\n",
       "p\\_\\_Proteobacteria\n",
       "c\\_\\_Alphaproteobacteria\n",
       "o\\_\\_Rickettsiales\n",
       "f\\_\\_Pelagibacteraceae\n",
       "g\\_\\_\n",
       "s\\_\\_                            \\\\\n",
       "\t3 &  73627 & k\\_\\_Bacteria; p\\_\\_Actinobacteria; c\\_\\_Actinobacteria; o\\_\\_Actinomycetales; f\\_\\_Mycobacteriaceae; g\\_\\_Mycobacterium; s\\_\\_                    & 73627 ; k\\_\\_Bacteria; p\\_\\_Actinobacteria; c\\_\\_Actinobacteria; o\\_\\_Actinomycetales; f\\_\\_Mycobacteriaceae; g\\_\\_Mycobacterium; s\\_\\_                     & 73627 \n",
       "k\\_\\_Bacteria\n",
       "p\\_\\_Actinobacteria\n",
       "c\\_\\_Actinobacteria\n",
       "o\\_\\_Actinomycetales\n",
       "f\\_\\_Mycobacteriaceae\n",
       "g\\_\\_Mycobacterium\n",
       "s\\_\\_                    \\\\\n",
       "\t4 & 378462 & k\\_\\_Bacteria; p\\_\\_Firmicutes; c\\_\\_Bacilli; o\\_\\_Bacillales; f\\_\\_Staphylococcaceae; g\\_\\_Staphylococcus; s\\_\\_                                  & 378462 ; k\\_\\_Bacteria; p\\_\\_Firmicutes; c\\_\\_Bacilli; o\\_\\_Bacillales; f\\_\\_Staphylococcaceae; g\\_\\_Staphylococcus; s\\_\\_                                  & 378462 \n",
       "k\\_\\_Bacteria\n",
       "p\\_\\_Firmicutes\n",
       "c\\_\\_Bacilli\n",
       "o\\_\\_Bacillales\n",
       "f\\_\\_Staphylococcaceae\n",
       "g\\_\\_Staphylococcus\n",
       "s\\_\\_                                 \\\\\n",
       "\t5 &  89370 & k\\_\\_Bacteria; p\\_\\_Firmicutes; c\\_\\_Bacilli; o\\_\\_Bacillales; f\\_\\_Bacillaceae; g\\_\\_Anoxybacillus; s\\_\\_kestanbolensis                           & 89370 ; k\\_\\_Bacteria; p\\_\\_Firmicutes; c\\_\\_Bacilli; o\\_\\_Bacillales; f\\_\\_Bacillaceae; g\\_\\_Anoxybacillus; s\\_\\_kestanbolensis                            & 89370 \n",
       "k\\_\\_Bacteria\n",
       "p\\_\\_Firmicutes\n",
       "c\\_\\_Bacilli\n",
       "o\\_\\_Bacillales\n",
       "f\\_\\_Bacillaceae\n",
       "g\\_\\_Anoxybacillus\n",
       "s\\_\\_kestanbolensis                           \\\\\n",
       "\t6 & 370251 & k\\_\\_Bacteria; p\\_\\_Proteobacteria; c\\_\\_Gammaproteobacteria; o\\_\\_Oceanospirillales; f\\_\\_Endozoicimonaceae; g\\_\\_Endozoicomonas; s\\_\\_montiporae & 370251 ; k\\_\\_Bacteria; p\\_\\_Proteobacteria; c\\_\\_Gammaproteobacteria; o\\_\\_Oceanospirillales; f\\_\\_Endozoicimonaceae; g\\_\\_Endozoicomonas; s\\_\\_montiporae & 370251 \n",
       "k\\_\\_Bacteria\n",
       "p\\_\\_Proteobacteria\n",
       "c\\_\\_Gammaproteobacteria\n",
       "o\\_\\_Oceanospirillales\n",
       "f\\_\\_Endozoicimonaceae\n",
       "g\\_\\_Endozoicomonas\n",
       "s\\_\\_montiporae\\\\\n",
       "\\end{tabular}\n"
      ],
      "text/markdown": [
       "\n",
       "A data.frame: 6 × 4\n",
       "\n",
       "| <!--/--> | ID &lt;int&gt; | taxonomy &lt;chr&gt; | ID_taxonomy_name &lt;chr&gt; | ID_taxonomy &lt;chr&gt; |\n",
       "|---|---|---|---|---|\n",
       "| 1 | 228054 | k__Bacteria; p__Cyanobacteria; c__Synechococcophycideae; o__Synechococcales; f__Synechococcaceae; g__Synechococcus; s__              | 228054 ; k__Bacteria; p__Cyanobacteria; c__Synechococcophycideae; o__Synechococcales; f__Synechococcaceae; g__Synechococcus; s__              | 228054 \n",
       "k__Bacteria\n",
       "p__Cyanobacteria\n",
       "c__Synechococcophycideae\n",
       "o__Synechococcales\n",
       "f__Synechococcaceae\n",
       "g__Synechococcus\n",
       "s__              |\n",
       "| 2 | 228057 | k__Bacteria; p__Proteobacteria; c__Alphaproteobacteria; o__Rickettsiales; f__Pelagibacteraceae; g__; s__                             | 228057 ; k__Bacteria; p__Proteobacteria; c__Alphaproteobacteria; o__Rickettsiales; f__Pelagibacteraceae; g__; s__                             | 228057 \n",
       "k__Bacteria\n",
       "p__Proteobacteria\n",
       "c__Alphaproteobacteria\n",
       "o__Rickettsiales\n",
       "f__Pelagibacteraceae\n",
       "g__\n",
       "s__                             |\n",
       "| 3 |  73627 | k__Bacteria; p__Actinobacteria; c__Actinobacteria; o__Actinomycetales; f__Mycobacteriaceae; g__Mycobacterium; s__                    | 73627 ; k__Bacteria; p__Actinobacteria; c__Actinobacteria; o__Actinomycetales; f__Mycobacteriaceae; g__Mycobacterium; s__                     | 73627 \n",
       "k__Bacteria\n",
       "p__Actinobacteria\n",
       "c__Actinobacteria\n",
       "o__Actinomycetales\n",
       "f__Mycobacteriaceae\n",
       "g__Mycobacterium\n",
       "s__                     |\n",
       "| 4 | 378462 | k__Bacteria; p__Firmicutes; c__Bacilli; o__Bacillales; f__Staphylococcaceae; g__Staphylococcus; s__                                  | 378462 ; k__Bacteria; p__Firmicutes; c__Bacilli; o__Bacillales; f__Staphylococcaceae; g__Staphylococcus; s__                                  | 378462 \n",
       "k__Bacteria\n",
       "p__Firmicutes\n",
       "c__Bacilli\n",
       "o__Bacillales\n",
       "f__Staphylococcaceae\n",
       "g__Staphylococcus\n",
       "s__                                  |\n",
       "| 5 |  89370 | k__Bacteria; p__Firmicutes; c__Bacilli; o__Bacillales; f__Bacillaceae; g__Anoxybacillus; s__kestanbolensis                           | 89370 ; k__Bacteria; p__Firmicutes; c__Bacilli; o__Bacillales; f__Bacillaceae; g__Anoxybacillus; s__kestanbolensis                            | 89370 \n",
       "k__Bacteria\n",
       "p__Firmicutes\n",
       "c__Bacilli\n",
       "o__Bacillales\n",
       "f__Bacillaceae\n",
       "g__Anoxybacillus\n",
       "s__kestanbolensis                            |\n",
       "| 6 | 370251 | k__Bacteria; p__Proteobacteria; c__Gammaproteobacteria; o__Oceanospirillales; f__Endozoicimonaceae; g__Endozoicomonas; s__montiporae | 370251 ; k__Bacteria; p__Proteobacteria; c__Gammaproteobacteria; o__Oceanospirillales; f__Endozoicimonaceae; g__Endozoicomonas; s__montiporae | 370251 \n",
       "k__Bacteria\n",
       "p__Proteobacteria\n",
       "c__Gammaproteobacteria\n",
       "o__Oceanospirillales\n",
       "f__Endozoicimonaceae\n",
       "g__Endozoicomonas\n",
       "s__montiporae |\n",
       "\n"
      ],
      "text/plain": [
       "  ID    \n",
       "1 228054\n",
       "2 228057\n",
       "3  73627\n",
       "4 378462\n",
       "5  89370\n",
       "6 370251\n",
       "  taxonomy                                                                                                                            \n",
       "1 k__Bacteria; p__Cyanobacteria; c__Synechococcophycideae; o__Synechococcales; f__Synechococcaceae; g__Synechococcus; s__             \n",
       "2 k__Bacteria; p__Proteobacteria; c__Alphaproteobacteria; o__Rickettsiales; f__Pelagibacteraceae; g__; s__                            \n",
       "3 k__Bacteria; p__Actinobacteria; c__Actinobacteria; o__Actinomycetales; f__Mycobacteriaceae; g__Mycobacterium; s__                   \n",
       "4 k__Bacteria; p__Firmicutes; c__Bacilli; o__Bacillales; f__Staphylococcaceae; g__Staphylococcus; s__                                 \n",
       "5 k__Bacteria; p__Firmicutes; c__Bacilli; o__Bacillales; f__Bacillaceae; g__Anoxybacillus; s__kestanbolensis                          \n",
       "6 k__Bacteria; p__Proteobacteria; c__Gammaproteobacteria; o__Oceanospirillales; f__Endozoicimonaceae; g__Endozoicomonas; s__montiporae\n",
       "  ID_taxonomy_name                                                                                                                             \n",
       "1 228054 ; k__Bacteria; p__Cyanobacteria; c__Synechococcophycideae; o__Synechococcales; f__Synechococcaceae; g__Synechococcus; s__             \n",
       "2 228057 ; k__Bacteria; p__Proteobacteria; c__Alphaproteobacteria; o__Rickettsiales; f__Pelagibacteraceae; g__; s__                            \n",
       "3 73627 ; k__Bacteria; p__Actinobacteria; c__Actinobacteria; o__Actinomycetales; f__Mycobacteriaceae; g__Mycobacterium; s__                    \n",
       "4 378462 ; k__Bacteria; p__Firmicutes; c__Bacilli; o__Bacillales; f__Staphylococcaceae; g__Staphylococcus; s__                                 \n",
       "5 89370 ; k__Bacteria; p__Firmicutes; c__Bacilli; o__Bacillales; f__Bacillaceae; g__Anoxybacillus; s__kestanbolensis                           \n",
       "6 370251 ; k__Bacteria; p__Proteobacteria; c__Gammaproteobacteria; o__Oceanospirillales; f__Endozoicimonaceae; g__Endozoicomonas; s__montiporae\n",
       "  ID_taxonomy                                                                                                                                  \n",
       "1 228054 \\nk__Bacteria\\np__Cyanobacteria\\nc__Synechococcophycideae\\no__Synechococcales\\nf__Synechococcaceae\\ng__Synechococcus\\ns__             \n",
       "2 228057 \\nk__Bacteria\\np__Proteobacteria\\nc__Alphaproteobacteria\\no__Rickettsiales\\nf__Pelagibacteraceae\\ng__\\ns__                            \n",
       "3 73627 \\nk__Bacteria\\np__Actinobacteria\\nc__Actinobacteria\\no__Actinomycetales\\nf__Mycobacteriaceae\\ng__Mycobacterium\\ns__                    \n",
       "4 378462 \\nk__Bacteria\\np__Firmicutes\\nc__Bacilli\\no__Bacillales\\nf__Staphylococcaceae\\ng__Staphylococcus\\ns__                                 \n",
       "5 89370 \\nk__Bacteria\\np__Firmicutes\\nc__Bacilli\\no__Bacillales\\nf__Bacillaceae\\ng__Anoxybacillus\\ns__kestanbolensis                           \n",
       "6 370251 \\nk__Bacteria\\np__Proteobacteria\\nc__Gammaproteobacteria\\no__Oceanospirillales\\nf__Endozoicimonaceae\\ng__Endozoicomonas\\ns__montiporae"
      ]
     },
     "metadata": {},
     "output_type": "display_data"
    }
   ],
   "source": [
    "taxo$ID_taxonomy_name <- paste(taxo$ID,';',taxo$taxonomy)\n",
    "taxo$ID_taxonomy <- gsub('; ', '\\n', taxo$ID_taxonomy_name)\n",
    "head(taxo)"
   ]
  },
  {
   "cell_type": "markdown",
   "id": "595cbbd4-4f13-4ac7-83d4-a52ff986a63b",
   "metadata": {},
   "source": [
    "# filtering data"
   ]
  },
  {
   "cell_type": "code",
   "execution_count": 9,
   "id": "520085c7-aa61-4296-8b37-39e0b937bc99",
   "metadata": {},
   "outputs": [
    {
     "data": {
      "text/html": [
       "<table>\n",
       "<caption>A data.frame: 25 × 3</caption>\n",
       "<thead>\n",
       "\t<tr><th scope=col>project_ID</th><th scope=col>diagnose</th><th scope=col>n</th></tr>\n",
       "\t<tr><th scope=col>&lt;chr&gt;</th><th scope=col>&lt;chr&gt;</th><th scope=col>&lt;int&gt;</th></tr>\n",
       "</thead>\n",
       "<tbody>\n",
       "\t<tr><td>OEP000837  </td><td>Healthy_control</td><td> 12</td></tr>\n",
       "\t<tr><td>OEP000837  </td><td>OSCC           </td><td> 32</td></tr>\n",
       "\t<tr><td>PRJEB37501 </td><td>OPMD           </td><td> 28</td></tr>\n",
       "\t<tr><td>PRJEB37501 </td><td>OSCC           </td><td> 45</td></tr>\n",
       "\t<tr><td>PRJEB39064 </td><td>Healthy_control</td><td> 25</td></tr>\n",
       "\t<tr><td>PRJEB39064 </td><td>OPMD           </td><td> 21</td></tr>\n",
       "\t<tr><td>PRJEB39064 </td><td>OSCC           </td><td> 27</td></tr>\n",
       "\t<tr><td>PRJNA386665</td><td>Healthy_control</td><td>127</td></tr>\n",
       "\t<tr><td>PRJNA386665</td><td>OPMD           </td><td>123</td></tr>\n",
       "\t<tr><td>PRJNA386665</td><td>OSCC           </td><td>124</td></tr>\n",
       "\t<tr><td>PRJNA412445</td><td>OSCC           </td><td> 17</td></tr>\n",
       "\t<tr><td>PRJNA421234</td><td>Healthy_control</td><td>  7</td></tr>\n",
       "\t<tr><td>PRJNA421234</td><td>OSCC           </td><td> 14</td></tr>\n",
       "\t<tr><td>PRJNA666891</td><td>OSCC           </td><td> 12</td></tr>\n",
       "\t<tr><td>PRJNA700849</td><td>Healthy_control</td><td>  8</td></tr>\n",
       "\t<tr><td>PRJNA700849</td><td>OSCC           </td><td>  2</td></tr>\n",
       "\t<tr><td>PRJNA744870</td><td>Healthy_control</td><td> 76</td></tr>\n",
       "\t<tr><td>PRJNA744870</td><td>OSCC           </td><td> 76</td></tr>\n",
       "\t<tr><td>PRJNA751046</td><td>Healthy_control</td><td>  9</td></tr>\n",
       "\t<tr><td>PRJNA751046</td><td>OSCC           </td><td>  9</td></tr>\n",
       "\t<tr><td>PRJNA756784</td><td>Healthy_control</td><td> 39</td></tr>\n",
       "\t<tr><td>PRJNA756784</td><td>OSCC           </td><td> 20</td></tr>\n",
       "\t<tr><td>PRJNA813634</td><td>OSCC           </td><td> 25</td></tr>\n",
       "\t<tr><td>PRJNA870048</td><td>Healthy_control</td><td> 90</td></tr>\n",
       "\t<tr><td>PRJNA870048</td><td>OSCC           </td><td> 91</td></tr>\n",
       "</tbody>\n",
       "</table>\n"
      ],
      "text/latex": [
       "A data.frame: 25 × 3\n",
       "\\begin{tabular}{lll}\n",
       " project\\_ID & diagnose & n\\\\\n",
       " <chr> & <chr> & <int>\\\\\n",
       "\\hline\n",
       "\t OEP000837   & Healthy\\_control &  12\\\\\n",
       "\t OEP000837   & OSCC            &  32\\\\\n",
       "\t PRJEB37501  & OPMD            &  28\\\\\n",
       "\t PRJEB37501  & OSCC            &  45\\\\\n",
       "\t PRJEB39064  & Healthy\\_control &  25\\\\\n",
       "\t PRJEB39064  & OPMD            &  21\\\\\n",
       "\t PRJEB39064  & OSCC            &  27\\\\\n",
       "\t PRJNA386665 & Healthy\\_control & 127\\\\\n",
       "\t PRJNA386665 & OPMD            & 123\\\\\n",
       "\t PRJNA386665 & OSCC            & 124\\\\\n",
       "\t PRJNA412445 & OSCC            &  17\\\\\n",
       "\t PRJNA421234 & Healthy\\_control &   7\\\\\n",
       "\t PRJNA421234 & OSCC            &  14\\\\\n",
       "\t PRJNA666891 & OSCC            &  12\\\\\n",
       "\t PRJNA700849 & Healthy\\_control &   8\\\\\n",
       "\t PRJNA700849 & OSCC            &   2\\\\\n",
       "\t PRJNA744870 & Healthy\\_control &  76\\\\\n",
       "\t PRJNA744870 & OSCC            &  76\\\\\n",
       "\t PRJNA751046 & Healthy\\_control &   9\\\\\n",
       "\t PRJNA751046 & OSCC            &   9\\\\\n",
       "\t PRJNA756784 & Healthy\\_control &  39\\\\\n",
       "\t PRJNA756784 & OSCC            &  20\\\\\n",
       "\t PRJNA813634 & OSCC            &  25\\\\\n",
       "\t PRJNA870048 & Healthy\\_control &  90\\\\\n",
       "\t PRJNA870048 & OSCC            &  91\\\\\n",
       "\\end{tabular}\n"
      ],
      "text/markdown": [
       "\n",
       "A data.frame: 25 × 3\n",
       "\n",
       "| project_ID &lt;chr&gt; | diagnose &lt;chr&gt; | n &lt;int&gt; |\n",
       "|---|---|---|\n",
       "| OEP000837   | Healthy_control |  12 |\n",
       "| OEP000837   | OSCC            |  32 |\n",
       "| PRJEB37501  | OPMD            |  28 |\n",
       "| PRJEB37501  | OSCC            |  45 |\n",
       "| PRJEB39064  | Healthy_control |  25 |\n",
       "| PRJEB39064  | OPMD            |  21 |\n",
       "| PRJEB39064  | OSCC            |  27 |\n",
       "| PRJNA386665 | Healthy_control | 127 |\n",
       "| PRJNA386665 | OPMD            | 123 |\n",
       "| PRJNA386665 | OSCC            | 124 |\n",
       "| PRJNA412445 | OSCC            |  17 |\n",
       "| PRJNA421234 | Healthy_control |   7 |\n",
       "| PRJNA421234 | OSCC            |  14 |\n",
       "| PRJNA666891 | OSCC            |  12 |\n",
       "| PRJNA700849 | Healthy_control |   8 |\n",
       "| PRJNA700849 | OSCC            |   2 |\n",
       "| PRJNA744870 | Healthy_control |  76 |\n",
       "| PRJNA744870 | OSCC            |  76 |\n",
       "| PRJNA751046 | Healthy_control |   9 |\n",
       "| PRJNA751046 | OSCC            |   9 |\n",
       "| PRJNA756784 | Healthy_control |  39 |\n",
       "| PRJNA756784 | OSCC            |  20 |\n",
       "| PRJNA813634 | OSCC            |  25 |\n",
       "| PRJNA870048 | Healthy_control |  90 |\n",
       "| PRJNA870048 | OSCC            |  91 |\n",
       "\n"
      ],
      "text/plain": [
       "   project_ID  diagnose        n  \n",
       "1  OEP000837   Healthy_control  12\n",
       "2  OEP000837   OSCC             32\n",
       "3  PRJEB37501  OPMD             28\n",
       "4  PRJEB37501  OSCC             45\n",
       "5  PRJEB39064  Healthy_control  25\n",
       "6  PRJEB39064  OPMD             21\n",
       "7  PRJEB39064  OSCC             27\n",
       "8  PRJNA386665 Healthy_control 127\n",
       "9  PRJNA386665 OPMD            123\n",
       "10 PRJNA386665 OSCC            124\n",
       "11 PRJNA412445 OSCC             17\n",
       "12 PRJNA421234 Healthy_control   7\n",
       "13 PRJNA421234 OSCC             14\n",
       "14 PRJNA666891 OSCC             12\n",
       "15 PRJNA700849 Healthy_control   8\n",
       "16 PRJNA700849 OSCC              2\n",
       "17 PRJNA744870 Healthy_control  76\n",
       "18 PRJNA744870 OSCC             76\n",
       "19 PRJNA751046 Healthy_control   9\n",
       "20 PRJNA751046 OSCC              9\n",
       "21 PRJNA756784 Healthy_control  39\n",
       "22 PRJNA756784 OSCC             20\n",
       "23 PRJNA813634 OSCC             25\n",
       "24 PRJNA870048 Healthy_control  90\n",
       "25 PRJNA870048 OSCC             91"
      ]
     },
     "metadata": {},
     "output_type": "display_data"
    }
   ],
   "source": [
    "count(md, project_ID, diagnose)"
   ]
  },
  {
   "cell_type": "code",
   "execution_count": 10,
   "id": "87b7e822-57f6-4ff1-bf7a-6061adee1316",
   "metadata": {},
   "outputs": [
    {
     "data": {
      "text/html": [
       "<style>\n",
       ".list-inline {list-style: none; margin:0; padding: 0}\n",
       ".list-inline>li {display: inline-block}\n",
       ".list-inline>li:not(:last-child)::after {content: \"\\00b7\"; padding: 0 .5ex}\n",
       "</style>\n",
       "<ol class=list-inline><li>788</li><li>36</li></ol>\n"
      ],
      "text/latex": [
       "\\begin{enumerate*}\n",
       "\\item 788\n",
       "\\item 36\n",
       "\\end{enumerate*}\n"
      ],
      "text/markdown": [
       "1. 788\n",
       "2. 36\n",
       "\n",
       "\n"
      ],
      "text/plain": [
       "[1] 788  36"
      ]
     },
     "metadata": {},
     "output_type": "display_data"
    }
   ],
   "source": [
    "# filtering projects that contains both Healthy_control and OSCC samples\n",
    "projects=c('OEP000837','PRJEB39064','PRJNA386665','PRJNA421234','PRJNA700849','PRJNA744870',\n",
    "          'PRJNA751046','PRJNA756784','PRJNA870048')\n",
    "# filtering healthy_control and OSCC samples\n",
    "md <- subset(md, project_ID %in% projects) %>% \n",
    "subset(., diagnose %in% c(\"Healthy_control\", \"OSCC\"))\n",
    "dim(md)"
   ]
  },
  {
   "cell_type": "code",
   "execution_count": 11,
   "id": "b3c45888-c1b0-439f-9cd1-a92766030bb7",
   "metadata": {},
   "outputs": [
    {
     "data": {
      "text/html": [
       "788"
      ],
      "text/latex": [
       "788"
      ],
      "text/markdown": [
       "788"
      ],
      "text/plain": [
       "[1] 788"
      ]
     },
     "metadata": {},
     "output_type": "display_data"
    }
   ],
   "source": [
    "sids <- intersect(row.names(md), colnames(data))\n",
    "length(sids)"
   ]
  },
  {
   "cell_type": "code",
   "execution_count": 12,
   "id": "6b174d28-08e8-498e-bae5-22d7cfae5d1c",
   "metadata": {},
   "outputs": [],
   "source": [
    "md <- md[sids, ]\n",
    "data <- data[, sids]"
   ]
  },
  {
   "cell_type": "code",
   "execution_count": 13,
   "id": "14ade790-f021-4a74-9b3f-b2e0e30d99d8",
   "metadata": {},
   "outputs": [
    {
     "data": {
      "text/html": [
       "<style>\n",
       ".list-inline {list-style: none; margin:0; padding: 0}\n",
       ".list-inline>li {display: inline-block}\n",
       ".list-inline>li:not(:last-child)::after {content: \"\\00b7\"; padding: 0 .5ex}\n",
       "</style>\n",
       "<ol class=list-inline><li>4192</li><li>788</li></ol>\n"
      ],
      "text/latex": [
       "\\begin{enumerate*}\n",
       "\\item 4192\n",
       "\\item 788\n",
       "\\end{enumerate*}\n"
      ],
      "text/markdown": [
       "1. 4192\n",
       "2. 788\n",
       "\n",
       "\n"
      ],
      "text/plain": [
       "[1] 4192  788"
      ]
     },
     "metadata": {},
     "output_type": "display_data"
    },
    {
     "data": {
      "text/html": [
       "<style>\n",
       ".list-inline {list-style: none; margin:0; padding: 0}\n",
       ".list-inline>li {display: inline-block}\n",
       ".list-inline>li:not(:last-child)::after {content: \"\\00b7\"; padding: 0 .5ex}\n",
       "</style>\n",
       "<ol class=list-inline><li>788</li><li>36</li></ol>\n"
      ],
      "text/latex": [
       "\\begin{enumerate*}\n",
       "\\item 788\n",
       "\\item 36\n",
       "\\end{enumerate*}\n"
      ],
      "text/markdown": [
       "1. 788\n",
       "2. 36\n",
       "\n",
       "\n"
      ],
      "text/plain": [
       "[1] 788  36"
      ]
     },
     "metadata": {},
     "output_type": "display_data"
    }
   ],
   "source": [
    "dim(data); dim(md)"
   ]
  },
  {
   "cell_type": "markdown",
   "id": "7e0ee794-66ad-4516-b04f-1944dbcfccec",
   "metadata": {},
   "source": [
    "# DeSeq2 analysis in each study"
   ]
  },
  {
   "cell_type": "code",
   "execution_count": 14,
   "id": "9febd72a-b38b-4172-ba51-3954618ed9fa",
   "metadata": {},
   "outputs": [
    {
     "data": {
      "text/plain": [
       "\n",
       "Healthy_control            OSCC \n",
       "            393             395 "
      ]
     },
     "metadata": {},
     "output_type": "display_data"
    }
   ],
   "source": [
    "table(md$diagnose)"
   ]
  },
  {
   "cell_type": "code",
   "execution_count": 15,
   "id": "442f793b-3ff2-4b49-ab22-eb979a9ae393",
   "metadata": {
    "collapsed": true,
    "jupyter": {
     "outputs_hidden": true
    },
    "tags": []
   },
   "outputs": [
    {
     "name": "stderr",
     "output_type": "stream",
     "text": [
      "converting counts to integer mode\n",
      "\n",
      "estimating size factors\n",
      "\n",
      "estimating dispersions\n",
      "\n",
      "gene-wise dispersion estimates\n",
      "\n",
      "mean-dispersion relationship\n",
      "\n",
      "-- note: fitType='parametric', but the dispersion trend was not well captured by the\n",
      "   function: y = a/x + b, and a local regression fit was automatically substituted.\n",
      "   specify fitType='local' or 'mean' to avoid this message next time.\n",
      "\n",
      "final dispersion estimates\n",
      "\n",
      "fitting model and testing\n",
      "\n",
      "-- replacing outliers and refitting for 507 genes\n",
      "-- DESeq argument 'minReplicatesForReplace' = 7 \n",
      "-- original counts are preserved in counts(dds)\n",
      "\n",
      "estimating dispersions\n",
      "\n",
      "fitting model and testing\n",
      "\n",
      "######OEP000837\n",
      "\n",
      "converting counts to integer mode\n",
      "\n",
      "estimating size factors\n",
      "\n",
      "estimating dispersions\n",
      "\n",
      "gene-wise dispersion estimates\n",
      "\n",
      "mean-dispersion relationship\n",
      "\n",
      "-- note: fitType='parametric', but the dispersion trend was not well captured by the\n",
      "   function: y = a/x + b, and a local regression fit was automatically substituted.\n",
      "   specify fitType='local' or 'mean' to avoid this message next time.\n",
      "\n",
      "final dispersion estimates\n",
      "\n",
      "fitting model and testing\n",
      "\n",
      "-- replacing outliers and refitting for 702 genes\n",
      "-- DESeq argument 'minReplicatesForReplace' = 7 \n",
      "-- original counts are preserved in counts(dds)\n",
      "\n",
      "estimating dispersions\n",
      "\n",
      "fitting model and testing\n",
      "\n",
      "######PRJEB39064\n",
      "\n",
      "converting counts to integer mode\n",
      "\n",
      "estimating size factors\n",
      "\n",
      "estimating dispersions\n",
      "\n",
      "gene-wise dispersion estimates\n",
      "\n",
      "mean-dispersion relationship\n",
      "\n",
      "-- note: fitType='parametric', but the dispersion trend was not well captured by the\n",
      "   function: y = a/x + b, and a local regression fit was automatically substituted.\n",
      "   specify fitType='local' or 'mean' to avoid this message next time.\n",
      "\n",
      "final dispersion estimates\n",
      "\n",
      "fitting model and testing\n",
      "\n",
      "-- replacing outliers and refitting for 359 genes\n",
      "-- DESeq argument 'minReplicatesForReplace' = 7 \n",
      "-- original counts are preserved in counts(dds)\n",
      "\n",
      "estimating dispersions\n",
      "\n",
      "fitting model and testing\n",
      "\n",
      "######PRJNA386665\n",
      "\n",
      "converting counts to integer mode\n",
      "\n",
      "estimating size factors\n",
      "\n",
      "estimating dispersions\n",
      "\n",
      "gene-wise dispersion estimates\n",
      "\n",
      "mean-dispersion relationship\n",
      "\n",
      "-- note: fitType='parametric', but the dispersion trend was not well captured by the\n",
      "   function: y = a/x + b, and a local regression fit was automatically substituted.\n",
      "   specify fitType='local' or 'mean' to avoid this message next time.\n",
      "\n",
      "final dispersion estimates\n",
      "\n",
      "fitting model and testing\n",
      "\n",
      "-- replacing outliers and refitting for 183 genes\n",
      "-- DESeq argument 'minReplicatesForReplace' = 7 \n",
      "-- original counts are preserved in counts(dds)\n",
      "\n",
      "estimating dispersions\n",
      "\n",
      "fitting model and testing\n",
      "\n",
      "######PRJNA421234\n",
      "\n",
      "converting counts to integer mode\n",
      "\n",
      "estimating size factors\n",
      "\n",
      "estimating dispersions\n",
      "\n",
      "gene-wise dispersion estimates\n",
      "\n",
      "mean-dispersion relationship\n",
      "\n",
      "-- note: fitType='parametric', but the dispersion trend was not well captured by the\n",
      "   function: y = a/x + b, and a local regression fit was automatically substituted.\n",
      "   specify fitType='local' or 'mean' to avoid this message next time.\n",
      "\n",
      "final dispersion estimates\n",
      "\n",
      "fitting model and testing\n",
      "\n",
      "-- replacing outliers and refitting for 121 genes\n",
      "-- DESeq argument 'minReplicatesForReplace' = 7 \n",
      "-- original counts are preserved in counts(dds)\n",
      "\n",
      "estimating dispersions\n",
      "\n",
      "fitting model and testing\n",
      "\n",
      "######PRJNA700849\n",
      "\n",
      "converting counts to integer mode\n",
      "\n",
      "estimating size factors\n",
      "\n",
      "estimating dispersions\n",
      "\n",
      "gene-wise dispersion estimates\n",
      "\n",
      "mean-dispersion relationship\n",
      "\n",
      "-- note: fitType='parametric', but the dispersion trend was not well captured by the\n",
      "   function: y = a/x + b, and a local regression fit was automatically substituted.\n",
      "   specify fitType='local' or 'mean' to avoid this message next time.\n",
      "\n",
      "final dispersion estimates\n",
      "\n",
      "fitting model and testing\n",
      "\n",
      "-- replacing outliers and refitting for 414 genes\n",
      "-- DESeq argument 'minReplicatesForReplace' = 7 \n",
      "-- original counts are preserved in counts(dds)\n",
      "\n",
      "estimating dispersions\n",
      "\n",
      "fitting model and testing\n",
      "\n",
      "######PRJNA744870\n",
      "\n",
      "converting counts to integer mode\n",
      "\n",
      "estimating size factors\n",
      "\n",
      "estimating dispersions\n",
      "\n",
      "gene-wise dispersion estimates\n",
      "\n",
      "mean-dispersion relationship\n",
      "\n",
      "-- note: fitType='parametric', but the dispersion trend was not well captured by the\n",
      "   function: y = a/x + b, and a local regression fit was automatically substituted.\n",
      "   specify fitType='local' or 'mean' to avoid this message next time.\n",
      "\n",
      "final dispersion estimates\n",
      "\n",
      "fitting model and testing\n",
      "\n",
      "-- replacing outliers and refitting for 308 genes\n",
      "-- DESeq argument 'minReplicatesForReplace' = 7 \n",
      "-- original counts are preserved in counts(dds)\n",
      "\n",
      "estimating dispersions\n",
      "\n",
      "fitting model and testing\n",
      "\n",
      "######PRJNA751046\n",
      "\n",
      "converting counts to integer mode\n",
      "\n",
      "estimating size factors\n",
      "\n",
      "estimating dispersions\n",
      "\n",
      "gene-wise dispersion estimates\n",
      "\n",
      "mean-dispersion relationship\n",
      "\n",
      "-- note: fitType='parametric', but the dispersion trend was not well captured by the\n",
      "   function: y = a/x + b, and a local regression fit was automatically substituted.\n",
      "   specify fitType='local' or 'mean' to avoid this message next time.\n",
      "\n",
      "final dispersion estimates\n",
      "\n",
      "fitting model and testing\n",
      "\n",
      "-- replacing outliers and refitting for 579 genes\n",
      "-- DESeq argument 'minReplicatesForReplace' = 7 \n",
      "-- original counts are preserved in counts(dds)\n",
      "\n",
      "estimating dispersions\n",
      "\n",
      "fitting model and testing\n",
      "\n",
      "######PRJNA756784\n",
      "\n",
      "converting counts to integer mode\n",
      "\n",
      "estimating size factors\n",
      "\n",
      "estimating dispersions\n",
      "\n",
      "gene-wise dispersion estimates\n",
      "\n",
      "mean-dispersion relationship\n",
      "\n",
      "-- note: fitType='parametric', but the dispersion trend was not well captured by the\n",
      "   function: y = a/x + b, and a local regression fit was automatically substituted.\n",
      "   specify fitType='local' or 'mean' to avoid this message next time.\n",
      "\n",
      "final dispersion estimates\n",
      "\n",
      "fitting model and testing\n",
      "\n",
      "-- replacing outliers and refitting for 528 genes\n",
      "-- DESeq argument 'minReplicatesForReplace' = 7 \n",
      "-- original counts are preserved in counts(dds)\n",
      "\n",
      "estimating dispersions\n",
      "\n",
      "fitting model and testing\n",
      "\n",
      "######PRJNA870048\n",
      "\n"
     ]
    }
   ],
   "source": [
    "options( warn = -1 )\n",
    "per_study_res <- data.frame()\n",
    "\n",
    "for (prj in projects){\n",
    "\n",
    "    \n",
    "    md_s <- subset(md,project_ID==prj) # filtering by each project\n",
    "    sample_ids <- intersect(row.names(md_s),colnames(data))\n",
    "    md_s <- md_s[sample_ids,]\n",
    "    data_s <- data[,sample_ids]\n",
    "    data_s <-  data_s[which(rowSums(data_s) > 10),] + 1  \n",
    "\n",
    "    dds <- DESeqDataSetFromMatrix(countData=data_s, \n",
    "                                  colData=md_s, \n",
    "                                  design =~diagnose) \n",
    "    dds <- DESeq(dds)\n",
    "    diff_res <- results(dds, contrast = c(\"diagnose\", \"OSCC\", \"Healthy_control\")) # contrast specified three values: the name of the variable, the name of the level in the numerator, and the name of the level in the denominator. Here we extract results for the log2 of the fold change of OSCC / Healthy_control.\n",
    "\n",
    "    diff_res <- as.data.frame(diff_res) %>% \n",
    "    mutate('diff_otu'=row.names(diff_res),'Study'=prj)\n",
    "    message('######', prj)\n",
    "    per_study_res <- rbind(per_study_res,diff_res)\n",
    "}    "
   ]
  },
  {
   "cell_type": "code",
   "execution_count": 16,
   "id": "c5e911ab-308c-4ff4-9fde-60f80aacc12f",
   "metadata": {},
   "outputs": [
    {
     "data": {
      "text/html": [
       "<table>\n",
       "<caption>A data.frame: 2 × 8</caption>\n",
       "<thead>\n",
       "\t<tr><th></th><th scope=col>baseMean</th><th scope=col>log2FoldChange</th><th scope=col>lfcSE</th><th scope=col>stat</th><th scope=col>pvalue</th><th scope=col>padj</th><th scope=col>diff_otu</th><th scope=col>Study</th></tr>\n",
       "\t<tr><th></th><th scope=col>&lt;dbl&gt;</th><th scope=col>&lt;dbl&gt;</th><th scope=col>&lt;dbl&gt;</th><th scope=col>&lt;dbl&gt;</th><th scope=col>&lt;dbl&gt;</th><th scope=col>&lt;dbl&gt;</th><th scope=col>&lt;chr&gt;</th><th scope=col>&lt;chr&gt;</th></tr>\n",
       "</thead>\n",
       "<tbody>\n",
       "\t<tr><th scope=row>1000563</th><td> 1.238753</td><td>-0.1500329</td><td>0.4814618</td><td>-0.3116196</td><td>0.7553297</td><td>       NA</td><td>1000563</td><td>OEP000837</td></tr>\n",
       "\t<tr><th scope=row>1000973</th><td>57.406943</td><td>-0.6209963</td><td>0.4706970</td><td>-1.3193123</td><td>0.1870647</td><td>0.2535268</td><td>1000973</td><td>OEP000837</td></tr>\n",
       "</tbody>\n",
       "</table>\n"
      ],
      "text/latex": [
       "A data.frame: 2 × 8\n",
       "\\begin{tabular}{r|llllllll}\n",
       "  & baseMean & log2FoldChange & lfcSE & stat & pvalue & padj & diff\\_otu & Study\\\\\n",
       "  & <dbl> & <dbl> & <dbl> & <dbl> & <dbl> & <dbl> & <chr> & <chr>\\\\\n",
       "\\hline\n",
       "\t1000563 &  1.238753 & -0.1500329 & 0.4814618 & -0.3116196 & 0.7553297 &        NA & 1000563 & OEP000837\\\\\n",
       "\t1000973 & 57.406943 & -0.6209963 & 0.4706970 & -1.3193123 & 0.1870647 & 0.2535268 & 1000973 & OEP000837\\\\\n",
       "\\end{tabular}\n"
      ],
      "text/markdown": [
       "\n",
       "A data.frame: 2 × 8\n",
       "\n",
       "| <!--/--> | baseMean &lt;dbl&gt; | log2FoldChange &lt;dbl&gt; | lfcSE &lt;dbl&gt; | stat &lt;dbl&gt; | pvalue &lt;dbl&gt; | padj &lt;dbl&gt; | diff_otu &lt;chr&gt; | Study &lt;chr&gt; |\n",
       "|---|---|---|---|---|---|---|---|---|\n",
       "| 1000563 |  1.238753 | -0.1500329 | 0.4814618 | -0.3116196 | 0.7553297 |        NA | 1000563 | OEP000837 |\n",
       "| 1000973 | 57.406943 | -0.6209963 | 0.4706970 | -1.3193123 | 0.1870647 | 0.2535268 | 1000973 | OEP000837 |\n",
       "\n"
      ],
      "text/plain": [
       "        baseMean  log2FoldChange lfcSE     stat       pvalue    padj     \n",
       "1000563  1.238753 -0.1500329     0.4814618 -0.3116196 0.7553297        NA\n",
       "1000973 57.406943 -0.6209963     0.4706970 -1.3193123 0.1870647 0.2535268\n",
       "        diff_otu Study    \n",
       "1000563 1000563  OEP000837\n",
       "1000973 1000973  OEP000837"
      ]
     },
     "metadata": {},
     "output_type": "display_data"
    }
   ],
   "source": [
    "head(per_study_res,2)"
   ]
  },
  {
   "cell_type": "code",
   "execution_count": 17,
   "id": "ac832836-08b7-4583-8457-87460c1fb16e",
   "metadata": {
    "tags": []
   },
   "outputs": [],
   "source": [
    "# get the confidence intervals\n",
    "per_study_res <- per_study_res %>% mutate(CI_low_95 = per_study_res$log2FoldChange-qnorm(0.975, lower.tail = TRUE)*per_study_res$lfcSE, \n",
    "                                          CI_hig_95 = per_study_res$log2FoldChange+qnorm(0.975, lower.tail = TRUE)*per_study_res$lfcSE,\n",
    "                                          CI_low_99 = per_study_res$log2FoldChange-qnorm(0.995, lower.tail = TRUE)*per_study_res$lfcSE,\n",
    "                                          CI_hig_99 = per_study_res$log2FoldChange+qnorm(0.995, lower.tail = TRUE)*per_study_res$lfcSE)"
   ]
  },
  {
   "cell_type": "code",
   "execution_count": 18,
   "id": "7cca17f6-a8eb-4d1f-8352-821713926ad0",
   "metadata": {},
   "outputs": [
    {
     "data": {
      "text/html": [
       "<table>\n",
       "<caption>A data.frame: 2 × 12</caption>\n",
       "<thead>\n",
       "\t<tr><th></th><th scope=col>baseMean</th><th scope=col>log2FoldChange</th><th scope=col>lfcSE</th><th scope=col>stat</th><th scope=col>pvalue</th><th scope=col>padj</th><th scope=col>diff_otu</th><th scope=col>Study</th><th scope=col>CI_low_95</th><th scope=col>CI_hig_95</th><th scope=col>CI_low_99</th><th scope=col>CI_hig_99</th></tr>\n",
       "\t<tr><th></th><th scope=col>&lt;dbl&gt;</th><th scope=col>&lt;dbl&gt;</th><th scope=col>&lt;dbl&gt;</th><th scope=col>&lt;dbl&gt;</th><th scope=col>&lt;dbl&gt;</th><th scope=col>&lt;dbl&gt;</th><th scope=col>&lt;chr&gt;</th><th scope=col>&lt;chr&gt;</th><th scope=col>&lt;dbl&gt;</th><th scope=col>&lt;dbl&gt;</th><th scope=col>&lt;dbl&gt;</th><th scope=col>&lt;dbl&gt;</th></tr>\n",
       "</thead>\n",
       "<tbody>\n",
       "\t<tr><th scope=row>1000563</th><td> 1.238753</td><td>-0.1500329</td><td>0.4814618</td><td>-0.3116196</td><td>0.7553297</td><td>       NA</td><td>1000563</td><td>OEP000837</td><td>-1.093681</td><td>0.7936148</td><td>-1.390196</td><td>1.0901304</td></tr>\n",
       "\t<tr><th scope=row>1000973</th><td>57.406943</td><td>-0.6209963</td><td>0.4706970</td><td>-1.3193123</td><td>0.1870647</td><td>0.2535268</td><td>1000973</td><td>OEP000837</td><td>-1.543545</td><td>0.3015528</td><td>-1.833431</td><td>0.5914388</td></tr>\n",
       "</tbody>\n",
       "</table>\n"
      ],
      "text/latex": [
       "A data.frame: 2 × 12\n",
       "\\begin{tabular}{r|llllllllllll}\n",
       "  & baseMean & log2FoldChange & lfcSE & stat & pvalue & padj & diff\\_otu & Study & CI\\_low\\_95 & CI\\_hig\\_95 & CI\\_low\\_99 & CI\\_hig\\_99\\\\\n",
       "  & <dbl> & <dbl> & <dbl> & <dbl> & <dbl> & <dbl> & <chr> & <chr> & <dbl> & <dbl> & <dbl> & <dbl>\\\\\n",
       "\\hline\n",
       "\t1000563 &  1.238753 & -0.1500329 & 0.4814618 & -0.3116196 & 0.7553297 &        NA & 1000563 & OEP000837 & -1.093681 & 0.7936148 & -1.390196 & 1.0901304\\\\\n",
       "\t1000973 & 57.406943 & -0.6209963 & 0.4706970 & -1.3193123 & 0.1870647 & 0.2535268 & 1000973 & OEP000837 & -1.543545 & 0.3015528 & -1.833431 & 0.5914388\\\\\n",
       "\\end{tabular}\n"
      ],
      "text/markdown": [
       "\n",
       "A data.frame: 2 × 12\n",
       "\n",
       "| <!--/--> | baseMean &lt;dbl&gt; | log2FoldChange &lt;dbl&gt; | lfcSE &lt;dbl&gt; | stat &lt;dbl&gt; | pvalue &lt;dbl&gt; | padj &lt;dbl&gt; | diff_otu &lt;chr&gt; | Study &lt;chr&gt; | CI_low_95 &lt;dbl&gt; | CI_hig_95 &lt;dbl&gt; | CI_low_99 &lt;dbl&gt; | CI_hig_99 &lt;dbl&gt; |\n",
       "|---|---|---|---|---|---|---|---|---|---|---|---|---|\n",
       "| 1000563 |  1.238753 | -0.1500329 | 0.4814618 | -0.3116196 | 0.7553297 |        NA | 1000563 | OEP000837 | -1.093681 | 0.7936148 | -1.390196 | 1.0901304 |\n",
       "| 1000973 | 57.406943 | -0.6209963 | 0.4706970 | -1.3193123 | 0.1870647 | 0.2535268 | 1000973 | OEP000837 | -1.543545 | 0.3015528 | -1.833431 | 0.5914388 |\n",
       "\n"
      ],
      "text/plain": [
       "        baseMean  log2FoldChange lfcSE     stat       pvalue    padj     \n",
       "1000563  1.238753 -0.1500329     0.4814618 -0.3116196 0.7553297        NA\n",
       "1000973 57.406943 -0.6209963     0.4706970 -1.3193123 0.1870647 0.2535268\n",
       "        diff_otu Study     CI_low_95 CI_hig_95 CI_low_99 CI_hig_99\n",
       "1000563 1000563  OEP000837 -1.093681 0.7936148 -1.390196 1.0901304\n",
       "1000973 1000973  OEP000837 -1.543545 0.3015528 -1.833431 0.5914388"
      ]
     },
     "metadata": {},
     "output_type": "display_data"
    }
   ],
   "source": [
    "head(per_study_res,2)"
   ]
  },
  {
   "cell_type": "code",
   "execution_count": 19,
   "id": "4c8f971a-8fe8-465d-b263-f14bf5695068",
   "metadata": {},
   "outputs": [
    {
     "data": {
      "text/html": [
       "<style>\n",
       ".list-inline {list-style: none; margin:0; padding: 0}\n",
       ".list-inline>li {display: inline-block}\n",
       ".list-inline>li:not(:last-child)::after {content: \"\\00b7\"; padding: 0 .5ex}\n",
       "</style>\n",
       "<ol class=list-inline><li>7811</li><li>12</li></ol>\n"
      ],
      "text/latex": [
       "\\begin{enumerate*}\n",
       "\\item 7811\n",
       "\\item 12\n",
       "\\end{enumerate*}\n"
      ],
      "text/markdown": [
       "1. 7811\n",
       "2. 12\n",
       "\n",
       "\n"
      ],
      "text/plain": [
       "[1] 7811   12"
      ]
     },
     "metadata": {},
     "output_type": "display_data"
    }
   ],
   "source": [
    "dim(per_study_res)"
   ]
  },
  {
   "cell_type": "markdown",
   "id": "01e2b2a2-3e0d-450a-9980-8a06ccace707",
   "metadata": {},
   "source": [
    "# calculating combined statistics using random effects model"
   ]
  },
  {
   "cell_type": "code",
   "execution_count": 20,
   "id": "71b8970f-73e7-44da-91e0-1cf6f0e21b12",
   "metadata": {},
   "outputs": [],
   "source": [
    "# filter otu appears in more than half of the datasets\n",
    "n <- length(projects)/2\n",
    "f <- per_study_res %>% group_by(diff_otu) %>% summarize(count=n()) %>% subset(count>=n)\n",
    "fids <- f$diff_otu"
   ]
  },
  {
   "cell_type": "code",
   "execution_count": 21,
   "id": "ab7a3625-1e44-4218-a40a-30bdcbb095f0",
   "metadata": {},
   "outputs": [
    {
     "data": {
      "text/html": [
       "628"
      ],
      "text/latex": [
       "628"
      ],
      "text/markdown": [
       "628"
      ],
      "text/plain": [
       "[1] 628"
      ]
     },
     "metadata": {},
     "output_type": "display_data"
    }
   ],
   "source": [
    "length(fids)"
   ]
  },
  {
   "cell_type": "code",
   "execution_count": 22,
   "id": "7715f8dc-b05c-406f-8c0e-e0b89bc47f52",
   "metadata": {},
   "outputs": [],
   "source": [
    "# calculate combined logFC for otus that appears in more than half of the datasets\n",
    "per_otu_combined <- data.frame()\n",
    "for (fid in fids){\n",
    "    per_otu <- per_study_res %>% subset(diff_otu==fid)\n",
    "    rma_model <- rma(log2FoldChange, sei=lfcSE, data = per_otu)\n",
    "    \n",
    "    rma_res <- data.frame(baseMean='', log2FoldChange=rma_model$b[1], \n",
    "                          lfcSE=rma_model$se, stat='', pvalue=rma_model$pval, \n",
    "                          padj='', diff_otu=fid, Study='Combined', \n",
    "                          CI_low_95=rma_model$ci.lb, CI_hig_95=rma_model$ci.ub)\n",
    "    per_otu_combined <- rbind(per_otu_combined, rma_res)\n",
    "}"
   ]
  },
  {
   "cell_type": "code",
   "execution_count": 23,
   "id": "1870e66e-d0f3-4630-a84f-376b8087817c",
   "metadata": {},
   "outputs": [],
   "source": [
    "per_otu_combined <- per_otu_combined %>% mutate(\n",
    "    CI_low_99 = per_otu_combined$log2FoldChange-qnorm(0.995, lower.tail = TRUE)*per_otu_combined$lfcSE,\n",
    "    CI_hig_99 = per_otu_combined$log2FoldChange+qnorm(0.995, lower.tail = TRUE)*per_otu_combined$lfcSE)"
   ]
  },
  {
   "cell_type": "code",
   "execution_count": 24,
   "id": "eabf5d31-8ab0-4d57-a9df-7975007ba400",
   "metadata": {},
   "outputs": [],
   "source": [
    "# fdr correction for combined pvalue\n",
    "# because DESeq2 uses the so-called Benjamini-Hochberg (BH) adjustment, so we also use BH method here\n",
    "per_otu_combined$padj <- p.adjust(per_otu_combined$pvalue, method = 'BH') "
   ]
  },
  {
   "cell_type": "code",
   "execution_count": 25,
   "id": "6f5ec954-4b97-409c-ac55-4521358bf960",
   "metadata": {},
   "outputs": [
    {
     "data": {
      "text/html": [
       "<table>\n",
       "<caption>A data.frame: 2 × 12</caption>\n",
       "<thead>\n",
       "\t<tr><th></th><th scope=col>baseMean</th><th scope=col>log2FoldChange</th><th scope=col>lfcSE</th><th scope=col>stat</th><th scope=col>pvalue</th><th scope=col>padj</th><th scope=col>diff_otu</th><th scope=col>Study</th><th scope=col>CI_low_95</th><th scope=col>CI_hig_95</th><th scope=col>CI_low_99</th><th scope=col>CI_hig_99</th></tr>\n",
       "\t<tr><th></th><th scope=col>&lt;chr&gt;</th><th scope=col>&lt;dbl&gt;</th><th scope=col>&lt;dbl&gt;</th><th scope=col>&lt;chr&gt;</th><th scope=col>&lt;dbl&gt;</th><th scope=col>&lt;dbl&gt;</th><th scope=col>&lt;chr&gt;</th><th scope=col>&lt;chr&gt;</th><th scope=col>&lt;dbl&gt;</th><th scope=col>&lt;dbl&gt;</th><th scope=col>&lt;dbl&gt;</th><th scope=col>&lt;dbl&gt;</th></tr>\n",
       "</thead>\n",
       "<tbody>\n",
       "\t<tr><th scope=row>1</th><td></td><td>-0.1599694</td><td>0.1298106</td><td></td><td>0.2178261</td><td>0.4696669</td><td>1000973</td><td>Combined</td><td>-0.4143936</td><td>0.09445472</td><td>-0.4943394</td><td>0.1744006</td></tr>\n",
       "\t<tr><th scope=row>2</th><td></td><td> 0.5297197</td><td>0.3932419</td><td></td><td>0.1779615</td><td>0.4093767</td><td>1001762</td><td>Combined</td><td>-0.2410203</td><td>1.30045960</td><td>-0.4832043</td><td>1.5426436</td></tr>\n",
       "</tbody>\n",
       "</table>\n"
      ],
      "text/latex": [
       "A data.frame: 2 × 12\n",
       "\\begin{tabular}{r|llllllllllll}\n",
       "  & baseMean & log2FoldChange & lfcSE & stat & pvalue & padj & diff\\_otu & Study & CI\\_low\\_95 & CI\\_hig\\_95 & CI\\_low\\_99 & CI\\_hig\\_99\\\\\n",
       "  & <chr> & <dbl> & <dbl> & <chr> & <dbl> & <dbl> & <chr> & <chr> & <dbl> & <dbl> & <dbl> & <dbl>\\\\\n",
       "\\hline\n",
       "\t1 &  & -0.1599694 & 0.1298106 &  & 0.2178261 & 0.4696669 & 1000973 & Combined & -0.4143936 & 0.09445472 & -0.4943394 & 0.1744006\\\\\n",
       "\t2 &  &  0.5297197 & 0.3932419 &  & 0.1779615 & 0.4093767 & 1001762 & Combined & -0.2410203 & 1.30045960 & -0.4832043 & 1.5426436\\\\\n",
       "\\end{tabular}\n"
      ],
      "text/markdown": [
       "\n",
       "A data.frame: 2 × 12\n",
       "\n",
       "| <!--/--> | baseMean &lt;chr&gt; | log2FoldChange &lt;dbl&gt; | lfcSE &lt;dbl&gt; | stat &lt;chr&gt; | pvalue &lt;dbl&gt; | padj &lt;dbl&gt; | diff_otu &lt;chr&gt; | Study &lt;chr&gt; | CI_low_95 &lt;dbl&gt; | CI_hig_95 &lt;dbl&gt; | CI_low_99 &lt;dbl&gt; | CI_hig_99 &lt;dbl&gt; |\n",
       "|---|---|---|---|---|---|---|---|---|---|---|---|---|\n",
       "| 1 | <!----> | -0.1599694 | 0.1298106 | <!----> | 0.2178261 | 0.4696669 | 1000973 | Combined | -0.4143936 | 0.09445472 | -0.4943394 | 0.1744006 |\n",
       "| 2 | <!----> |  0.5297197 | 0.3932419 | <!----> | 0.1779615 | 0.4093767 | 1001762 | Combined | -0.2410203 | 1.30045960 | -0.4832043 | 1.5426436 |\n",
       "\n"
      ],
      "text/plain": [
       "  baseMean log2FoldChange lfcSE     stat pvalue    padj      diff_otu Study   \n",
       "1          -0.1599694     0.1298106      0.2178261 0.4696669 1000973  Combined\n",
       "2           0.5297197     0.3932419      0.1779615 0.4093767 1001762  Combined\n",
       "  CI_low_95  CI_hig_95  CI_low_99  CI_hig_99\n",
       "1 -0.4143936 0.09445472 -0.4943394 0.1744006\n",
       "2 -0.2410203 1.30045960 -0.4832043 1.5426436"
      ]
     },
     "metadata": {},
     "output_type": "display_data"
    }
   ],
   "source": [
    "head(per_otu_combined,2)"
   ]
  },
  {
   "cell_type": "code",
   "execution_count": 26,
   "id": "25c93453-6acf-401f-b1c7-0fa78fa93ec3",
   "metadata": {},
   "outputs": [],
   "source": [
    "Per_otu <- rbind(per_study_res, per_otu_combined)"
   ]
  },
  {
   "cell_type": "code",
   "execution_count": 29,
   "id": "3038742f-1afd-4701-9a45-a9302619f54e",
   "metadata": {},
   "outputs": [],
   "source": [
    "Per_otu <- merge(Per_otu, taxo, by.x='diff_otu', by.y='ID')"
   ]
  },
  {
   "cell_type": "code",
   "execution_count": 30,
   "id": "a9b1cbbc-6be2-4ba6-a5d3-b5a5459aab13",
   "metadata": {},
   "outputs": [
    {
     "data": {
      "text/html": [
       "<table>\n",
       "<caption>A data.frame: 2 × 15</caption>\n",
       "<thead>\n",
       "\t<tr><th></th><th scope=col>diff_otu</th><th scope=col>baseMean</th><th scope=col>log2FoldChange</th><th scope=col>lfcSE</th><th scope=col>stat</th><th scope=col>pvalue</th><th scope=col>padj</th><th scope=col>Study</th><th scope=col>CI_low_95</th><th scope=col>CI_hig_95</th><th scope=col>CI_low_99</th><th scope=col>CI_hig_99</th><th scope=col>taxonomy</th><th scope=col>ID_taxonomy_name</th><th scope=col>ID_taxonomy</th></tr>\n",
       "\t<tr><th></th><th scope=col>&lt;chr&gt;</th><th scope=col>&lt;chr&gt;</th><th scope=col>&lt;dbl&gt;</th><th scope=col>&lt;dbl&gt;</th><th scope=col>&lt;chr&gt;</th><th scope=col>&lt;dbl&gt;</th><th scope=col>&lt;dbl&gt;</th><th scope=col>&lt;chr&gt;</th><th scope=col>&lt;dbl&gt;</th><th scope=col>&lt;dbl&gt;</th><th scope=col>&lt;dbl&gt;</th><th scope=col>&lt;dbl&gt;</th><th scope=col>&lt;chr&gt;</th><th scope=col>&lt;chr&gt;</th><th scope=col>&lt;chr&gt;</th></tr>\n",
       "</thead>\n",
       "<tbody>\n",
       "\t<tr><th scope=row>1</th><td>1000563</td><td>1.23875258426282</td><td>-0.150032906</td><td>0.4814618</td><td>-0.311619562973206</td><td>0.7553297</td><td>NA</td><td>OEP000837 </td><td>-1.0936806</td><td>0.7936148</td><td>-1.3901962</td><td>1.090130</td><td>k__Bacteria; p__Bacteroidetes; c__Bacteroidia; o__Bacteroidales; f__Prevotellaceae; g__Prevotella; s__melaninogenica</td><td>1000563 ; k__Bacteria; p__Bacteroidetes; c__Bacteroidia; o__Bacteroidales; f__Prevotellaceae; g__Prevotella; s__melaninogenica</td><td>1000563 \n",
       "k__Bacteria\n",
       "p__Bacteroidetes\n",
       "c__Bacteroidia\n",
       "o__Bacteroidales\n",
       "f__Prevotellaceae\n",
       "g__Prevotella\n",
       "s__melaninogenica</td></tr>\n",
       "\t<tr><th scope=row>2</th><td>1000563</td><td>1.36312152320355</td><td>-0.005271844</td><td>0.3832470</td><td>-0.013755733709217</td><td>0.9890249</td><td>NA</td><td>PRJEB39064</td><td>-0.7564221</td><td>0.7458785</td><td>-0.9924507</td><td>0.981907</td><td>k__Bacteria; p__Bacteroidetes; c__Bacteroidia; o__Bacteroidales; f__Prevotellaceae; g__Prevotella; s__melaninogenica</td><td>1000563 ; k__Bacteria; p__Bacteroidetes; c__Bacteroidia; o__Bacteroidales; f__Prevotellaceae; g__Prevotella; s__melaninogenica</td><td>1000563 \n",
       "k__Bacteria\n",
       "p__Bacteroidetes\n",
       "c__Bacteroidia\n",
       "o__Bacteroidales\n",
       "f__Prevotellaceae\n",
       "g__Prevotella\n",
       "s__melaninogenica</td></tr>\n",
       "</tbody>\n",
       "</table>\n"
      ],
      "text/latex": [
       "A data.frame: 2 × 15\n",
       "\\begin{tabular}{r|lllllllllllllll}\n",
       "  & diff\\_otu & baseMean & log2FoldChange & lfcSE & stat & pvalue & padj & Study & CI\\_low\\_95 & CI\\_hig\\_95 & CI\\_low\\_99 & CI\\_hig\\_99 & taxonomy & ID\\_taxonomy\\_name & ID\\_taxonomy\\\\\n",
       "  & <chr> & <chr> & <dbl> & <dbl> & <chr> & <dbl> & <dbl> & <chr> & <dbl> & <dbl> & <dbl> & <dbl> & <chr> & <chr> & <chr>\\\\\n",
       "\\hline\n",
       "\t1 & 1000563 & 1.23875258426282 & -0.150032906 & 0.4814618 & -0.311619562973206 & 0.7553297 & NA & OEP000837  & -1.0936806 & 0.7936148 & -1.3901962 & 1.090130 & k\\_\\_Bacteria; p\\_\\_Bacteroidetes; c\\_\\_Bacteroidia; o\\_\\_Bacteroidales; f\\_\\_Prevotellaceae; g\\_\\_Prevotella; s\\_\\_melaninogenica & 1000563 ; k\\_\\_Bacteria; p\\_\\_Bacteroidetes; c\\_\\_Bacteroidia; o\\_\\_Bacteroidales; f\\_\\_Prevotellaceae; g\\_\\_Prevotella; s\\_\\_melaninogenica & 1000563 \n",
       "k\\_\\_Bacteria\n",
       "p\\_\\_Bacteroidetes\n",
       "c\\_\\_Bacteroidia\n",
       "o\\_\\_Bacteroidales\n",
       "f\\_\\_Prevotellaceae\n",
       "g\\_\\_Prevotella\n",
       "s\\_\\_melaninogenica\\\\\n",
       "\t2 & 1000563 & 1.36312152320355 & -0.005271844 & 0.3832470 & -0.013755733709217 & 0.9890249 & NA & PRJEB39064 & -0.7564221 & 0.7458785 & -0.9924507 & 0.981907 & k\\_\\_Bacteria; p\\_\\_Bacteroidetes; c\\_\\_Bacteroidia; o\\_\\_Bacteroidales; f\\_\\_Prevotellaceae; g\\_\\_Prevotella; s\\_\\_melaninogenica & 1000563 ; k\\_\\_Bacteria; p\\_\\_Bacteroidetes; c\\_\\_Bacteroidia; o\\_\\_Bacteroidales; f\\_\\_Prevotellaceae; g\\_\\_Prevotella; s\\_\\_melaninogenica & 1000563 \n",
       "k\\_\\_Bacteria\n",
       "p\\_\\_Bacteroidetes\n",
       "c\\_\\_Bacteroidia\n",
       "o\\_\\_Bacteroidales\n",
       "f\\_\\_Prevotellaceae\n",
       "g\\_\\_Prevotella\n",
       "s\\_\\_melaninogenica\\\\\n",
       "\\end{tabular}\n"
      ],
      "text/markdown": [
       "\n",
       "A data.frame: 2 × 15\n",
       "\n",
       "| <!--/--> | diff_otu &lt;chr&gt; | baseMean &lt;chr&gt; | log2FoldChange &lt;dbl&gt; | lfcSE &lt;dbl&gt; | stat &lt;chr&gt; | pvalue &lt;dbl&gt; | padj &lt;dbl&gt; | Study &lt;chr&gt; | CI_low_95 &lt;dbl&gt; | CI_hig_95 &lt;dbl&gt; | CI_low_99 &lt;dbl&gt; | CI_hig_99 &lt;dbl&gt; | taxonomy &lt;chr&gt; | ID_taxonomy_name &lt;chr&gt; | ID_taxonomy &lt;chr&gt; |\n",
       "|---|---|---|---|---|---|---|---|---|---|---|---|---|---|---|---|\n",
       "| 1 | 1000563 | 1.23875258426282 | -0.150032906 | 0.4814618 | -0.311619562973206 | 0.7553297 | NA | OEP000837  | -1.0936806 | 0.7936148 | -1.3901962 | 1.090130 | k__Bacteria; p__Bacteroidetes; c__Bacteroidia; o__Bacteroidales; f__Prevotellaceae; g__Prevotella; s__melaninogenica | 1000563 ; k__Bacteria; p__Bacteroidetes; c__Bacteroidia; o__Bacteroidales; f__Prevotellaceae; g__Prevotella; s__melaninogenica | 1000563 \n",
       "k__Bacteria\n",
       "p__Bacteroidetes\n",
       "c__Bacteroidia\n",
       "o__Bacteroidales\n",
       "f__Prevotellaceae\n",
       "g__Prevotella\n",
       "s__melaninogenica |\n",
       "| 2 | 1000563 | 1.36312152320355 | -0.005271844 | 0.3832470 | -0.013755733709217 | 0.9890249 | NA | PRJEB39064 | -0.7564221 | 0.7458785 | -0.9924507 | 0.981907 | k__Bacteria; p__Bacteroidetes; c__Bacteroidia; o__Bacteroidales; f__Prevotellaceae; g__Prevotella; s__melaninogenica | 1000563 ; k__Bacteria; p__Bacteroidetes; c__Bacteroidia; o__Bacteroidales; f__Prevotellaceae; g__Prevotella; s__melaninogenica | 1000563 \n",
       "k__Bacteria\n",
       "p__Bacteroidetes\n",
       "c__Bacteroidia\n",
       "o__Bacteroidales\n",
       "f__Prevotellaceae\n",
       "g__Prevotella\n",
       "s__melaninogenica |\n",
       "\n"
      ],
      "text/plain": [
       "  diff_otu baseMean         log2FoldChange lfcSE     stat              \n",
       "1 1000563  1.23875258426282 -0.150032906   0.4814618 -0.311619562973206\n",
       "2 1000563  1.36312152320355 -0.005271844   0.3832470 -0.013755733709217\n",
       "  pvalue    padj Study      CI_low_95  CI_hig_95 CI_low_99  CI_hig_99\n",
       "1 0.7553297 NA   OEP000837  -1.0936806 0.7936148 -1.3901962 1.090130 \n",
       "2 0.9890249 NA   PRJEB39064 -0.7564221 0.7458785 -0.9924507 0.981907 \n",
       "  taxonomy                                                                                                            \n",
       "1 k__Bacteria; p__Bacteroidetes; c__Bacteroidia; o__Bacteroidales; f__Prevotellaceae; g__Prevotella; s__melaninogenica\n",
       "2 k__Bacteria; p__Bacteroidetes; c__Bacteroidia; o__Bacteroidales; f__Prevotellaceae; g__Prevotella; s__melaninogenica\n",
       "  ID_taxonomy_name                                                                                                              \n",
       "1 1000563 ; k__Bacteria; p__Bacteroidetes; c__Bacteroidia; o__Bacteroidales; f__Prevotellaceae; g__Prevotella; s__melaninogenica\n",
       "2 1000563 ; k__Bacteria; p__Bacteroidetes; c__Bacteroidia; o__Bacteroidales; f__Prevotellaceae; g__Prevotella; s__melaninogenica\n",
       "  ID_taxonomy                                                                                                                   \n",
       "1 1000563 \\nk__Bacteria\\np__Bacteroidetes\\nc__Bacteroidia\\no__Bacteroidales\\nf__Prevotellaceae\\ng__Prevotella\\ns__melaninogenica\n",
       "2 1000563 \\nk__Bacteria\\np__Bacteroidetes\\nc__Bacteroidia\\no__Bacteroidales\\nf__Prevotellaceae\\ng__Prevotella\\ns__melaninogenica"
      ]
     },
     "metadata": {},
     "output_type": "display_data"
    }
   ],
   "source": [
    "head(Per_otu, 2)"
   ]
  },
  {
   "cell_type": "code",
   "execution_count": 32,
   "id": "49eae032-cd32-48b1-874f-e746d7c1d23e",
   "metadata": {},
   "outputs": [],
   "source": [
    "# write_csv(Per_otu, 'figures-and-tables/differential-analysis-results.csv')"
   ]
  },
  {
   "cell_type": "markdown",
   "id": "b6635122-0f53-4028-9f68-3314d42bee4f",
   "metadata": {},
   "source": [
    "# visualization"
   ]
  },
  {
   "cell_type": "markdown",
   "id": "a7e64649-78fc-4325-bd5f-27b76881f48a",
   "metadata": {},
   "source": [
    "## forest plot"
   ]
  },
  {
   "cell_type": "code",
   "execution_count": 73,
   "id": "aa658a1e-3789-47bc-ace6-231c88e82071",
   "metadata": {},
   "outputs": [],
   "source": [
    "sig_cutoff = 0.01"
   ]
  },
  {
   "cell_type": "code",
   "execution_count": 74,
   "id": "a463ef9b-96e3-4dff-a61e-98bb609426f7",
   "metadata": {},
   "outputs": [
    {
     "data": {
      "text/html": [
       "44"
      ],
      "text/latex": [
       "44"
      ],
      "text/markdown": [
       "44"
      ],
      "text/plain": [
       "[1] 44"
      ]
     },
     "metadata": {},
     "output_type": "display_data"
    }
   ],
   "source": [
    "# filter significant differential OTUs by combined p value\n",
    "fids_sig <- subset(Per_otu, Study == 'Combined') %>% subset(., padj <= sig_cutoff)\n",
    "fids_sig <- fids_sig$diff_otu\n",
    "length(fids_sig)"
   ]
  },
  {
   "cell_type": "code",
   "execution_count": 75,
   "id": "b7a4ac87-301e-419a-8104-0519fdd38934",
   "metadata": {},
   "outputs": [],
   "source": [
    "Per_otu <- Per_otu %>% mutate(Significant=case_when(\n",
    "padj<=sig_cutoff & log2FoldChange>0 ~ \"OSCC enriched\",\n",
    "padj<=sig_cutoff & log2FoldChange<0 ~ \"Healthy control enriched\",\n",
    "TRUE~\"ns\"\n",
    ")) \n",
    "\n",
    "Per_otu$Significant <- factor(Per_otu$Significant,\n",
    "                              levels=c(\"OSCC enriched\",\"Healthy control enriched\",\"ns\"))"
   ]
  },
  {
   "cell_type": "code",
   "execution_count": 76,
   "id": "5a141f07-1403-495d-865d-a98329157853",
   "metadata": {},
   "outputs": [
    {
     "data": {
      "text/html": [
       "<table>\n",
       "<caption>A data.frame: 3 × 17</caption>\n",
       "<thead>\n",
       "\t<tr><th></th><th scope=col>diff_otu</th><th scope=col>baseMean</th><th scope=col>log2FoldChange</th><th scope=col>lfcSE</th><th scope=col>stat</th><th scope=col>pvalue</th><th scope=col>padj</th><th scope=col>Study</th><th scope=col>CI_low_95</th><th scope=col>CI_hig_95</th><th scope=col>CI_low_99</th><th scope=col>CI_hig_99</th><th scope=col>taxonomy</th><th scope=col>ID_taxonomy_name</th><th scope=col>ID_taxonomy</th><th scope=col>Significant</th><th scope=col>absFC</th></tr>\n",
       "\t<tr><th></th><th scope=col>&lt;chr&gt;</th><th scope=col>&lt;chr&gt;</th><th scope=col>&lt;dbl&gt;</th><th scope=col>&lt;dbl&gt;</th><th scope=col>&lt;chr&gt;</th><th scope=col>&lt;dbl&gt;</th><th scope=col>&lt;dbl&gt;</th><th scope=col>&lt;chr&gt;</th><th scope=col>&lt;dbl&gt;</th><th scope=col>&lt;dbl&gt;</th><th scope=col>&lt;dbl&gt;</th><th scope=col>&lt;dbl&gt;</th><th scope=col>&lt;chr&gt;</th><th scope=col>&lt;chr&gt;</th><th scope=col>&lt;fct&gt;</th><th scope=col>&lt;fct&gt;</th><th scope=col>&lt;dbl&gt;</th></tr>\n",
       "</thead>\n",
       "<tbody>\n",
       "\t<tr><th scope=row>5924</th><td>469663</td><td>389.76687824894 </td><td>10.561813</td><td>1.114245</td><td>9.47889990847516</td><td>2.569779e-21</td><td>3.918913e-19</td><td>PRJNA700849</td><td>8.377934</td><td>12.74569</td><td>7.691709</td><td>13.43192</td><td>k__Bacteria; p__Actinobacteria; c__Coriobacteriia; o__Coriobacteriales; f__Coriobacteriaceae; g__Atopobium; s__vaginae</td><td>469663 ; k__Bacteria; p__Actinobacteria; c__Coriobacteriia; o__Coriobacteriales; f__Coriobacteriaceae; g__Atopobium; s__vaginae</td><td>NA                                                                                                                       </td><td>OSCC enriched</td><td>10.561813</td></tr>\n",
       "\t<tr><th scope=row>1473</th><td>222180</td><td>164.663544469789</td><td> 9.312717</td><td>1.197104</td><td>7.77937485214595</td><td>7.288380e-15</td><td>4.023103e-13</td><td>PRJNA700849</td><td>6.966437</td><td>11.65900</td><td>6.229183</td><td>12.39625</td><td>k__Bacteria; p__Proteobacteria; c__Gammaproteobacteria; o__Pseudomonadales; f__Moraxellaceae; g__Acinetobacter; s__   </td><td>222180 ; k__Bacteria; p__Proteobacteria; c__Gammaproteobacteria; o__Pseudomonadales; f__Moraxellaceae; g__Acinetobacter; s__   </td><td>NA                                                                                                                       </td><td>OSCC enriched</td><td> 9.312717</td></tr>\n",
       "\t<tr><th scope=row>6521</th><td>611110</td><td>162.394065952696</td><td> 9.292324</td><td>1.316225</td><td>7.05982720293716</td><td>1.667098e-12</td><td>6.355810e-11</td><td>PRJNA700849</td><td>6.712570</td><td>11.87208</td><td>5.901952</td><td>12.68270</td><td>k__Bacteria; p__Bacteroidetes; c__Bacteroidia; o__Bacteroidales; f__Prevotellaceae; g__Prevotella; s__intermedia      </td><td>611110 ; k__Bacteria; p__Bacteroidetes; c__Bacteroidia; o__Bacteroidales; f__Prevotellaceae; g__Prevotella; s__intermedia      </td><td>611110 \n",
       "k__Bacteria\n",
       "p__Bacteroidetes\n",
       "c__Bacteroidia\n",
       "o__Bacteroidales\n",
       "f__Prevotellaceae\n",
       "g__Prevotella\n",
       "s__intermedia</td><td>OSCC enriched</td><td> 9.292324</td></tr>\n",
       "</tbody>\n",
       "</table>\n"
      ],
      "text/latex": [
       "A data.frame: 3 × 17\n",
       "\\begin{tabular}{r|lllllllllllllllll}\n",
       "  & diff\\_otu & baseMean & log2FoldChange & lfcSE & stat & pvalue & padj & Study & CI\\_low\\_95 & CI\\_hig\\_95 & CI\\_low\\_99 & CI\\_hig\\_99 & taxonomy & ID\\_taxonomy\\_name & ID\\_taxonomy & Significant & absFC\\\\\n",
       "  & <chr> & <chr> & <dbl> & <dbl> & <chr> & <dbl> & <dbl> & <chr> & <dbl> & <dbl> & <dbl> & <dbl> & <chr> & <chr> & <fct> & <fct> & <dbl>\\\\\n",
       "\\hline\n",
       "\t5924 & 469663 & 389.76687824894  & 10.561813 & 1.114245 & 9.47889990847516 & 2.569779e-21 & 3.918913e-19 & PRJNA700849 & 8.377934 & 12.74569 & 7.691709 & 13.43192 & k\\_\\_Bacteria; p\\_\\_Actinobacteria; c\\_\\_Coriobacteriia; o\\_\\_Coriobacteriales; f\\_\\_Coriobacteriaceae; g\\_\\_Atopobium; s\\_\\_vaginae & 469663 ; k\\_\\_Bacteria; p\\_\\_Actinobacteria; c\\_\\_Coriobacteriia; o\\_\\_Coriobacteriales; f\\_\\_Coriobacteriaceae; g\\_\\_Atopobium; s\\_\\_vaginae & NA                                                                                                                        & OSCC enriched & 10.561813\\\\\n",
       "\t1473 & 222180 & 164.663544469789 &  9.312717 & 1.197104 & 7.77937485214595 & 7.288380e-15 & 4.023103e-13 & PRJNA700849 & 6.966437 & 11.65900 & 6.229183 & 12.39625 & k\\_\\_Bacteria; p\\_\\_Proteobacteria; c\\_\\_Gammaproteobacteria; o\\_\\_Pseudomonadales; f\\_\\_Moraxellaceae; g\\_\\_Acinetobacter; s\\_\\_    & 222180 ; k\\_\\_Bacteria; p\\_\\_Proteobacteria; c\\_\\_Gammaproteobacteria; o\\_\\_Pseudomonadales; f\\_\\_Moraxellaceae; g\\_\\_Acinetobacter; s\\_\\_    & NA                                                                                                                        & OSCC enriched &  9.312717\\\\\n",
       "\t6521 & 611110 & 162.394065952696 &  9.292324 & 1.316225 & 7.05982720293716 & 1.667098e-12 & 6.355810e-11 & PRJNA700849 & 6.712570 & 11.87208 & 5.901952 & 12.68270 & k\\_\\_Bacteria; p\\_\\_Bacteroidetes; c\\_\\_Bacteroidia; o\\_\\_Bacteroidales; f\\_\\_Prevotellaceae; g\\_\\_Prevotella; s\\_\\_intermedia       & 611110 ; k\\_\\_Bacteria; p\\_\\_Bacteroidetes; c\\_\\_Bacteroidia; o\\_\\_Bacteroidales; f\\_\\_Prevotellaceae; g\\_\\_Prevotella; s\\_\\_intermedia       & 611110 \n",
       "k\\_\\_Bacteria\n",
       "p\\_\\_Bacteroidetes\n",
       "c\\_\\_Bacteroidia\n",
       "o\\_\\_Bacteroidales\n",
       "f\\_\\_Prevotellaceae\n",
       "g\\_\\_Prevotella\n",
       "s\\_\\_intermedia & OSCC enriched &  9.292324\\\\\n",
       "\\end{tabular}\n"
      ],
      "text/markdown": [
       "\n",
       "A data.frame: 3 × 17\n",
       "\n",
       "| <!--/--> | diff_otu &lt;chr&gt; | baseMean &lt;chr&gt; | log2FoldChange &lt;dbl&gt; | lfcSE &lt;dbl&gt; | stat &lt;chr&gt; | pvalue &lt;dbl&gt; | padj &lt;dbl&gt; | Study &lt;chr&gt; | CI_low_95 &lt;dbl&gt; | CI_hig_95 &lt;dbl&gt; | CI_low_99 &lt;dbl&gt; | CI_hig_99 &lt;dbl&gt; | taxonomy &lt;chr&gt; | ID_taxonomy_name &lt;chr&gt; | ID_taxonomy &lt;fct&gt; | Significant &lt;fct&gt; | absFC &lt;dbl&gt; |\n",
       "|---|---|---|---|---|---|---|---|---|---|---|---|---|---|---|---|---|---|\n",
       "| 5924 | 469663 | 389.76687824894  | 10.561813 | 1.114245 | 9.47889990847516 | 2.569779e-21 | 3.918913e-19 | PRJNA700849 | 8.377934 | 12.74569 | 7.691709 | 13.43192 | k__Bacteria; p__Actinobacteria; c__Coriobacteriia; o__Coriobacteriales; f__Coriobacteriaceae; g__Atopobium; s__vaginae | 469663 ; k__Bacteria; p__Actinobacteria; c__Coriobacteriia; o__Coriobacteriales; f__Coriobacteriaceae; g__Atopobium; s__vaginae | NA                                                                                                                        | OSCC enriched | 10.561813 |\n",
       "| 1473 | 222180 | 164.663544469789 |  9.312717 | 1.197104 | 7.77937485214595 | 7.288380e-15 | 4.023103e-13 | PRJNA700849 | 6.966437 | 11.65900 | 6.229183 | 12.39625 | k__Bacteria; p__Proteobacteria; c__Gammaproteobacteria; o__Pseudomonadales; f__Moraxellaceae; g__Acinetobacter; s__    | 222180 ; k__Bacteria; p__Proteobacteria; c__Gammaproteobacteria; o__Pseudomonadales; f__Moraxellaceae; g__Acinetobacter; s__    | NA                                                                                                                        | OSCC enriched |  9.312717 |\n",
       "| 6521 | 611110 | 162.394065952696 |  9.292324 | 1.316225 | 7.05982720293716 | 1.667098e-12 | 6.355810e-11 | PRJNA700849 | 6.712570 | 11.87208 | 5.901952 | 12.68270 | k__Bacteria; p__Bacteroidetes; c__Bacteroidia; o__Bacteroidales; f__Prevotellaceae; g__Prevotella; s__intermedia       | 611110 ; k__Bacteria; p__Bacteroidetes; c__Bacteroidia; o__Bacteroidales; f__Prevotellaceae; g__Prevotella; s__intermedia       | 611110 \n",
       "k__Bacteria\n",
       "p__Bacteroidetes\n",
       "c__Bacteroidia\n",
       "o__Bacteroidales\n",
       "f__Prevotellaceae\n",
       "g__Prevotella\n",
       "s__intermedia | OSCC enriched |  9.292324 |\n",
       "\n"
      ],
      "text/plain": [
       "     diff_otu baseMean         log2FoldChange lfcSE    stat            \n",
       "5924 469663   389.76687824894  10.561813      1.114245 9.47889990847516\n",
       "1473 222180   164.663544469789  9.312717      1.197104 7.77937485214595\n",
       "6521 611110   162.394065952696  9.292324      1.316225 7.05982720293716\n",
       "     pvalue       padj         Study       CI_low_95 CI_hig_95 CI_low_99\n",
       "5924 2.569779e-21 3.918913e-19 PRJNA700849 8.377934  12.74569  7.691709 \n",
       "1473 7.288380e-15 4.023103e-13 PRJNA700849 6.966437  11.65900  6.229183 \n",
       "6521 1.667098e-12 6.355810e-11 PRJNA700849 6.712570  11.87208  5.901952 \n",
       "     CI_hig_99\n",
       "5924 13.43192 \n",
       "1473 12.39625 \n",
       "6521 12.68270 \n",
       "     taxonomy                                                                                                              \n",
       "5924 k__Bacteria; p__Actinobacteria; c__Coriobacteriia; o__Coriobacteriales; f__Coriobacteriaceae; g__Atopobium; s__vaginae\n",
       "1473 k__Bacteria; p__Proteobacteria; c__Gammaproteobacteria; o__Pseudomonadales; f__Moraxellaceae; g__Acinetobacter; s__   \n",
       "6521 k__Bacteria; p__Bacteroidetes; c__Bacteroidia; o__Bacteroidales; f__Prevotellaceae; g__Prevotella; s__intermedia      \n",
       "     ID_taxonomy_name                                                                                                               \n",
       "5924 469663 ; k__Bacteria; p__Actinobacteria; c__Coriobacteriia; o__Coriobacteriales; f__Coriobacteriaceae; g__Atopobium; s__vaginae\n",
       "1473 222180 ; k__Bacteria; p__Proteobacteria; c__Gammaproteobacteria; o__Pseudomonadales; f__Moraxellaceae; g__Acinetobacter; s__   \n",
       "6521 611110 ; k__Bacteria; p__Bacteroidetes; c__Bacteroidia; o__Bacteroidales; f__Prevotellaceae; g__Prevotella; s__intermedia      \n",
       "     ID_taxonomy                                                                                                              \n",
       "5924 NA                                                                                                                       \n",
       "1473 NA                                                                                                                       \n",
       "6521 611110 \\nk__Bacteria\\np__Bacteroidetes\\nc__Bacteroidia\\no__Bacteroidales\\nf__Prevotellaceae\\ng__Prevotella\\ns__intermedia\n",
       "     Significant   absFC    \n",
       "5924 OSCC enriched 10.561813\n",
       "1473 OSCC enriched  9.312717\n",
       "6521 OSCC enriched  9.292324"
      ]
     },
     "metadata": {},
     "output_type": "display_data"
    }
   ],
   "source": [
    "head(Per_otu, 3)"
   ]
  },
  {
   "cell_type": "code",
   "execution_count": 77,
   "id": "3fb24318-021b-4225-ad89-ed13516727d2",
   "metadata": {},
   "outputs": [],
   "source": [
    "Per_otu$absFC <- abs(Per_otu$log2FoldChange)\n",
    "Per_otu <- Per_otu[order(Per_otu$absFC, decreasing=T),]\n",
    "Per_otu$ID_taxonomy <- factor(Per_otu$ID_taxonomy,\n",
    "                              levels=subset(Per_otu,Study=='Combined')$ID_taxonomy)"
   ]
  },
  {
   "cell_type": "code",
   "execution_count": 78,
   "id": "70172f58-1670-45d6-825b-d86fce2051af",
   "metadata": {},
   "outputs": [],
   "source": [
    "f <- subset(Per_otu, diff_otu %in% fids_sig)"
   ]
  },
  {
   "cell_type": "code",
   "execution_count": 79,
   "id": "f643e4ac-984e-4c9d-b6a9-3712f3b2261c",
   "metadata": {},
   "outputs": [
    {
     "data": {
      "text/html": [
       "<table>\n",
       "<caption>A data.frame: 2 × 17</caption>\n",
       "<thead>\n",
       "\t<tr><th></th><th scope=col>diff_otu</th><th scope=col>baseMean</th><th scope=col>log2FoldChange</th><th scope=col>lfcSE</th><th scope=col>stat</th><th scope=col>pvalue</th><th scope=col>padj</th><th scope=col>Study</th><th scope=col>CI_low_95</th><th scope=col>CI_hig_95</th><th scope=col>CI_low_99</th><th scope=col>CI_hig_99</th><th scope=col>taxonomy</th><th scope=col>ID_taxonomy_name</th><th scope=col>ID_taxonomy</th><th scope=col>Significant</th><th scope=col>absFC</th></tr>\n",
       "\t<tr><th></th><th scope=col>&lt;chr&gt;</th><th scope=col>&lt;chr&gt;</th><th scope=col>&lt;dbl&gt;</th><th scope=col>&lt;dbl&gt;</th><th scope=col>&lt;chr&gt;</th><th scope=col>&lt;dbl&gt;</th><th scope=col>&lt;dbl&gt;</th><th scope=col>&lt;chr&gt;</th><th scope=col>&lt;dbl&gt;</th><th scope=col>&lt;dbl&gt;</th><th scope=col>&lt;dbl&gt;</th><th scope=col>&lt;dbl&gt;</th><th scope=col>&lt;chr&gt;</th><th scope=col>&lt;chr&gt;</th><th scope=col>&lt;fct&gt;</th><th scope=col>&lt;fct&gt;</th><th scope=col>&lt;dbl&gt;</th></tr>\n",
       "</thead>\n",
       "<tbody>\n",
       "\t<tr><th scope=row>4409</th><td>4357259</td><td>41.6234862140196</td><td>-5.646808</td><td>0.7257185</td><td>-7.78098942092415</td><td>7.195951e-15</td><td>4.625969e-13</td><td>PRJNA756784</td><td>-7.069190</td><td>-4.224426</td><td>-7.516135</td><td>-3.777481</td><td>k__Bacteria; p__Fusobacteria; c__Fusobacteriia; o__Fusobacteriales; f__Leptotrichiaceae; g__Leptotrichia; s__</td><td>4357259 ; k__Bacteria; p__Fusobacteria; c__Fusobacteriia; o__Fusobacteriales; f__Leptotrichiaceae; g__Leptotrichia; s__</td><td>4357259 \n",
       "k__Bacteria\n",
       "p__Fusobacteria\n",
       "c__Fusobacteriia\n",
       "o__Fusobacteriales\n",
       "f__Leptotrichiaceae\n",
       "g__Leptotrichia\n",
       "s__</td><td>Healthy control enriched</td><td>5.646808</td></tr>\n",
       "\t<tr><th scope=row>6107</th><td>525128 </td><td>169.68287535449 </td><td> 5.114885</td><td>0.6325301</td><td>8.0863895482838  </td><td>6.145940e-16</td><td>4.686279e-14</td><td>PRJNA700849</td><td> 3.875148</td><td> 6.354621</td><td> 3.485595</td><td> 6.744174</td><td>k__Bacteria; p__Firmicutes; c__Bacilli; o__Lactobacillales; f__Streptococcaceae; g__Streptococcus; s__       </td><td>525128 ; k__Bacteria; p__Firmicutes; c__Bacilli; o__Lactobacillales; f__Streptococcaceae; g__Streptococcus; s__        </td><td>525128 \n",
       "k__Bacteria\n",
       "p__Firmicutes\n",
       "c__Bacilli\n",
       "o__Lactobacillales\n",
       "f__Streptococcaceae\n",
       "g__Streptococcus\n",
       "s__        </td><td>OSCC enriched           </td><td>5.114885</td></tr>\n",
       "</tbody>\n",
       "</table>\n"
      ],
      "text/latex": [
       "A data.frame: 2 × 17\n",
       "\\begin{tabular}{r|lllllllllllllllll}\n",
       "  & diff\\_otu & baseMean & log2FoldChange & lfcSE & stat & pvalue & padj & Study & CI\\_low\\_95 & CI\\_hig\\_95 & CI\\_low\\_99 & CI\\_hig\\_99 & taxonomy & ID\\_taxonomy\\_name & ID\\_taxonomy & Significant & absFC\\\\\n",
       "  & <chr> & <chr> & <dbl> & <dbl> & <chr> & <dbl> & <dbl> & <chr> & <dbl> & <dbl> & <dbl> & <dbl> & <chr> & <chr> & <fct> & <fct> & <dbl>\\\\\n",
       "\\hline\n",
       "\t4409 & 4357259 & 41.6234862140196 & -5.646808 & 0.7257185 & -7.78098942092415 & 7.195951e-15 & 4.625969e-13 & PRJNA756784 & -7.069190 & -4.224426 & -7.516135 & -3.777481 & k\\_\\_Bacteria; p\\_\\_Fusobacteria; c\\_\\_Fusobacteriia; o\\_\\_Fusobacteriales; f\\_\\_Leptotrichiaceae; g\\_\\_Leptotrichia; s\\_\\_ & 4357259 ; k\\_\\_Bacteria; p\\_\\_Fusobacteria; c\\_\\_Fusobacteriia; o\\_\\_Fusobacteriales; f\\_\\_Leptotrichiaceae; g\\_\\_Leptotrichia; s\\_\\_ & 4357259 \n",
       "k\\_\\_Bacteria\n",
       "p\\_\\_Fusobacteria\n",
       "c\\_\\_Fusobacteriia\n",
       "o\\_\\_Fusobacteriales\n",
       "f\\_\\_Leptotrichiaceae\n",
       "g\\_\\_Leptotrichia\n",
       "s\\_\\_ & Healthy control enriched & 5.646808\\\\\n",
       "\t6107 & 525128  & 169.68287535449  &  5.114885 & 0.6325301 & 8.0863895482838   & 6.145940e-16 & 4.686279e-14 & PRJNA700849 &  3.875148 &  6.354621 &  3.485595 &  6.744174 & k\\_\\_Bacteria; p\\_\\_Firmicutes; c\\_\\_Bacilli; o\\_\\_Lactobacillales; f\\_\\_Streptococcaceae; g\\_\\_Streptococcus; s\\_\\_        & 525128 ; k\\_\\_Bacteria; p\\_\\_Firmicutes; c\\_\\_Bacilli; o\\_\\_Lactobacillales; f\\_\\_Streptococcaceae; g\\_\\_Streptococcus; s\\_\\_         & 525128 \n",
       "k\\_\\_Bacteria\n",
       "p\\_\\_Firmicutes\n",
       "c\\_\\_Bacilli\n",
       "o\\_\\_Lactobacillales\n",
       "f\\_\\_Streptococcaceae\n",
       "g\\_\\_Streptococcus\n",
       "s\\_\\_         & OSCC enriched            & 5.114885\\\\\n",
       "\\end{tabular}\n"
      ],
      "text/markdown": [
       "\n",
       "A data.frame: 2 × 17\n",
       "\n",
       "| <!--/--> | diff_otu &lt;chr&gt; | baseMean &lt;chr&gt; | log2FoldChange &lt;dbl&gt; | lfcSE &lt;dbl&gt; | stat &lt;chr&gt; | pvalue &lt;dbl&gt; | padj &lt;dbl&gt; | Study &lt;chr&gt; | CI_low_95 &lt;dbl&gt; | CI_hig_95 &lt;dbl&gt; | CI_low_99 &lt;dbl&gt; | CI_hig_99 &lt;dbl&gt; | taxonomy &lt;chr&gt; | ID_taxonomy_name &lt;chr&gt; | ID_taxonomy &lt;fct&gt; | Significant &lt;fct&gt; | absFC &lt;dbl&gt; |\n",
       "|---|---|---|---|---|---|---|---|---|---|---|---|---|---|---|---|---|---|\n",
       "| 4409 | 4357259 | 41.6234862140196 | -5.646808 | 0.7257185 | -7.78098942092415 | 7.195951e-15 | 4.625969e-13 | PRJNA756784 | -7.069190 | -4.224426 | -7.516135 | -3.777481 | k__Bacteria; p__Fusobacteria; c__Fusobacteriia; o__Fusobacteriales; f__Leptotrichiaceae; g__Leptotrichia; s__ | 4357259 ; k__Bacteria; p__Fusobacteria; c__Fusobacteriia; o__Fusobacteriales; f__Leptotrichiaceae; g__Leptotrichia; s__ | 4357259 \n",
       "k__Bacteria\n",
       "p__Fusobacteria\n",
       "c__Fusobacteriia\n",
       "o__Fusobacteriales\n",
       "f__Leptotrichiaceae\n",
       "g__Leptotrichia\n",
       "s__ | Healthy control enriched | 5.646808 |\n",
       "| 6107 | 525128  | 169.68287535449  |  5.114885 | 0.6325301 | 8.0863895482838   | 6.145940e-16 | 4.686279e-14 | PRJNA700849 |  3.875148 |  6.354621 |  3.485595 |  6.744174 | k__Bacteria; p__Firmicutes; c__Bacilli; o__Lactobacillales; f__Streptococcaceae; g__Streptococcus; s__        | 525128 ; k__Bacteria; p__Firmicutes; c__Bacilli; o__Lactobacillales; f__Streptococcaceae; g__Streptococcus; s__         | 525128 \n",
       "k__Bacteria\n",
       "p__Firmicutes\n",
       "c__Bacilli\n",
       "o__Lactobacillales\n",
       "f__Streptococcaceae\n",
       "g__Streptococcus\n",
       "s__         | OSCC enriched            | 5.114885 |\n",
       "\n"
      ],
      "text/plain": [
       "     diff_otu baseMean         log2FoldChange lfcSE     stat             \n",
       "4409 4357259  41.6234862140196 -5.646808      0.7257185 -7.78098942092415\n",
       "6107 525128   169.68287535449   5.114885      0.6325301 8.0863895482838  \n",
       "     pvalue       padj         Study       CI_low_95 CI_hig_95 CI_low_99\n",
       "4409 7.195951e-15 4.625969e-13 PRJNA756784 -7.069190 -4.224426 -7.516135\n",
       "6107 6.145940e-16 4.686279e-14 PRJNA700849  3.875148  6.354621  3.485595\n",
       "     CI_hig_99\n",
       "4409 -3.777481\n",
       "6107  6.744174\n",
       "     taxonomy                                                                                                     \n",
       "4409 k__Bacteria; p__Fusobacteria; c__Fusobacteriia; o__Fusobacteriales; f__Leptotrichiaceae; g__Leptotrichia; s__\n",
       "6107 k__Bacteria; p__Firmicutes; c__Bacilli; o__Lactobacillales; f__Streptococcaceae; g__Streptococcus; s__       \n",
       "     ID_taxonomy_name                                                                                                       \n",
       "4409 4357259 ; k__Bacteria; p__Fusobacteria; c__Fusobacteriia; o__Fusobacteriales; f__Leptotrichiaceae; g__Leptotrichia; s__\n",
       "6107 525128 ; k__Bacteria; p__Firmicutes; c__Bacilli; o__Lactobacillales; f__Streptococcaceae; g__Streptococcus; s__        \n",
       "     ID_taxonomy                                                                                                            \n",
       "4409 4357259 \\nk__Bacteria\\np__Fusobacteria\\nc__Fusobacteriia\\no__Fusobacteriales\\nf__Leptotrichiaceae\\ng__Leptotrichia\\ns__\n",
       "6107 525128 \\nk__Bacteria\\np__Firmicutes\\nc__Bacilli\\no__Lactobacillales\\nf__Streptococcaceae\\ng__Streptococcus\\ns__        \n",
       "     Significant              absFC   \n",
       "4409 Healthy control enriched 5.646808\n",
       "6107 OSCC enriched            5.114885"
      ]
     },
     "metadata": {},
     "output_type": "display_data"
    }
   ],
   "source": [
    "head(f, 2)"
   ]
  },
  {
   "cell_type": "code",
   "execution_count": 80,
   "id": "69d3d14d-ea41-42be-b23f-c6820e38c178",
   "metadata": {},
   "outputs": [
    {
     "data": {
      "image/png": "[encoded data removed]",
      "text/plain": [
       "plot without title"
      ]
     },
     "metadata": {
      "image/png": {
       "height": 420,
       "width": 420
      }
     },
     "output_type": "display_data"
    }
   ],
   "source": [
    "ggplot(f,aes(x=log2FoldChange, y=Study, color=Significant)) +  \n",
    "geom_vline(xintercept = 0, linetype=\"dashed\", color=\"grey50\") +\n",
    "geom_errorbarh(aes(xmin=CI_low_99, xmax=CI_hig_99), height=0) +\n",
    "geom_point(size=1) +\n",
    "facet_wrap(~ID_taxonomy,ncol=8,scales=\"free_x\") +\n",
    "theme_MicrobeR() +\n",
    "scale_color_manual(values=c(H,L,'black'))  +\n",
    "theme(panel.border = element_blank(), axis.line = element_line()) +\n",
    "theme(axis.text.x=element_text(angle=45, hjust=1,size=9),\n",
    "      axis.text = element_text(size = 9,colour = 'black'),\n",
    "      legend.title = element_text(size = 9),\n",
    "      legend.text = element_text(size = 10),\n",
    "      strip.text = element_text(size = 7,face = \"bold\")) +\n",
    "theme(legend.position = c(.8,0.05))+\n",
    "xlim(min(f$CI_low_99)+0.1,max(f$CI_hig_99)+0.1)+labs(y='cohort',color='FDR<=0.01')\n",
    "             \n",
    "# ggsave(\"figures-and-tables/combined-diff-otus-forest-plot-FDR0.01.pdf\", \n",
    "#        device=\"pdf\", height=ceiling(length(fids_sig)/8) * 2.5, width=11, useDingbats=F)"
   ]
  },
  {
   "cell_type": "markdown",
   "id": "3252f6c3-64e1-47e7-9d74-aee838774647",
   "metadata": {},
   "source": [
    "## plot for top 20 OTUs"
   ]
  },
  {
   "cell_type": "code",
   "execution_count": 81,
   "id": "4690eb53-9199-4569-8363-ae5a405a6435",
   "metadata": {},
   "outputs": [],
   "source": [
    "# select top 20 diff OTUs\n",
    "con <- subset(f, Study=='Combined')\n",
    "con <- con[order(con$absFC, decreasing=T),] \n",
    "top <- con$diff_otu[1:20]\n",
    "top_data <- f[f$diff_otu %in% top,]"
   ]
  },
  {
   "cell_type": "code",
   "execution_count": 82,
   "id": "79e041c6-45f6-4c4e-b14f-45d281096b10",
   "metadata": {},
   "outputs": [],
   "source": [
    "# align taxa\n",
    "cols <- c('ID', 'k', 'p', 'c', 'o', 'f', 'g', 's')\n",
    "\n",
    "# split taxonomy to multiply columns\n",
    "top_data <- top_data %>% separate(ID_taxonomy_name, cols, sep = ';', remove = FALSE)"
   ]
  },
  {
   "cell_type": "code",
   "execution_count": 83,
   "id": "4f0f14b2-cfc8-42d9-bc30-2ca8e0628780",
   "metadata": {},
   "outputs": [
    {
     "data": {
      "text/html": [
       "<table>\n",
       "<caption>A data.frame: 1 × 25</caption>\n",
       "<thead>\n",
       "\t<tr><th></th><th scope=col>diff_otu</th><th scope=col>baseMean</th><th scope=col>log2FoldChange</th><th scope=col>lfcSE</th><th scope=col>stat</th><th scope=col>pvalue</th><th scope=col>padj</th><th scope=col>Study</th><th scope=col>CI_low_95</th><th scope=col>CI_hig_95</th><th scope=col>⋯</th><th scope=col>k</th><th scope=col>p</th><th scope=col>c</th><th scope=col>o</th><th scope=col>f</th><th scope=col>g</th><th scope=col>s</th><th scope=col>ID_taxonomy</th><th scope=col>Significant</th><th scope=col>absFC</th></tr>\n",
       "\t<tr><th></th><th scope=col>&lt;chr&gt;</th><th scope=col>&lt;chr&gt;</th><th scope=col>&lt;dbl&gt;</th><th scope=col>&lt;dbl&gt;</th><th scope=col>&lt;chr&gt;</th><th scope=col>&lt;dbl&gt;</th><th scope=col>&lt;dbl&gt;</th><th scope=col>&lt;chr&gt;</th><th scope=col>&lt;dbl&gt;</th><th scope=col>&lt;dbl&gt;</th><th scope=col>⋯</th><th scope=col>&lt;chr&gt;</th><th scope=col>&lt;chr&gt;</th><th scope=col>&lt;chr&gt;</th><th scope=col>&lt;chr&gt;</th><th scope=col>&lt;chr&gt;</th><th scope=col>&lt;chr&gt;</th><th scope=col>&lt;chr&gt;</th><th scope=col>&lt;fct&gt;</th><th scope=col>&lt;fct&gt;</th><th scope=col>&lt;dbl&gt;</th></tr>\n",
       "</thead>\n",
       "<tbody>\n",
       "\t<tr><th scope=row>4409</th><td>4357259</td><td>41.6234862140196</td><td>-5.646808</td><td>0.7257185</td><td>-7.78098942092415</td><td>7.195951e-15</td><td>4.625969e-13</td><td>PRJNA756784</td><td>-7.06919</td><td>-4.224426</td><td>⋯</td><td> k__Bacteria</td><td> p__Fusobacteria</td><td> c__Fusobacteriia</td><td> o__Fusobacteriales</td><td> f__Leptotrichiaceae</td><td> g__Leptotrichia</td><td> s__</td><td>4357259 \n",
       "k__Bacteria\n",
       "p__Fusobacteria\n",
       "c__Fusobacteriia\n",
       "o__Fusobacteriales\n",
       "f__Leptotrichiaceae\n",
       "g__Leptotrichia\n",
       "s__</td><td>Healthy control enriched</td><td>5.646808</td></tr>\n",
       "</tbody>\n",
       "</table>\n"
      ],
      "text/latex": [
       "A data.frame: 1 × 25\n",
       "\\begin{tabular}{r|lllllllllllllllllllll}\n",
       "  & diff\\_otu & baseMean & log2FoldChange & lfcSE & stat & pvalue & padj & Study & CI\\_low\\_95 & CI\\_hig\\_95 & ⋯ & k & p & c & o & f & g & s & ID\\_taxonomy & Significant & absFC\\\\\n",
       "  & <chr> & <chr> & <dbl> & <dbl> & <chr> & <dbl> & <dbl> & <chr> & <dbl> & <dbl> & ⋯ & <chr> & <chr> & <chr> & <chr> & <chr> & <chr> & <chr> & <fct> & <fct> & <dbl>\\\\\n",
       "\\hline\n",
       "\t4409 & 4357259 & 41.6234862140196 & -5.646808 & 0.7257185 & -7.78098942092415 & 7.195951e-15 & 4.625969e-13 & PRJNA756784 & -7.06919 & -4.224426 & ⋯ &  k\\_\\_Bacteria &  p\\_\\_Fusobacteria &  c\\_\\_Fusobacteriia &  o\\_\\_Fusobacteriales &  f\\_\\_Leptotrichiaceae &  g\\_\\_Leptotrichia &  s\\_\\_ & 4357259 \n",
       "k\\_\\_Bacteria\n",
       "p\\_\\_Fusobacteria\n",
       "c\\_\\_Fusobacteriia\n",
       "o\\_\\_Fusobacteriales\n",
       "f\\_\\_Leptotrichiaceae\n",
       "g\\_\\_Leptotrichia\n",
       "s\\_\\_ & Healthy control enriched & 5.646808\\\\\n",
       "\\end{tabular}\n"
      ],
      "text/markdown": [
       "\n",
       "A data.frame: 1 × 25\n",
       "\n",
       "| <!--/--> | diff_otu &lt;chr&gt; | baseMean &lt;chr&gt; | log2FoldChange &lt;dbl&gt; | lfcSE &lt;dbl&gt; | stat &lt;chr&gt; | pvalue &lt;dbl&gt; | padj &lt;dbl&gt; | Study &lt;chr&gt; | CI_low_95 &lt;dbl&gt; | CI_hig_95 &lt;dbl&gt; | ⋯ ⋯ | k &lt;chr&gt; | p &lt;chr&gt; | c &lt;chr&gt; | o &lt;chr&gt; | f &lt;chr&gt; | g &lt;chr&gt; | s &lt;chr&gt; | ID_taxonomy &lt;fct&gt; | Significant &lt;fct&gt; | absFC &lt;dbl&gt; |\n",
       "|---|---|---|---|---|---|---|---|---|---|---|---|---|---|---|---|---|---|---|---|---|---|\n",
       "| 4409 | 4357259 | 41.6234862140196 | -5.646808 | 0.7257185 | -7.78098942092415 | 7.195951e-15 | 4.625969e-13 | PRJNA756784 | -7.06919 | -4.224426 | ⋯ |  k__Bacteria |  p__Fusobacteria |  c__Fusobacteriia |  o__Fusobacteriales |  f__Leptotrichiaceae |  g__Leptotrichia |  s__ | 4357259 \n",
       "k__Bacteria\n",
       "p__Fusobacteria\n",
       "c__Fusobacteriia\n",
       "o__Fusobacteriales\n",
       "f__Leptotrichiaceae\n",
       "g__Leptotrichia\n",
       "s__ | Healthy control enriched | 5.646808 |\n",
       "\n"
      ],
      "text/plain": [
       "     diff_otu baseMean         log2FoldChange lfcSE     stat             \n",
       "4409 4357259  41.6234862140196 -5.646808      0.7257185 -7.78098942092415\n",
       "     pvalue       padj         Study       CI_low_95 CI_hig_95 ⋯ k           \n",
       "4409 7.195951e-15 4.625969e-13 PRJNA756784 -7.06919  -4.224426 ⋯  k__Bacteria\n",
       "     p                c                 o                  \n",
       "4409  p__Fusobacteria  c__Fusobacteriia  o__Fusobacteriales\n",
       "     f                    g                s   \n",
       "4409  f__Leptotrichiaceae  g__Leptotrichia  s__\n",
       "     ID_taxonomy                                                                                                            \n",
       "4409 4357259 \\nk__Bacteria\\np__Fusobacteria\\nc__Fusobacteriia\\no__Fusobacteriales\\nf__Leptotrichiaceae\\ng__Leptotrichia\\ns__\n",
       "     Significant              absFC   \n",
       "4409 Healthy control enriched 5.646808"
      ]
     },
     "metadata": {},
     "output_type": "display_data"
    }
   ],
   "source": [
    "head(top_data, 1)"
   ]
  },
  {
   "cell_type": "code",
   "execution_count": 84,
   "id": "7758888d-3483-437b-8a0b-0656e11c6c75",
   "metadata": {},
   "outputs": [],
   "source": [
    "for (col in cols){\n",
    "    fixed_length <- max(sapply(top_data[[col]], nchar)) + 1 \n",
    "    top_data[[col]] <- lapply(top_data[[col]], \n",
    "                              function(x) str_pad(x, fixed_length, side = 'right', pad = ' ')) \n",
    "}"
   ]
  },
  {
   "cell_type": "code",
   "execution_count": 85,
   "id": "90f402e0-2dd2-4c42-9341-fa752b03ee71",
   "metadata": {},
   "outputs": [],
   "source": [
    "top_data <- unite(top_data, 'aligned_taxa', cols, remove=FALSE, sep = \"\")"
   ]
  },
  {
   "cell_type": "code",
   "execution_count": 86,
   "id": "b2e3b03a-4dd1-4cfd-9318-1def083757bb",
   "metadata": {},
   "outputs": [],
   "source": [
    "# order for plot\n",
    "top_data <- top_data[order(top_data$log2FoldChange, decreasing=TRUE),]\n",
    "\n",
    "top_data$aligned_taxa <- factor(top_data$aligned_taxa,\n",
    "                                levels=subset(top_data,Study=='Combined')$aligned_taxa) "
   ]
  },
  {
   "cell_type": "code",
   "execution_count": 88,
   "id": "e7b11c39-8649-4b8c-af4e-1247d9503e5a",
   "metadata": {},
   "outputs": [
    {
     "data": {
      "image/png": "[encoded data removed]",
      "text/plain": [
       "plot without title"
      ]
     },
     "metadata": {
      "image/png": {
       "height": 420,
       "width": 420
      }
     },
     "output_type": "display_data"
    }
   ],
   "source": [
    "ggplot(top_data,aes(x=log2FoldChange, y=aligned_taxa, color=Significant)) +  \n",
    "geom_vline(xintercept = 0, linetype=\"dashed\", color=\"grey50\") + \n",
    "geom_errorbarh(aes(xmin=CI_low_99, xmax=CI_hig_99),\n",
    "               data=subset(top_data,Study=='Combined'), height=0) +\n",
    "geom_point(aes(shape=Study),size=3)+\n",
    "scale_shape_manual(values=c(17,0,1,2,3,4,5,6,9,10)) +\n",
    "theme_MicrobeR() +\n",
    "scale_color_manual(values=c(L,'grey', H))  +\n",
    "theme(panel.border = element_blank(), axis.line = element_line()) +\n",
    "theme(axis.text.x=element_text(angle=45, hjust=1,size=12,colour = 'black'),\n",
    "      axis.text.y = element_text(size = 12,colour = 'black',family = \"mono\"),\n",
    "      axis.title=element_text(colour='black', size=12),\n",
    "      legend.title = element_text(size = 10),\n",
    "      legend.text = element_text(size = 11),\n",
    "      )+ \n",
    "xlim(min(f$CI_low_99),max(f$CI_hig_99)) +\n",
    "labs(shape='Study',color='FDR<=0.01',y='Taxon')\n",
    "\n",
    "# ggsave(\"figures-and-tables/combined-diff-otus-FDR0.01-top20.pdf\",\n",
    "#       device=\"pdf\", height=6, width=20, useDingbats=F)"
   ]
  },
  {
   "cell_type": "code",
   "execution_count": null,
   "id": "77489756-f8fc-4af2-9b3f-27c66bfc68d6",
   "metadata": {},
   "outputs": [],
   "source": []
  }
 ],
 "metadata": {
  "kernelspec": {
   "display_name": "R",
   "language": "R",
   "name": "ir"
  },
  "language_info": {
   "codemirror_mode": "r",
   "file_extension": ".r",
   "mimetype": "text/x-r-source",
   "name": "R",
   "pygments_lexer": "r",
   "version": "4.3.1"
  },
  "toc-autonumbering": true
 },
 "nbformat": 4,
 "nbformat_minor": 5
}
