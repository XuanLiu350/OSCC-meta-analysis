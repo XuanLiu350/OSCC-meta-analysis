{
 "cells": [
  {
   "cell_type": "code",
   "execution_count": 2,
   "id": "d0ad58e4-ad56-41ad-b1a5-40875011c7ee",
   "metadata": {
    "tags": []
   },
   "outputs": [
    {
     "name": "stderr",
     "output_type": "stream",
     "text": [
      "── \u001b[1mAttaching core tidyverse packages\u001b[22m ──────────────────────── tidyverse 2.0.0 ──\n",
      "\u001b[32m✔\u001b[39m \u001b[34mdplyr    \u001b[39m 1.1.4     \u001b[32m✔\u001b[39m \u001b[34mreadr    \u001b[39m 2.1.4\n",
      "\u001b[32m✔\u001b[39m \u001b[34mforcats  \u001b[39m 1.0.0     \u001b[32m✔\u001b[39m \u001b[34mstringr  \u001b[39m 1.5.1\n",
      "\u001b[32m✔\u001b[39m \u001b[34mlubridate\u001b[39m 1.9.3     \u001b[32m✔\u001b[39m \u001b[34mtibble   \u001b[39m 3.2.1\n",
      "\u001b[32m✔\u001b[39m \u001b[34mpurrr    \u001b[39m 1.0.2     \u001b[32m✔\u001b[39m \u001b[34mtidyr    \u001b[39m 1.3.1\n",
      "── \u001b[1mConflicts\u001b[22m ────────────────────────────────────────── tidyverse_conflicts() ──\n",
      "\u001b[31m✖\u001b[39m \u001b[34mdplyr\u001b[39m::\u001b[32mfilter()\u001b[39m masks \u001b[34mstats\u001b[39m::filter()\n",
      "\u001b[31m✖\u001b[39m \u001b[34mdplyr\u001b[39m::\u001b[32mlag()\u001b[39m    masks \u001b[34mstats\u001b[39m::lag()\n",
      "\u001b[36mℹ\u001b[39m Use the conflicted package (\u001b[3m\u001b[34m<http://conflicted.r-lib.org/>\u001b[39m\u001b[23m) to force all conflicts to become errors\n"
     ]
    },
    {
     "ename": "ERROR",
     "evalue": "Error in library(MicrobeR): there is no package called ‘MicrobeR’\n",
     "output_type": "error",
     "traceback": [
      "Error in library(MicrobeR): there is no package called ‘MicrobeR’\nTraceback:\n",
      "1. library(MicrobeR)"
     ]
    }
   ],
   "source": [
    "library(ggplot2)\n",
    "library(tidyverse)\n",
    "library(readxl)\n",
    "library(MicrobeR)\n",
    "library(vegan)"
   ]
  },
  {
   "cell_type": "code",
   "execution_count": 2,
   "id": "c27db052-5cc0-406d-8a7f-a3407b08493a",
   "metadata": {
    "tags": []
   },
   "outputs": [
    {
     "data": {
      "text/html": [
       "<table>\n",
       "<caption>A data.frame: 6 × 37</caption>\n",
       "<thead>\n",
       "\t<tr><th></th><th scope=col>SampleID</th><th scope=col>sample_type</th><th scope=col>project_ID</th><th scope=col>sequencing_region</th><th scope=col>diagnose</th><th scope=col>age</th><th scope=col>gender</th><th scope=col>BMI</th><th scope=col>tumor_site</th><th scope=col>T_stage</th><th scope=col>⋯</th><th scope=col>sequencing_region_merge</th><th scope=col>host_replicates</th><th scope=col>treatment_yn</th><th scope=col>replicate_2</th><th scope=col>HNSCC</th><th scope=col>_sample_id</th><th scope=col>_calour_original_abundance</th><th scope=col>observed_features</th><th scope=col>shannon_entropy</th><th scope=col>faith_pd</th></tr>\n",
       "\t<tr><th></th><th scope=col>&lt;chr&gt;</th><th scope=col>&lt;chr&gt;</th><th scope=col>&lt;chr&gt;</th><th scope=col>&lt;chr&gt;</th><th scope=col>&lt;chr&gt;</th><th scope=col>&lt;dbl&gt;</th><th scope=col>&lt;chr&gt;</th><th scope=col>&lt;dbl&gt;</th><th scope=col>&lt;chr&gt;</th><th scope=col>&lt;chr&gt;</th><th scope=col>⋯</th><th scope=col>&lt;chr&gt;</th><th scope=col>&lt;chr&gt;</th><th scope=col>&lt;chr&gt;</th><th scope=col>&lt;chr&gt;</th><th scope=col>&lt;chr&gt;</th><th scope=col>&lt;chr&gt;</th><th scope=col>&lt;dbl&gt;</th><th scope=col>&lt;int&gt;</th><th scope=col>&lt;dbl&gt;</th><th scope=col>&lt;dbl&gt;</th></tr>\n",
       "</thead>\n",
       "<tbody>\n",
       "\t<tr><th scope=row>SRR21105746</th><td>SRR21105746</td><td>Oral_rinse</td><td>PRJNA870048</td><td>V3-V4</td><td>OSCC           </td><td>63</td><td>M</td><td>NA</td><td>tongue</td><td>  </td><td>⋯</td><td>V3-V4</td><td></td><td></td><td></td><td></td><td>SRR21105746</td><td> 48812</td><td>184</td><td>3.804584</td><td>16.04912</td></tr>\n",
       "\t<tr><th scope=row>SRR6110936</th><td>SRR6110936 </td><td>Saliva    </td><td>PRJNA412445</td><td>V4-V5</td><td>OSCC           </td><td>63</td><td>F</td><td>NA</td><td>      </td><td>II</td><td>⋯</td><td>V4-V5</td><td></td><td></td><td></td><td></td><td>SRR6110936 </td><td>113189</td><td>177</td><td>4.731407</td><td>18.01963</td></tr>\n",
       "\t<tr><th scope=row>SRR5559431</th><td>SRR5559431 </td><td>Saliva    </td><td>PRJNA386665</td><td>V4   </td><td>OSCC           </td><td>48</td><td>M</td><td>NA</td><td>      </td><td>  </td><td>⋯</td><td>V3-V4</td><td></td><td></td><td></td><td></td><td>SRR5559431 </td><td>145834</td><td>185</td><td>4.851843</td><td>19.47109</td></tr>\n",
       "\t<tr><th scope=row>SRR5559472</th><td>SRR5559472 </td><td>Saliva    </td><td>PRJNA386665</td><td>V4   </td><td>OSCC           </td><td>45</td><td>M</td><td>NA</td><td>      </td><td>  </td><td>⋯</td><td>V3-V4</td><td></td><td></td><td></td><td></td><td>SRR5559472 </td><td> 94157</td><td>194</td><td>4.315743</td><td>19.95387</td></tr>\n",
       "\t<tr><th scope=row>SRR15720152</th><td>SRR15720152</td><td>Oral_rinse</td><td>PRJNA744870</td><td>V3-V4</td><td>Healthy_control</td><td>NA</td><td> </td><td>NA</td><td>      </td><td>  </td><td>⋯</td><td>V3-V4</td><td></td><td></td><td></td><td></td><td>SRR15720152</td><td>105411</td><td>154</td><td>4.485692</td><td>15.65140</td></tr>\n",
       "\t<tr><th scope=row>SRR5559561</th><td>SRR5559561 </td><td>Saliva    </td><td>PRJNA386665</td><td>V4   </td><td>OSCC           </td><td>49</td><td>M</td><td>NA</td><td>      </td><td>  </td><td>⋯</td><td>V3-V4</td><td></td><td></td><td></td><td></td><td>SRR5559561 </td><td> 94015</td><td>141</td><td>4.164621</td><td>15.49631</td></tr>\n",
       "</tbody>\n",
       "</table>\n"
      ],
      "text/latex": [
       "A data.frame: 6 × 37\n",
       "\\begin{tabular}{r|lllllllllllllllllllll}\n",
       "  & SampleID & sample\\_type & project\\_ID & sequencing\\_region & diagnose & age & gender & BMI & tumor\\_site & T\\_stage & ⋯ & sequencing\\_region\\_merge & host\\_replicates & treatment\\_yn & replicate\\_2 & HNSCC & \\_sample\\_id & \\_calour\\_original\\_abundance & observed\\_features & shannon\\_entropy & faith\\_pd\\\\\n",
       "  & <chr> & <chr> & <chr> & <chr> & <chr> & <dbl> & <chr> & <dbl> & <chr> & <chr> & ⋯ & <chr> & <chr> & <chr> & <chr> & <chr> & <chr> & <dbl> & <int> & <dbl> & <dbl>\\\\\n",
       "\\hline\n",
       "\tSRR21105746 & SRR21105746 & Oral\\_rinse & PRJNA870048 & V3-V4 & OSCC            & 63 & M & NA & tongue &    & ⋯ & V3-V4 &  &  &  &  & SRR21105746 &  48812 & 184 & 3.804584 & 16.04912\\\\\n",
       "\tSRR6110936 & SRR6110936  & Saliva     & PRJNA412445 & V4-V5 & OSCC            & 63 & F & NA &        & II & ⋯ & V4-V5 &  &  &  &  & SRR6110936  & 113189 & 177 & 4.731407 & 18.01963\\\\\n",
       "\tSRR5559431 & SRR5559431  & Saliva     & PRJNA386665 & V4    & OSCC            & 48 & M & NA &        &    & ⋯ & V3-V4 &  &  &  &  & SRR5559431  & 145834 & 185 & 4.851843 & 19.47109\\\\\n",
       "\tSRR5559472 & SRR5559472  & Saliva     & PRJNA386665 & V4    & OSCC            & 45 & M & NA &        &    & ⋯ & V3-V4 &  &  &  &  & SRR5559472  &  94157 & 194 & 4.315743 & 19.95387\\\\\n",
       "\tSRR15720152 & SRR15720152 & Oral\\_rinse & PRJNA744870 & V3-V4 & Healthy\\_control & NA &   & NA &        &    & ⋯ & V3-V4 &  &  &  &  & SRR15720152 & 105411 & 154 & 4.485692 & 15.65140\\\\\n",
       "\tSRR5559561 & SRR5559561  & Saliva     & PRJNA386665 & V4    & OSCC            & 49 & M & NA &        &    & ⋯ & V3-V4 &  &  &  &  & SRR5559561  &  94015 & 141 & 4.164621 & 15.49631\\\\\n",
       "\\end{tabular}\n"
      ],
      "text/markdown": [
       "\n",
       "A data.frame: 6 × 37\n",
       "\n",
       "| <!--/--> | SampleID &lt;chr&gt; | sample_type &lt;chr&gt; | project_ID &lt;chr&gt; | sequencing_region &lt;chr&gt; | diagnose &lt;chr&gt; | age &lt;dbl&gt; | gender &lt;chr&gt; | BMI &lt;dbl&gt; | tumor_site &lt;chr&gt; | T_stage &lt;chr&gt; | ⋯ ⋯ | sequencing_region_merge &lt;chr&gt; | host_replicates &lt;chr&gt; | treatment_yn &lt;chr&gt; | replicate_2 &lt;chr&gt; | HNSCC &lt;chr&gt; | _sample_id &lt;chr&gt; | _calour_original_abundance &lt;dbl&gt; | observed_features &lt;int&gt; | shannon_entropy &lt;dbl&gt; | faith_pd &lt;dbl&gt; |\n",
       "|---|---|---|---|---|---|---|---|---|---|---|---|---|---|---|---|---|---|---|---|---|---|\n",
       "| SRR21105746 | SRR21105746 | Oral_rinse | PRJNA870048 | V3-V4 | OSCC            | 63 | M | NA | tongue | <!----> | ⋯ | V3-V4 | <!----> | <!----> | <!----> | <!----> | SRR21105746 |  48812 | 184 | 3.804584 | 16.04912 |\n",
       "| SRR6110936 | SRR6110936  | Saliva     | PRJNA412445 | V4-V5 | OSCC            | 63 | F | NA | <!----> | II | ⋯ | V4-V5 | <!----> | <!----> | <!----> | <!----> | SRR6110936  | 113189 | 177 | 4.731407 | 18.01963 |\n",
       "| SRR5559431 | SRR5559431  | Saliva     | PRJNA386665 | V4    | OSCC            | 48 | M | NA | <!----> | <!----> | ⋯ | V3-V4 | <!----> | <!----> | <!----> | <!----> | SRR5559431  | 145834 | 185 | 4.851843 | 19.47109 |\n",
       "| SRR5559472 | SRR5559472  | Saliva     | PRJNA386665 | V4    | OSCC            | 45 | M | NA | <!----> | <!----> | ⋯ | V3-V4 | <!----> | <!----> | <!----> | <!----> | SRR5559472  |  94157 | 194 | 4.315743 | 19.95387 |\n",
       "| SRR15720152 | SRR15720152 | Oral_rinse | PRJNA744870 | V3-V4 | Healthy_control | NA | <!----> | NA | <!----> | <!----> | ⋯ | V3-V4 | <!----> | <!----> | <!----> | <!----> | SRR15720152 | 105411 | 154 | 4.485692 | 15.65140 |\n",
       "| SRR5559561 | SRR5559561  | Saliva     | PRJNA386665 | V4    | OSCC            | 49 | M | NA | <!----> | <!----> | ⋯ | V3-V4 | <!----> | <!----> | <!----> | <!----> | SRR5559561  |  94015 | 141 | 4.164621 | 15.49631 |\n",
       "\n"
      ],
      "text/plain": [
       "            SampleID    sample_type project_ID  sequencing_region\n",
       "SRR21105746 SRR21105746 Oral_rinse  PRJNA870048 V3-V4            \n",
       "SRR6110936  SRR6110936  Saliva      PRJNA412445 V4-V5            \n",
       "SRR5559431  SRR5559431  Saliva      PRJNA386665 V4               \n",
       "SRR5559472  SRR5559472  Saliva      PRJNA386665 V4               \n",
       "SRR15720152 SRR15720152 Oral_rinse  PRJNA744870 V3-V4            \n",
       "SRR5559561  SRR5559561  Saliva      PRJNA386665 V4               \n",
       "            diagnose        age gender BMI tumor_site T_stage ⋯\n",
       "SRR21105746 OSCC            63  M      NA  tongue             ⋯\n",
       "SRR6110936  OSCC            63  F      NA             II      ⋯\n",
       "SRR5559431  OSCC            48  M      NA                     ⋯\n",
       "SRR5559472  OSCC            45  M      NA                     ⋯\n",
       "SRR15720152 Healthy_control NA         NA                     ⋯\n",
       "SRR5559561  OSCC            49  M      NA                     ⋯\n",
       "            sequencing_region_merge host_replicates treatment_yn replicate_2\n",
       "SRR21105746 V3-V4                                                           \n",
       "SRR6110936  V4-V5                                                           \n",
       "SRR5559431  V3-V4                                                           \n",
       "SRR5559472  V3-V4                                                           \n",
       "SRR15720152 V3-V4                                                           \n",
       "SRR5559561  V3-V4                                                           \n",
       "            HNSCC _sample_id  _calour_original_abundance observed_features\n",
       "SRR21105746       SRR21105746  48812                     184              \n",
       "SRR6110936        SRR6110936  113189                     177              \n",
       "SRR5559431        SRR5559431  145834                     185              \n",
       "SRR5559472        SRR5559472   94157                     194              \n",
       "SRR15720152       SRR15720152 105411                     154              \n",
       "SRR5559561        SRR5559561   94015                     141              \n",
       "            shannon_entropy faith_pd\n",
       "SRR21105746 3.804584        16.04912\n",
       "SRR6110936  4.731407        18.01963\n",
       "SRR5559431  4.851843        19.47109\n",
       "SRR5559472  4.315743        19.95387\n",
       "SRR15720152 4.485692        15.65140\n",
       "SRR5559561  4.164621        15.49631"
      ]
     },
     "metadata": {},
     "output_type": "display_data"
    }
   ],
   "source": [
    "md<-read.csv('metadata.txt',\n",
    "             row.names=1, sep='\\t', check.names=FALSE) %>% rownames_to_column(\"SampleID\") \n",
    "row.names(md)<-md$SampleID\n",
    "head(md)"
   ]
  },
  {
   "cell_type": "code",
   "execution_count": 3,
   "id": "301d6875-40d2-4053-b300-137b99df2510",
   "metadata": {},
   "outputs": [
    {
     "data": {
      "text/plain": [
       "\n",
       "Healthy_control            OPMD            OSCC \n",
       "            393             172             494 "
      ]
     },
     "metadata": {},
     "output_type": "display_data"
    }
   ],
   "source": [
    "table(md$diagnose)"
   ]
  },
  {
   "cell_type": "code",
   "execution_count": 4,
   "id": "d222620c-0f0a-4a95-891d-2c14f4497db4",
   "metadata": {},
   "outputs": [
    {
     "data": {
      "text/html": [
       "<style>\n",
       ".list-inline {list-style: none; margin:0; padding: 0}\n",
       ".list-inline>li {display: inline-block}\n",
       ".list-inline>li:not(:last-child)::after {content: \"\\00b7\"; padding: 0 .5ex}\n",
       "</style>\n",
       "<ol class=list-inline><li>1059</li><li>37</li></ol>\n"
      ],
      "text/latex": [
       "\\begin{enumerate*}\n",
       "\\item 1059\n",
       "\\item 37\n",
       "\\end{enumerate*}\n"
      ],
      "text/markdown": [
       "1. 1059\n",
       "2. 37\n",
       "\n",
       "\n"
      ],
      "text/plain": [
       "[1] 1059   37"
      ]
     },
     "metadata": {},
     "output_type": "display_data"
    }
   ],
   "source": [
    "dim(md)"
   ]
  },
  {
   "cell_type": "code",
   "execution_count": 5,
   "id": "dba8c40c-7576-4ba1-ab00-56e3ee4646cb",
   "metadata": {},
   "outputs": [],
   "source": [
    "alphas<-c('observed_features','shannon_entropy', 'faith_pd')"
   ]
  },
  {
   "cell_type": "markdown",
   "id": "5cc4ab85-25bb-436f-987a-ed50c184521f",
   "metadata": {},
   "source": [
    "# healthy_control vs OSCC"
   ]
  },
  {
   "cell_type": "code",
   "execution_count": 6,
   "id": "b11f31c6-ce77-49a9-aa60-ffcf8f0fd592",
   "metadata": {},
   "outputs": [
    {
     "data": {
      "text/html": [
       "<table>\n",
       "<caption>A data.frame: 25 × 3</caption>\n",
       "<thead>\n",
       "\t<tr><th scope=col>project_ID</th><th scope=col>diagnose</th><th scope=col>n</th></tr>\n",
       "\t<tr><th scope=col>&lt;chr&gt;</th><th scope=col>&lt;chr&gt;</th><th scope=col>&lt;int&gt;</th></tr>\n",
       "</thead>\n",
       "<tbody>\n",
       "\t<tr><td>OEP000837  </td><td>Healthy_control</td><td> 12</td></tr>\n",
       "\t<tr><td>OEP000837  </td><td>OSCC           </td><td> 32</td></tr>\n",
       "\t<tr><td>PRJEB37501 </td><td>OPMD           </td><td> 28</td></tr>\n",
       "\t<tr><td>PRJEB37501 </td><td>OSCC           </td><td> 45</td></tr>\n",
       "\t<tr><td>PRJEB39064 </td><td>Healthy_control</td><td> 25</td></tr>\n",
       "\t<tr><td>PRJEB39064 </td><td>OPMD           </td><td> 21</td></tr>\n",
       "\t<tr><td>PRJEB39064 </td><td>OSCC           </td><td> 27</td></tr>\n",
       "\t<tr><td>PRJNA386665</td><td>Healthy_control</td><td>127</td></tr>\n",
       "\t<tr><td>PRJNA386665</td><td>OPMD           </td><td>123</td></tr>\n",
       "\t<tr><td>PRJNA386665</td><td>OSCC           </td><td>124</td></tr>\n",
       "\t<tr><td>PRJNA412445</td><td>OSCC           </td><td> 17</td></tr>\n",
       "\t<tr><td>PRJNA421234</td><td>Healthy_control</td><td>  7</td></tr>\n",
       "\t<tr><td>PRJNA421234</td><td>OSCC           </td><td> 14</td></tr>\n",
       "\t<tr><td>PRJNA666891</td><td>OSCC           </td><td> 12</td></tr>\n",
       "\t<tr><td>PRJNA700849</td><td>Healthy_control</td><td>  8</td></tr>\n",
       "\t<tr><td>PRJNA700849</td><td>OSCC           </td><td>  2</td></tr>\n",
       "\t<tr><td>PRJNA744870</td><td>Healthy_control</td><td> 76</td></tr>\n",
       "\t<tr><td>PRJNA744870</td><td>OSCC           </td><td> 76</td></tr>\n",
       "\t<tr><td>PRJNA751046</td><td>Healthy_control</td><td>  9</td></tr>\n",
       "\t<tr><td>PRJNA751046</td><td>OSCC           </td><td>  9</td></tr>\n",
       "\t<tr><td>PRJNA756784</td><td>Healthy_control</td><td> 39</td></tr>\n",
       "\t<tr><td>PRJNA756784</td><td>OSCC           </td><td> 20</td></tr>\n",
       "\t<tr><td>PRJNA813634</td><td>OSCC           </td><td> 25</td></tr>\n",
       "\t<tr><td>PRJNA870048</td><td>Healthy_control</td><td> 90</td></tr>\n",
       "\t<tr><td>PRJNA870048</td><td>OSCC           </td><td> 91</td></tr>\n",
       "</tbody>\n",
       "</table>\n"
      ],
      "text/latex": [
       "A data.frame: 25 × 3\n",
       "\\begin{tabular}{lll}\n",
       " project\\_ID & diagnose & n\\\\\n",
       " <chr> & <chr> & <int>\\\\\n",
       "\\hline\n",
       "\t OEP000837   & Healthy\\_control &  12\\\\\n",
       "\t OEP000837   & OSCC            &  32\\\\\n",
       "\t PRJEB37501  & OPMD            &  28\\\\\n",
       "\t PRJEB37501  & OSCC            &  45\\\\\n",
       "\t PRJEB39064  & Healthy\\_control &  25\\\\\n",
       "\t PRJEB39064  & OPMD            &  21\\\\\n",
       "\t PRJEB39064  & OSCC            &  27\\\\\n",
       "\t PRJNA386665 & Healthy\\_control & 127\\\\\n",
       "\t PRJNA386665 & OPMD            & 123\\\\\n",
       "\t PRJNA386665 & OSCC            & 124\\\\\n",
       "\t PRJNA412445 & OSCC            &  17\\\\\n",
       "\t PRJNA421234 & Healthy\\_control &   7\\\\\n",
       "\t PRJNA421234 & OSCC            &  14\\\\\n",
       "\t PRJNA666891 & OSCC            &  12\\\\\n",
       "\t PRJNA700849 & Healthy\\_control &   8\\\\\n",
       "\t PRJNA700849 & OSCC            &   2\\\\\n",
       "\t PRJNA744870 & Healthy\\_control &  76\\\\\n",
       "\t PRJNA744870 & OSCC            &  76\\\\\n",
       "\t PRJNA751046 & Healthy\\_control &   9\\\\\n",
       "\t PRJNA751046 & OSCC            &   9\\\\\n",
       "\t PRJNA756784 & Healthy\\_control &  39\\\\\n",
       "\t PRJNA756784 & OSCC            &  20\\\\\n",
       "\t PRJNA813634 & OSCC            &  25\\\\\n",
       "\t PRJNA870048 & Healthy\\_control &  90\\\\\n",
       "\t PRJNA870048 & OSCC            &  91\\\\\n",
       "\\end{tabular}\n"
      ],
      "text/markdown": [
       "\n",
       "A data.frame: 25 × 3\n",
       "\n",
       "| project_ID &lt;chr&gt; | diagnose &lt;chr&gt; | n &lt;int&gt; |\n",
       "|---|---|---|\n",
       "| OEP000837   | Healthy_control |  12 |\n",
       "| OEP000837   | OSCC            |  32 |\n",
       "| PRJEB37501  | OPMD            |  28 |\n",
       "| PRJEB37501  | OSCC            |  45 |\n",
       "| PRJEB39064  | Healthy_control |  25 |\n",
       "| PRJEB39064  | OPMD            |  21 |\n",
       "| PRJEB39064  | OSCC            |  27 |\n",
       "| PRJNA386665 | Healthy_control | 127 |\n",
       "| PRJNA386665 | OPMD            | 123 |\n",
       "| PRJNA386665 | OSCC            | 124 |\n",
       "| PRJNA412445 | OSCC            |  17 |\n",
       "| PRJNA421234 | Healthy_control |   7 |\n",
       "| PRJNA421234 | OSCC            |  14 |\n",
       "| PRJNA666891 | OSCC            |  12 |\n",
       "| PRJNA700849 | Healthy_control |   8 |\n",
       "| PRJNA700849 | OSCC            |   2 |\n",
       "| PRJNA744870 | Healthy_control |  76 |\n",
       "| PRJNA744870 | OSCC            |  76 |\n",
       "| PRJNA751046 | Healthy_control |   9 |\n",
       "| PRJNA751046 | OSCC            |   9 |\n",
       "| PRJNA756784 | Healthy_control |  39 |\n",
       "| PRJNA756784 | OSCC            |  20 |\n",
       "| PRJNA813634 | OSCC            |  25 |\n",
       "| PRJNA870048 | Healthy_control |  90 |\n",
       "| PRJNA870048 | OSCC            |  91 |\n",
       "\n"
      ],
      "text/plain": [
       "   project_ID  diagnose        n  \n",
       "1  OEP000837   Healthy_control  12\n",
       "2  OEP000837   OSCC             32\n",
       "3  PRJEB37501  OPMD             28\n",
       "4  PRJEB37501  OSCC             45\n",
       "5  PRJEB39064  Healthy_control  25\n",
       "6  PRJEB39064  OPMD             21\n",
       "7  PRJEB39064  OSCC             27\n",
       "8  PRJNA386665 Healthy_control 127\n",
       "9  PRJNA386665 OPMD            123\n",
       "10 PRJNA386665 OSCC            124\n",
       "11 PRJNA412445 OSCC             17\n",
       "12 PRJNA421234 Healthy_control   7\n",
       "13 PRJNA421234 OSCC             14\n",
       "14 PRJNA666891 OSCC             12\n",
       "15 PRJNA700849 Healthy_control   8\n",
       "16 PRJNA700849 OSCC              2\n",
       "17 PRJNA744870 Healthy_control  76\n",
       "18 PRJNA744870 OSCC             76\n",
       "19 PRJNA751046 Healthy_control   9\n",
       "20 PRJNA751046 OSCC              9\n",
       "21 PRJNA756784 Healthy_control  39\n",
       "22 PRJNA756784 OSCC             20\n",
       "23 PRJNA813634 OSCC             25\n",
       "24 PRJNA870048 Healthy_control  90\n",
       "25 PRJNA870048 OSCC             91"
      ]
     },
     "metadata": {},
     "output_type": "display_data"
    }
   ],
   "source": [
    "count(md, project_ID, diagnose)"
   ]
  },
  {
   "cell_type": "code",
   "execution_count": 7,
   "id": "ef60f984-c772-43c0-ba01-288d04da8b26",
   "metadata": {},
   "outputs": [],
   "source": [
    "projects=c('OEP000837','PRJEB39064','PRJNA386665','PRJNA421234','PRJNA700849','PRJNA744870',\n",
    "           'PRJNA751046','PRJNA756784','PRJNA870048')"
   ]
  },
  {
   "cell_type": "code",
   "execution_count": 8,
   "id": "6f9578ba-ca09-4662-984d-177c296f6205",
   "metadata": {},
   "outputs": [],
   "source": [
    "Alpha_stat<- function(p){\n",
    "\n",
    "\n",
    "    As <-list()\n",
    "\n",
    "    As$md <-subset(md,project_ID==p) %>% subset(diagnose=='Healthy_control'| diagnose=='OSCC')\n",
    "\n",
    "    for (Alpha in alphas){\n",
    "        min_alpha=min(As$md[which(As$md[Alpha]!=0),Alpha])\n",
    "        As$md[which(As$md[Alpha]==0),Alpha]<- min_alpha \n",
    "    }\n",
    "\n",
    "\n",
    "    As$alpha_div <- As$md %>%\n",
    "    as_tibble() %>%  # 变成tibble ，dataframe的一种\n",
    "    gather(key=\"Metric\", value=\"Diversity\",shannon_entropy,faith_pd, observed_features) %>% \n",
    "    select(SampleID,project_ID,diagnose, Metric, Diversity)\n",
    "    \n",
    "\n",
    "    As$alpha_div <- As$alpha_div %>%\n",
    "    left_join(\n",
    "        As$alpha_div %>%\n",
    "        group_by(Metric, diagnose) %>%\n",
    "        summarize(mean=mean(log2(Diversity))) %>%  \n",
    "       spread(key=diagnose, value=mean) %>%\n",
    "       rename(mean_log2HC=Healthy_control, mean_log2OSCC=OSCC) #*\n",
    "    ) %>%\n",
    "\n",
    "    mutate(log2FC=log2(Diversity)-mean_log2HC)\n",
    "\n",
    "\n",
    "\n",
    "    As$AlphaDiversity_Stats <-\n",
    "    As$alpha_div %>%\n",
    "    group_by(Metric) %>% \n",
    "    mutate(diagnose=factor(diagnose, levels=c(\"OSCC\", \"Healthy_control\"))) %>% \n",
    "    do(\n",
    "      broom::tidy(t.test(log2FC~diagnose, data=., conf.int=TRUE, conf.level=0.95)) # 在每个study中对OSCC和healthy做t test\n",
    "    ) %>%\n",
    "    mutate(project_ID= p) %>%\n",
    "    select(project_ID, Metric, log2FC=estimate, Pvalue=p.value, \n",
    "           mean_HC=estimate2, mean_OSCC=estimate1, CI_low=conf.low, CI_high=conf.high) #* estimate1 对应谁怎么看\n",
    "\n",
    "    return(As)\n",
    "}"
   ]
  },
  {
   "cell_type": "code",
   "execution_count": 9,
   "id": "110dba9c-c9e9-46f8-a8ba-9097ff408850",
   "metadata": {},
   "outputs": [
    {
     "name": "stderr",
     "output_type": "stream",
     "text": [
      "--------------------->OEP000837\n",
      "\n",
      "\u001b[1m\u001b[22m`summarise()` has grouped output by 'Metric'. You can override using the\n",
      "`.groups` argument.\n",
      "\u001b[1m\u001b[22mJoining with `by = join_by(Metric)`\n",
      "--------------------->PRJEB39064\n",
      "\n",
      "\u001b[1m\u001b[22m`summarise()` has grouped output by 'Metric'. You can override using the\n",
      "`.groups` argument.\n",
      "\u001b[1m\u001b[22mJoining with `by = join_by(Metric)`\n",
      "--------------------->PRJNA386665\n",
      "\n",
      "\u001b[1m\u001b[22m`summarise()` has grouped output by 'Metric'. You can override using the\n",
      "`.groups` argument.\n",
      "\u001b[1m\u001b[22mJoining with `by = join_by(Metric)`\n",
      "--------------------->PRJNA421234\n",
      "\n",
      "\u001b[1m\u001b[22m`summarise()` has grouped output by 'Metric'. You can override using the\n",
      "`.groups` argument.\n",
      "\u001b[1m\u001b[22mJoining with `by = join_by(Metric)`\n",
      "--------------------->PRJNA700849\n",
      "\n",
      "\u001b[1m\u001b[22m`summarise()` has grouped output by 'Metric'. You can override using the\n",
      "`.groups` argument.\n",
      "\u001b[1m\u001b[22mJoining with `by = join_by(Metric)`\n",
      "--------------------->PRJNA744870\n",
      "\n",
      "\u001b[1m\u001b[22m`summarise()` has grouped output by 'Metric'. You can override using the\n",
      "`.groups` argument.\n",
      "\u001b[1m\u001b[22mJoining with `by = join_by(Metric)`\n",
      "--------------------->PRJNA751046\n",
      "\n",
      "\u001b[1m\u001b[22m`summarise()` has grouped output by 'Metric'. You can override using the\n",
      "`.groups` argument.\n",
      "\u001b[1m\u001b[22mJoining with `by = join_by(Metric)`\n",
      "--------------------->PRJNA756784\n",
      "\n",
      "\u001b[1m\u001b[22m`summarise()` has grouped output by 'Metric'. You can override using the\n",
      "`.groups` argument.\n",
      "\u001b[1m\u001b[22mJoining with `by = join_by(Metric)`\n",
      "--------------------->PRJNA870048\n",
      "\n",
      "\u001b[1m\u001b[22m`summarise()` has grouped output by 'Metric'. You can override using the\n",
      "`.groups` argument.\n",
      "\u001b[1m\u001b[22mJoining with `by = join_by(Metric)`\n"
     ]
    }
   ],
   "source": [
    "PerStudy<-list()\n",
    "  for(p in projects){\n",
    "    message(\"--------------------->\", p)\n",
    "    PerStudy[[p]]<-Alpha_stat(p)\n",
    "  }"
   ]
  },
  {
   "cell_type": "code",
   "execution_count": 10,
   "id": "e06a62fd-f261-4645-83ef-44e431c609c7",
   "metadata": {},
   "outputs": [],
   "source": [
    "# PerStudy$OEP000837$AlphaDiversity_Stats"
   ]
  },
  {
   "cell_type": "code",
   "execution_count": 11,
   "id": "386f0079-1094-4128-97ff-523da0b0b250",
   "metadata": {
    "tags": []
   },
   "outputs": [],
   "source": [
    "# head(PerStudy)"
   ]
  },
  {
   "cell_type": "code",
   "execution_count": 12,
   "id": "c0f5d256-3e3d-4640-8e6e-fdd615444eed",
   "metadata": {},
   "outputs": [],
   "source": [
    "mod<-lapply(PerStudy, function(x) x$alpha_div) %>%\n",
    "  do.call(bind_rows, .) %>%\n",
    "  mutate(diagnose=factor(diagnose, levels=c(\"Healthy_control\",\"OSCC\"))) %>% \n",
    "  group_by(Metric)"
   ]
  },
  {
   "cell_type": "code",
   "execution_count": 13,
   "id": "5d731626-205b-48d9-a98f-e7ce3ec1d4a0",
   "metadata": {},
   "outputs": [
    {
     "data": {
      "text/html": [
       "<table>\n",
       "<caption>A grouped_df: 6 × 8</caption>\n",
       "<thead>\n",
       "\t<tr><th scope=col>SampleID</th><th scope=col>project_ID</th><th scope=col>diagnose</th><th scope=col>Metric</th><th scope=col>Diversity</th><th scope=col>mean_log2HC</th><th scope=col>mean_log2OSCC</th><th scope=col>log2FC</th></tr>\n",
       "\t<tr><th scope=col>&lt;chr&gt;</th><th scope=col>&lt;chr&gt;</th><th scope=col>&lt;fct&gt;</th><th scope=col>&lt;chr&gt;</th><th scope=col>&lt;dbl&gt;</th><th scope=col>&lt;dbl&gt;</th><th scope=col>&lt;dbl&gt;</th><th scope=col>&lt;dbl&gt;</th></tr>\n",
       "</thead>\n",
       "<tbody>\n",
       "\t<tr><td>S028-TY</td><td>OEP000837</td><td>OSCC</td><td>shannon_entropy</td><td>4.340670</td><td>1.710656</td><td>2.218344</td><td>0.4072616</td></tr>\n",
       "\t<tr><td>S030-TY</td><td>OEP000837</td><td>OSCC</td><td>shannon_entropy</td><td>4.385159</td><td>1.710656</td><td>2.218344</td><td>0.4219729</td></tr>\n",
       "\t<tr><td>S037-TY</td><td>OEP000837</td><td>OSCC</td><td>shannon_entropy</td><td>5.250524</td><td>1.710656</td><td>2.218344</td><td>0.6818052</td></tr>\n",
       "\t<tr><td>S026-TY</td><td>OEP000837</td><td>OSCC</td><td>shannon_entropy</td><td>3.792121</td><td>1.710656</td><td>2.218344</td><td>0.2123488</td></tr>\n",
       "\t<tr><td>S032-TY</td><td>OEP000837</td><td>OSCC</td><td>shannon_entropy</td><td>5.507239</td><td>1.710656</td><td>2.218344</td><td>0.7506730</td></tr>\n",
       "\t<tr><td>S007-TY</td><td>OEP000837</td><td>OSCC</td><td>shannon_entropy</td><td>5.020677</td><td>1.710656</td><td>2.218344</td><td>0.6172259</td></tr>\n",
       "</tbody>\n",
       "</table>\n"
      ],
      "text/latex": [
       "A grouped\\_df: 6 × 8\n",
       "\\begin{tabular}{llllllll}\n",
       " SampleID & project\\_ID & diagnose & Metric & Diversity & mean\\_log2HC & mean\\_log2OSCC & log2FC\\\\\n",
       " <chr> & <chr> & <fct> & <chr> & <dbl> & <dbl> & <dbl> & <dbl>\\\\\n",
       "\\hline\n",
       "\t S028-TY & OEP000837 & OSCC & shannon\\_entropy & 4.340670 & 1.710656 & 2.218344 & 0.4072616\\\\\n",
       "\t S030-TY & OEP000837 & OSCC & shannon\\_entropy & 4.385159 & 1.710656 & 2.218344 & 0.4219729\\\\\n",
       "\t S037-TY & OEP000837 & OSCC & shannon\\_entropy & 5.250524 & 1.710656 & 2.218344 & 0.6818052\\\\\n",
       "\t S026-TY & OEP000837 & OSCC & shannon\\_entropy & 3.792121 & 1.710656 & 2.218344 & 0.2123488\\\\\n",
       "\t S032-TY & OEP000837 & OSCC & shannon\\_entropy & 5.507239 & 1.710656 & 2.218344 & 0.7506730\\\\\n",
       "\t S007-TY & OEP000837 & OSCC & shannon\\_entropy & 5.020677 & 1.710656 & 2.218344 & 0.6172259\\\\\n",
       "\\end{tabular}\n"
      ],
      "text/markdown": [
       "\n",
       "A grouped_df: 6 × 8\n",
       "\n",
       "| SampleID &lt;chr&gt; | project_ID &lt;chr&gt; | diagnose &lt;fct&gt; | Metric &lt;chr&gt; | Diversity &lt;dbl&gt; | mean_log2HC &lt;dbl&gt; | mean_log2OSCC &lt;dbl&gt; | log2FC &lt;dbl&gt; |\n",
       "|---|---|---|---|---|---|---|---|\n",
       "| S028-TY | OEP000837 | OSCC | shannon_entropy | 4.340670 | 1.710656 | 2.218344 | 0.4072616 |\n",
       "| S030-TY | OEP000837 | OSCC | shannon_entropy | 4.385159 | 1.710656 | 2.218344 | 0.4219729 |\n",
       "| S037-TY | OEP000837 | OSCC | shannon_entropy | 5.250524 | 1.710656 | 2.218344 | 0.6818052 |\n",
       "| S026-TY | OEP000837 | OSCC | shannon_entropy | 3.792121 | 1.710656 | 2.218344 | 0.2123488 |\n",
       "| S032-TY | OEP000837 | OSCC | shannon_entropy | 5.507239 | 1.710656 | 2.218344 | 0.7506730 |\n",
       "| S007-TY | OEP000837 | OSCC | shannon_entropy | 5.020677 | 1.710656 | 2.218344 | 0.6172259 |\n",
       "\n"
      ],
      "text/plain": [
       "  SampleID project_ID diagnose Metric          Diversity mean_log2HC\n",
       "1 S028-TY  OEP000837  OSCC     shannon_entropy 4.340670  1.710656   \n",
       "2 S030-TY  OEP000837  OSCC     shannon_entropy 4.385159  1.710656   \n",
       "3 S037-TY  OEP000837  OSCC     shannon_entropy 5.250524  1.710656   \n",
       "4 S026-TY  OEP000837  OSCC     shannon_entropy 3.792121  1.710656   \n",
       "5 S032-TY  OEP000837  OSCC     shannon_entropy 5.507239  1.710656   \n",
       "6 S007-TY  OEP000837  OSCC     shannon_entropy 5.020677  1.710656   \n",
       "  mean_log2OSCC log2FC   \n",
       "1 2.218344      0.4072616\n",
       "2 2.218344      0.4219729\n",
       "3 2.218344      0.6818052\n",
       "4 2.218344      0.2123488\n",
       "5 2.218344      0.7506730\n",
       "6 2.218344      0.6172259"
      ]
     },
     "metadata": {},
     "output_type": "display_data"
    }
   ],
   "source": [
    "head(mod) "
   ]
  },
  {
   "cell_type": "code",
   "execution_count": 14,
   "id": "5d13d086-91d0-4a20-b683-f1cb33b97960",
   "metadata": {},
   "outputs": [
    {
     "data": {
      "text/plain": [
       "\n",
       "         faith_pd observed_features   shannon_entropy \n",
       "              788               788               788 "
      ]
     },
     "metadata": {},
     "output_type": "display_data"
    }
   ],
   "source": [
    "table(mod$Metric)"
   ]
  },
  {
   "cell_type": "code",
   "execution_count": 15,
   "id": "b0fd00f2-8ccd-4dfc-a65e-863cb2c87406",
   "metadata": {},
   "outputs": [
    {
     "data": {
      "text/html": [
       "<style>\n",
       ".list-inline {list-style: none; margin:0; padding: 0}\n",
       ".list-inline>li {display: inline-block}\n",
       ".list-inline>li:not(:last-child)::after {content: \"\\00b7\"; padding: 0 .5ex}\n",
       "</style>\n",
       "<ol class=list-inline><li>788</li><li>37</li></ol>\n"
      ],
      "text/latex": [
       "\\begin{enumerate*}\n",
       "\\item 788\n",
       "\\item 37\n",
       "\\end{enumerate*}\n"
      ],
      "text/markdown": [
       "1. 788\n",
       "2. 37\n",
       "\n",
       "\n"
      ],
      "text/plain": [
       "[1] 788  37"
      ]
     },
     "metadata": {},
     "output_type": "display_data"
    }
   ],
   "source": [
    "dim(subset(md, project_ID %in% projects) %>% subset(diagnose != \"OPMD\"))"
   ]
  },
  {
   "cell_type": "code",
   "execution_count": 16,
   "id": "658c72b0-2aa3-48d9-8cde-f7c2a8c2766d",
   "metadata": {},
   "outputs": [
    {
     "name": "stderr",
     "output_type": "stream",
     "text": [
      "Computing profile confidence intervals ...\n",
      "\n",
      "Computing profile confidence intervals ...\n",
      "\n",
      "Computing profile confidence intervals ...\n",
      "\n"
     ]
    }
   ],
   "source": [
    "AlphaCombined<-tibble(project_ID=character(0), Metric=character(0), \n",
    "                      log2FC=numeric(0), Pvalue=numeric(0), mean_HC=numeric(0), \n",
    "                      mean_OSCC=numeric(0), CI_low=numeric(0), CI_high=numeric(0))\n",
    "\n",
    "for(i in unique(mod$Metric)){\n",
    "  fit<-lmerTest:::lmer(log2FC~diagnose+(1|project_ID), data=subset(mod, Metric==i))\n",
    "  cf<-confint(fit,level = 0.95)\n",
    "  \n",
    "  AlphaCombined<-bind_rows(AlphaCombined, tibble(\n",
    "    project_ID=\"Combined\", \n",
    "    Metric=i, \n",
    "    log2FC=summary(fit)$coefficients[\"diagnoseOSCC\", \"Estimate\"], \n",
    "    Pvalue=anova(fit)$`Pr(>F)`,  \n",
    "    mean_HC=NA, \n",
    "    mean_OSCC=NA, \n",
    "    CI_low=cf[\"diagnoseOSCC\",1],  \n",
    "    CI_high=cf[\"diagnoseOSCC\",2] \n",
    "  ))\n",
    "}"
   ]
  },
  {
   "cell_type": "code",
   "execution_count": 17,
   "id": "a108f65f-7e9a-48cb-9027-e81f79f8c0cd",
   "metadata": {},
   "outputs": [
    {
     "data": {
      "text/html": [
       "<table>\n",
       "<caption>A tibble: 3 × 8</caption>\n",
       "<thead>\n",
       "\t<tr><th scope=col>project_ID</th><th scope=col>Metric</th><th scope=col>log2FC</th><th scope=col>Pvalue</th><th scope=col>mean_HC</th><th scope=col>mean_OSCC</th><th scope=col>CI_low</th><th scope=col>CI_high</th></tr>\n",
       "\t<tr><th scope=col>&lt;chr&gt;</th><th scope=col>&lt;chr&gt;</th><th scope=col>&lt;dbl&gt;</th><th scope=col>&lt;dbl&gt;</th><th scope=col>&lt;dbl&gt;</th><th scope=col>&lt;dbl&gt;</th><th scope=col>&lt;dbl&gt;</th><th scope=col>&lt;dbl&gt;</th></tr>\n",
       "</thead>\n",
       "<tbody>\n",
       "\t<tr><td>Combined</td><td>shannon_entropy  </td><td> 0.03210375</td><td>0.03171331</td><td>NA</td><td>NA</td><td> 0.002939196</td><td>0.06146973</td></tr>\n",
       "\t<tr><td>Combined</td><td>faith_pd         </td><td> 0.02062262</td><td>0.18009935</td><td>NA</td><td>NA</td><td>-0.009313114</td><td>0.05111640</td></tr>\n",
       "\t<tr><td>Combined</td><td>observed_features</td><td>-0.03262318</td><td>0.16479658</td><td>NA</td><td>NA</td><td>-0.078305798</td><td>0.01395776</td></tr>\n",
       "</tbody>\n",
       "</table>\n"
      ],
      "text/latex": [
       "A tibble: 3 × 8\n",
       "\\begin{tabular}{llllllll}\n",
       " project\\_ID & Metric & log2FC & Pvalue & mean\\_HC & mean\\_OSCC & CI\\_low & CI\\_high\\\\\n",
       " <chr> & <chr> & <dbl> & <dbl> & <dbl> & <dbl> & <dbl> & <dbl>\\\\\n",
       "\\hline\n",
       "\t Combined & shannon\\_entropy   &  0.03210375 & 0.03171331 & NA & NA &  0.002939196 & 0.06146973\\\\\n",
       "\t Combined & faith\\_pd          &  0.02062262 & 0.18009935 & NA & NA & -0.009313114 & 0.05111640\\\\\n",
       "\t Combined & observed\\_features & -0.03262318 & 0.16479658 & NA & NA & -0.078305798 & 0.01395776\\\\\n",
       "\\end{tabular}\n"
      ],
      "text/markdown": [
       "\n",
       "A tibble: 3 × 8\n",
       "\n",
       "| project_ID &lt;chr&gt; | Metric &lt;chr&gt; | log2FC &lt;dbl&gt; | Pvalue &lt;dbl&gt; | mean_HC &lt;dbl&gt; | mean_OSCC &lt;dbl&gt; | CI_low &lt;dbl&gt; | CI_high &lt;dbl&gt; |\n",
       "|---|---|---|---|---|---|---|---|\n",
       "| Combined | shannon_entropy   |  0.03210375 | 0.03171331 | NA | NA |  0.002939196 | 0.06146973 |\n",
       "| Combined | faith_pd          |  0.02062262 | 0.18009935 | NA | NA | -0.009313114 | 0.05111640 |\n",
       "| Combined | observed_features | -0.03262318 | 0.16479658 | NA | NA | -0.078305798 | 0.01395776 |\n",
       "\n"
      ],
      "text/plain": [
       "  project_ID Metric            log2FC      Pvalue     mean_HC mean_OSCC\n",
       "1 Combined   shannon_entropy    0.03210375 0.03171331 NA      NA       \n",
       "2 Combined   faith_pd           0.02062262 0.18009935 NA      NA       \n",
       "3 Combined   observed_features -0.03262318 0.16479658 NA      NA       \n",
       "  CI_low       CI_high   \n",
       "1  0.002939196 0.06146973\n",
       "2 -0.009313114 0.05111640\n",
       "3 -0.078305798 0.01395776"
      ]
     },
     "metadata": {},
     "output_type": "display_data"
    }
   ],
   "source": [
    "AlphaCombined"
   ]
  },
  {
   "cell_type": "code",
   "execution_count": 18,
   "id": "bb9631c0-a23b-460d-b339-542ac80acf27",
   "metadata": {},
   "outputs": [],
   "source": [
    "set_front <- function (size=9){\n",
    "    theme(axis.text.x=element_text(angle=45, hjust=1,size=size),\n",
    "          axis.text.y=element_text(size=size),\n",
    "      axis.text = element_text(size = size,colour = 'black'),\n",
    "      legend.title = element_text(size = size),\n",
    "     legend.text = element_text(size = size),\n",
    "     strip.text = element_text(size = size))\n",
    "    #return(p)\n",
    "}    "
   ]
  },
  {
   "cell_type": "code",
   "execution_count": 19,
   "id": "34880185-9988-4d1d-a99e-06870aeb7806",
   "metadata": {},
   "outputs": [
    {
     "name": "stderr",
     "output_type": "stream",
     "text": [
      "\u001b[1m\u001b[22mJoining with `by = join_by(project_ID)`\n"
     ]
    }
   ],
   "source": [
    "NSamples<-\n",
    "  lapply(names(PerStudy), function(x) tibble(project_ID=x, Nsamples=length(unique(PerStudy[[x]]$alpha_div$SampleID)))) %>% \n",
    "  do.call(bind_rows, .) %>% \n",
    "  arrange(desc(Nsamples)) %>% \n",
    "  mutate(Study=paste0(project_ID, \" (n=\", Nsamples,\")\")) %>% \n",
    "  bind_rows(tibble(project_ID=\"Combined\", Study=\"Combined\")) %>%\n",
    "  mutate(Study=factor(Study, levels=rev(Study)))\n",
    "\n",
    "res<- lapply(PerStudy, function(x) x$AlphaDiversity_Stats) %>%\n",
    "do.call(bind_rows, .) %>%\n",
    "bind_rows(AlphaCombined) %>%\n",
    "mutate(Significant=case_when(\n",
    "Pvalue<0.05 & log2FC>0 ~ \"* higher in OSCC\",\n",
    "Pvalue<0.05 & log2FC<0 ~ \"* higher in healthy control\",\n",
    "TRUE~\"ns\"\n",
    ")) %>%\n",
    "ungroup() %>%\n",
    "mutate(Metric=factor(Metric, levels=alphas))%>%\n",
    "#mutate(BioProject=factor(BioProject, levels=c('PRJEB21104','PRJEB22107','PRJEB26931','Combined')))%>%           \n",
    "left_join(NSamples) "
   ]
  },
  {
   "cell_type": "code",
   "execution_count": 20,
   "id": "e5ba24c7-23b7-4608-80f7-e7c94cebcdca",
   "metadata": {},
   "outputs": [],
   "source": [
    "# head(res)"
   ]
  },
  {
   "cell_type": "code",
   "execution_count": 21,
   "id": "5cb716b6-05a0-43e7-b480-430a010e636f",
   "metadata": {},
   "outputs": [],
   "source": [
    "Hcolor=\"#E69F00\"\n",
    "Lcolor=\"#0072B2\""
   ]
  },
  {
   "cell_type": "code",
   "execution_count": 155,
   "id": "e2510fba-18e1-4bfe-87c6-238c033fd01f",
   "metadata": {},
   "outputs": [
    {
     "data": {
      "image/png": "[encoded data removed]",
      "text/plain": [
       "plot without title"
      ]
     },
     "metadata": {
      "image/png": {
       "height": 420,
       "width": 420
      }
     },
     "output_type": "display_data"
    }
   ],
   "source": [
    "res <- res %>% mutate(Metric = recode(Metric,'shannon_entropy'='Shannon',\n",
    "                     'faith_pd'=\"Faith's PD\",'observed_features'='Observed OTUs'))\n",
    "\n",
    "ggplot(res,aes(x=log2FC, y=project_ID, color=Significant)) +  \n",
    "geom_vline(xintercept = 0, linetype=\"dashed\", color=\"grey50\") +\n",
    "geom_errorbarh(aes(xmin=CI_low, xmax=CI_high), height=0 ) +\n",
    "geom_point(size=1) +\n",
    "facet_grid(~Metric, scales=\"free_x\") +\n",
    "theme_MicrobeR() +\n",
    "scale_color_manual(values=c(Lcolor, Hcolor, \"black\"))  +\n",
    "theme(panel.border = element_blank(), axis.line = element_line(),\n",
    "      plot.title = element_text(hjust = 0.5)) + \n",
    "             set_front(9)+xlab('log2(fold difference)')+\n",
    "labs(title=\"Healthy control versus OSCC\",y='Cohort')"
   ]
  },
  {
   "cell_type": "code",
   "execution_count": null,
   "id": "2896105c-9dcd-49ee-9ce6-fbca5d820283",
   "metadata": {},
   "outputs": [],
   "source": []
  }
 ],
 "metadata": {
  "kernelspec": {
   "display_name": "R",
   "language": "R",
   "name": "ir"
  },
  "language_info": {
   "codemirror_mode": "r",
   "file_extension": ".r",
   "mimetype": "text/x-r-source",
   "name": "R",
   "pygments_lexer": "r",
   "version": "4.3.1"
  }
 },
 "nbformat": 4,
 "nbformat_minor": 5
}
