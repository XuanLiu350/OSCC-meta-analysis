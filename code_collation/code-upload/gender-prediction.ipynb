{
 "cells": [
  {
   "cell_type": "code",
   "execution_count": 1,
   "metadata": {
    "ExecuteTime": {
     "end_time": "2021-03-25T00:41:15.659395Z",
     "start_time": "2021-03-25T00:41:15.448056Z"
    },
    "tags": []
   },
   "outputs": [
    {
     "name": "stderr",
     "output_type": "stream",
     "text": [
      "/home/software/anaconda3/envs/qiime2-2022.2/lib/python3.8/site-packages/sklearn/utils/validation.py:70: FutureWarning: Pass n_repeats=1, random_state=None as keyword args. From version 1.0 (renaming of 0.25) passing these as positional arguments will result in an error\n",
      "  warnings.warn(f\"Pass {args_msg} as keyword args. From version \"\n",
      "/home/software/anaconda3/envs/qiime2-2022.2/lib/python3.8/site-packages/sklearn/utils/validation.py:70: FutureWarning: Pass n_splits=3, n_repeats=1 as keyword args. From version 1.0 (renaming of 0.25) passing these as positional arguments will result in an error\n",
      "  warnings.warn(f\"Pass {args_msg} as keyword args. From version \"\n"
     ]
    }
   ],
   "source": [
    "import calour as ca \n",
    "import pandas as pd\n",
    "import numpy as np\n",
    "import seaborn as sns\n",
    "%matplotlib inline\n",
    "from matplotlib import pyplot as plt\n",
    "import pickle\n",
    "from os.path import exists"
   ]
  },
  {
   "cell_type": "code",
   "execution_count": 2,
   "metadata": {},
   "outputs": [],
   "source": [
    "pd.set_option('max_colwidth',500)\n",
    "pd.set_option('max_rows',500)"
   ]
  },
  {
   "cell_type": "markdown",
   "metadata": {},
   "source": [
    "# loading data"
   ]
  },
  {
   "cell_type": "code",
   "execution_count": 5,
   "metadata": {
    "ExecuteTime": {
     "end_time": "2021-03-25T00:41:52.788363Z",
     "start_time": "2021-03-25T00:41:50.169966Z"
    },
    "tags": []
   },
   "outputs": [
    {
     "data": {
      "text/plain": [
       "AmpliconExperiment (\"conqur-adjusted-table-rarefied17794.biom\") with 1059 samples, 4192 features"
      ]
     },
     "execution_count": 5,
     "metadata": {},
     "output_type": "execute_result"
    }
   ],
   "source": [
    "tab = ca.read_amplicon('conqur-adjusted-table-rarefied17794.biom',\n",
    "                       'metadata.txt',\n",
    "                       normalize=100,min_reads=None)\n",
    "tab"
   ]
  },
  {
   "cell_type": "code",
   "execution_count": 6,
   "metadata": {},
   "outputs": [
    {
     "data": {
      "text/html": [
       "<div>\n",
       "<style scoped>\n",
       "    .dataframe tbody tr th:only-of-type {\n",
       "        vertical-align: middle;\n",
       "    }\n",
       "\n",
       "    .dataframe tbody tr th {\n",
       "        vertical-align: top;\n",
       "    }\n",
       "\n",
       "    .dataframe thead th {\n",
       "        text-align: right;\n",
       "    }\n",
       "</style>\n",
       "<table border=\"1\" class=\"dataframe\">\n",
       "  <thead>\n",
       "    <tr style=\"text-align: right;\">\n",
       "      <th></th>\n",
       "      <th>sample_type</th>\n",
       "      <th>project_ID</th>\n",
       "      <th>sequencing_region</th>\n",
       "      <th>diagnose</th>\n",
       "      <th>age</th>\n",
       "      <th>gender</th>\n",
       "      <th>BMI</th>\n",
       "      <th>tumor_site</th>\n",
       "      <th>T_stage</th>\n",
       "      <th>N_stage</th>\n",
       "      <th>...</th>\n",
       "      <th>sequencing_region_merge</th>\n",
       "      <th>host_replicates</th>\n",
       "      <th>treatment_yn</th>\n",
       "      <th>replicate_2</th>\n",
       "      <th>HNSCC</th>\n",
       "      <th>_sample_id</th>\n",
       "      <th>_calour_original_abundance</th>\n",
       "      <th>observed_features</th>\n",
       "      <th>shannon_entropy</th>\n",
       "      <th>faith_pd</th>\n",
       "    </tr>\n",
       "    <tr>\n",
       "      <th>sample-id</th>\n",
       "      <th></th>\n",
       "      <th></th>\n",
       "      <th></th>\n",
       "      <th></th>\n",
       "      <th></th>\n",
       "      <th></th>\n",
       "      <th></th>\n",
       "      <th></th>\n",
       "      <th></th>\n",
       "      <th></th>\n",
       "      <th></th>\n",
       "      <th></th>\n",
       "      <th></th>\n",
       "      <th></th>\n",
       "      <th></th>\n",
       "      <th></th>\n",
       "      <th></th>\n",
       "      <th></th>\n",
       "      <th></th>\n",
       "      <th></th>\n",
       "      <th></th>\n",
       "    </tr>\n",
       "  </thead>\n",
       "  <tbody>\n",
       "    <tr>\n",
       "      <th>SRR21105746</th>\n",
       "      <td>Oral_rinse</td>\n",
       "      <td>PRJNA870048</td>\n",
       "      <td>V3-V4</td>\n",
       "      <td>OSCC</td>\n",
       "      <td>63.0</td>\n",
       "      <td>M</td>\n",
       "      <td>NaN</td>\n",
       "      <td>tongue</td>\n",
       "      <td>NaN</td>\n",
       "      <td>NaN</td>\n",
       "      <td>...</td>\n",
       "      <td>V3-V4</td>\n",
       "      <td>NaN</td>\n",
       "      <td>NaN</td>\n",
       "      <td>NaN</td>\n",
       "      <td>NaN</td>\n",
       "      <td>SRR21105746</td>\n",
       "      <td>17794.0</td>\n",
       "      <td>184</td>\n",
       "      <td>3.804584</td>\n",
       "      <td>16.04912</td>\n",
       "    </tr>\n",
       "    <tr>\n",
       "      <th>SRR6110936</th>\n",
       "      <td>Saliva</td>\n",
       "      <td>PRJNA412445</td>\n",
       "      <td>V4-V5</td>\n",
       "      <td>OSCC</td>\n",
       "      <td>63.0</td>\n",
       "      <td>F</td>\n",
       "      <td>NaN</td>\n",
       "      <td>NaN</td>\n",
       "      <td>II</td>\n",
       "      <td>0</td>\n",
       "      <td>...</td>\n",
       "      <td>V4-V5</td>\n",
       "      <td>NaN</td>\n",
       "      <td>NaN</td>\n",
       "      <td>NaN</td>\n",
       "      <td>NaN</td>\n",
       "      <td>SRR6110936</td>\n",
       "      <td>17794.0</td>\n",
       "      <td>177</td>\n",
       "      <td>4.731407</td>\n",
       "      <td>18.01963</td>\n",
       "    </tr>\n",
       "  </tbody>\n",
       "</table>\n",
       "<p>2 rows × 36 columns</p>\n",
       "</div>"
      ],
      "text/plain": [
       "            sample_type   project_ID sequencing_region diagnose   age gender  \\\n",
       "sample-id                                                                      \n",
       "SRR21105746  Oral_rinse  PRJNA870048             V3-V4     OSCC  63.0      M   \n",
       "SRR6110936       Saliva  PRJNA412445             V4-V5     OSCC  63.0      F   \n",
       "\n",
       "             BMI tumor_site T_stage N_stage  ...  sequencing_region_merge  \\\n",
       "sample-id                                    ...                            \n",
       "SRR21105746  NaN     tongue     NaN     NaN  ...                    V3-V4   \n",
       "SRR6110936   NaN        NaN      II       0  ...                    V4-V5   \n",
       "\n",
       "            host_replicates treatment_yn replicate_2 HNSCC   _sample_id  \\\n",
       "sample-id                                                                 \n",
       "SRR21105746             NaN          NaN         NaN   NaN  SRR21105746   \n",
       "SRR6110936              NaN          NaN         NaN   NaN   SRR6110936   \n",
       "\n",
       "            _calour_original_abundance observed_features shannon_entropy  \\\n",
       "sample-id                                                                  \n",
       "SRR21105746                    17794.0               184        3.804584   \n",
       "SRR6110936                     17794.0               177        4.731407   \n",
       "\n",
       "             faith_pd  \n",
       "sample-id              \n",
       "SRR21105746  16.04912  \n",
       "SRR6110936   18.01963  \n",
       "\n",
       "[2 rows x 36 columns]"
      ]
     },
     "execution_count": 6,
     "metadata": {},
     "output_type": "execute_result"
    }
   ],
   "source": [
    "tab.sample_metadata.head(2)"
   ]
  },
  {
   "cell_type": "markdown",
   "metadata": {},
   "source": [
    "## filtering"
   ]
  },
  {
   "cell_type": "code",
   "execution_count": 7,
   "metadata": {},
   "outputs": [
    {
     "data": {
      "text/plain": [
       "AmpliconExperiment (\"conqur-adjusted-table-rarefied17794.biom\") with 873 samples, 4192 features"
      ]
     },
     "execution_count": 7,
     "metadata": {},
     "output_type": "execute_result"
    }
   ],
   "source": [
    "tab = tab.filter_samples('gender', np.nan, negate=True)\n",
    "tab"
   ]
  },
  {
   "cell_type": "code",
   "execution_count": 8,
   "metadata": {},
   "outputs": [
    {
     "data": {
      "text/html": [
       "<div>\n",
       "<style scoped>\n",
       "    .dataframe tbody tr th:only-of-type {\n",
       "        vertical-align: middle;\n",
       "    }\n",
       "\n",
       "    .dataframe tbody tr th {\n",
       "        vertical-align: top;\n",
       "    }\n",
       "\n",
       "    .dataframe thead th {\n",
       "        text-align: right;\n",
       "    }\n",
       "</style>\n",
       "<table border=\"1\" class=\"dataframe\">\n",
       "  <thead>\n",
       "    <tr style=\"text-align: right;\">\n",
       "      <th>diagnose</th>\n",
       "      <th>Healthy_control</th>\n",
       "      <th>OPMD</th>\n",
       "      <th>OSCC</th>\n",
       "    </tr>\n",
       "    <tr>\n",
       "      <th>project_ID</th>\n",
       "      <th></th>\n",
       "      <th></th>\n",
       "      <th></th>\n",
       "    </tr>\n",
       "  </thead>\n",
       "  <tbody>\n",
       "    <tr>\n",
       "      <th>OEP000837</th>\n",
       "      <td>NaN</td>\n",
       "      <td>NaN</td>\n",
       "      <td>31.0</td>\n",
       "    </tr>\n",
       "    <tr>\n",
       "      <th>PRJEB37501</th>\n",
       "      <td>NaN</td>\n",
       "      <td>28.0</td>\n",
       "      <td>45.0</td>\n",
       "    </tr>\n",
       "    <tr>\n",
       "      <th>PRJEB39064</th>\n",
       "      <td>25.0</td>\n",
       "      <td>21.0</td>\n",
       "      <td>27.0</td>\n",
       "    </tr>\n",
       "    <tr>\n",
       "      <th>PRJNA386665</th>\n",
       "      <td>127.0</td>\n",
       "      <td>123.0</td>\n",
       "      <td>124.0</td>\n",
       "    </tr>\n",
       "    <tr>\n",
       "      <th>PRJNA412445</th>\n",
       "      <td>NaN</td>\n",
       "      <td>NaN</td>\n",
       "      <td>16.0</td>\n",
       "    </tr>\n",
       "    <tr>\n",
       "      <th>PRJNA421234</th>\n",
       "      <td>NaN</td>\n",
       "      <td>NaN</td>\n",
       "      <td>14.0</td>\n",
       "    </tr>\n",
       "    <tr>\n",
       "      <th>PRJNA700849</th>\n",
       "      <td>8.0</td>\n",
       "      <td>NaN</td>\n",
       "      <td>2.0</td>\n",
       "    </tr>\n",
       "    <tr>\n",
       "      <th>PRJNA751046</th>\n",
       "      <td>9.0</td>\n",
       "      <td>NaN</td>\n",
       "      <td>9.0</td>\n",
       "    </tr>\n",
       "    <tr>\n",
       "      <th>PRJNA756784</th>\n",
       "      <td>39.0</td>\n",
       "      <td>NaN</td>\n",
       "      <td>19.0</td>\n",
       "    </tr>\n",
       "    <tr>\n",
       "      <th>PRJNA813634</th>\n",
       "      <td>NaN</td>\n",
       "      <td>NaN</td>\n",
       "      <td>25.0</td>\n",
       "    </tr>\n",
       "    <tr>\n",
       "      <th>PRJNA870048</th>\n",
       "      <td>90.0</td>\n",
       "      <td>NaN</td>\n",
       "      <td>91.0</td>\n",
       "    </tr>\n",
       "  </tbody>\n",
       "</table>\n",
       "</div>"
      ],
      "text/plain": [
       "diagnose     Healthy_control   OPMD   OSCC\n",
       "project_ID                                \n",
       "OEP000837                NaN    NaN   31.0\n",
       "PRJEB37501               NaN   28.0   45.0\n",
       "PRJEB39064              25.0   21.0   27.0\n",
       "PRJNA386665            127.0  123.0  124.0\n",
       "PRJNA412445              NaN    NaN   16.0\n",
       "PRJNA421234              NaN    NaN   14.0\n",
       "PRJNA700849              8.0    NaN    2.0\n",
       "PRJNA751046              9.0    NaN    9.0\n",
       "PRJNA756784             39.0    NaN   19.0\n",
       "PRJNA813634              NaN    NaN   25.0\n",
       "PRJNA870048             90.0    NaN   91.0"
      ]
     },
     "execution_count": 8,
     "metadata": {},
     "output_type": "execute_result"
    }
   ],
   "source": [
    "tab.sample_metadata.pivot_table(values='_sample_id',index='project_ID',columns='diagnose',aggfunc='count')"
   ]
  },
  {
   "cell_type": "code",
   "execution_count": 9,
   "metadata": {},
   "outputs": [
    {
     "data": {
      "text/plain": [
       "AmpliconExperiment (\"conqur-adjusted-table-rarefied17794.biom\") with 701 samples, 3524 features"
      ]
     },
     "execution_count": 9,
     "metadata": {},
     "output_type": "execute_result"
    }
   ],
   "source": [
    "# filter OPMD samples\n",
    "tab_f = tab.filter_samples(\n",
    "    'diagnose', ['Healthy_control','OSCC']).filter_abundance(0.0001)\n",
    "tab_f"
   ]
  },
  {
   "cell_type": "code",
   "execution_count": 11,
   "metadata": {},
   "outputs": [
    {
     "data": {
      "text/html": [
       "<div>\n",
       "<style scoped>\n",
       "    .dataframe tbody tr th:only-of-type {\n",
       "        vertical-align: middle;\n",
       "    }\n",
       "\n",
       "    .dataframe tbody tr th {\n",
       "        vertical-align: top;\n",
       "    }\n",
       "\n",
       "    .dataframe thead th {\n",
       "        text-align: right;\n",
       "    }\n",
       "</style>\n",
       "<table border=\"1\" class=\"dataframe\">\n",
       "  <thead>\n",
       "    <tr style=\"text-align: right;\">\n",
       "      <th>diagnose</th>\n",
       "      <th>Healthy_control</th>\n",
       "      <th>OSCC</th>\n",
       "      <th>total_samples</th>\n",
       "    </tr>\n",
       "    <tr>\n",
       "      <th>gender</th>\n",
       "      <th></th>\n",
       "      <th></th>\n",
       "      <th></th>\n",
       "    </tr>\n",
       "  </thead>\n",
       "  <tbody>\n",
       "    <tr>\n",
       "      <th>F</th>\n",
       "      <td>56</td>\n",
       "      <td>74</td>\n",
       "      <td>130</td>\n",
       "    </tr>\n",
       "    <tr>\n",
       "      <th>M</th>\n",
       "      <td>242</td>\n",
       "      <td>329</td>\n",
       "      <td>571</td>\n",
       "    </tr>\n",
       "  </tbody>\n",
       "</table>\n",
       "</div>"
      ],
      "text/plain": [
       "diagnose  Healthy_control  OSCC  total_samples\n",
       "gender                                        \n",
       "F                      56    74            130\n",
       "M                     242   329            571"
      ]
     },
     "execution_count": 11,
     "metadata": {},
     "output_type": "execute_result"
    }
   ],
   "source": [
    "df = tab_f.sample_metadata.pivot_table(values='_sample_id',index='gender',columns='diagnose',aggfunc='count')\n",
    "df['total_samples'] = df.sum(axis=1)\n",
    "df"
   ]
  },
  {
   "cell_type": "markdown",
   "metadata": {},
   "source": [
    "## gender distribution"
   ]
  },
  {
   "cell_type": "code",
   "execution_count": 13,
   "metadata": {},
   "outputs": [
    {
     "data": {
      "image/png": "[encoded data removed]",
      "text/plain": [
       "<Figure size 576x144 with 2 Axes>"
      ]
     },
     "metadata": {
      "needs_background": "light"
     },
     "output_type": "display_data"
    },
    {
     "data": {
      "image/png": "[encoded data removed]",
      "text/plain": [
       "<Figure size 576x144 with 2 Axes>"
      ]
     },
     "metadata": {
      "needs_background": "light"
     },
     "output_type": "display_data"
    },
    {
     "data": {
      "image/png": "[encoded data removed]",
      "text/plain": [
       "<Figure size 576x144 with 2 Axes>"
      ]
     },
     "metadata": {
      "needs_background": "light"
     },
     "output_type": "display_data"
    },
    {
     "data": {
      "image/png": "[encoded data removed]",
      "text/plain": [
       "<Figure size 576x144 with 2 Axes>"
      ]
     },
     "metadata": {
      "needs_background": "light"
     },
     "output_type": "display_data"
    },
    {
     "data": {
      "image/png": "[encoded data removed]",
      "text/plain": [
       "<Figure size 576x144 with 2 Axes>"
      ]
     },
     "metadata": {
      "needs_background": "light"
     },
     "output_type": "display_data"
    },
    {
     "data": {
      "image/png": "[encoded data removed]",
      "text/plain": [
       "<Figure size 576x144 with 2 Axes>"
      ]
     },
     "metadata": {
      "needs_background": "light"
     },
     "output_type": "display_data"
    },
    {
     "data": {
      "image/png": "[encoded data removed]",
      "text/plain": [
       "<Figure size 576x144 with 2 Axes>"
      ]
     },
     "metadata": {
      "needs_background": "light"
     },
     "output_type": "display_data"
    },
    {
     "data": {
      "image/png": "[encoded data removed]",
      "text/plain": [
       "<Figure size 576x144 with 2 Axes>"
      ]
     },
     "metadata": {
      "needs_background": "light"
     },
     "output_type": "display_data"
    },
    {
     "data": {
      "image/png": "[encoded data removed]",
      "text/plain": [
       "<Figure size 576x144 with 2 Axes>"
      ]
     },
     "metadata": {
      "needs_background": "light"
     },
     "output_type": "display_data"
    },
    {
     "data": {
      "image/png": "[encoded data removed]",
      "text/plain": [
       "<Figure size 576x144 with 2 Axes>"
      ]
     },
     "metadata": {
      "needs_background": "light"
     },
     "output_type": "display_data"
    },
    {
     "data": {
      "image/png": "[encoded data removed]",
      "text/plain": [
       "<Figure size 576x144 with 2 Axes>"
      ]
     },
     "metadata": {
      "needs_background": "light"
     },
     "output_type": "display_data"
    }
   ],
   "source": [
    "# age distribution in treatments in each study\n",
    "for prj in tab_f.sample_metadata['project_ID'].unique():\n",
    "    exp_a = tab_f.filter_samples('project_ID', prj).filter_abundance(\n",
    "        0.01).filter_prevalence(0.1, cutoff=0.0001)\n",
    "    exp_a_hc = exp_a.filter_samples('diagnose', 'Healthy_control')\n",
    "    exp_a_oscc = exp_a.filter_samples('diagnose', 'OSCC')\n",
    "    \n",
    "    fig, axes = plt.subplots(nrows=1, ncols=2, figsize=(8, 2), \n",
    "                         sharex=True, sharey=True)\n",
    "    df = exp_a_hc.sample_metadata['gender'].value_counts()\n",
    "    axes[0].bar(df.index, df.values)\n",
    "    axes[0].set_title('healthy')\n",
    "    axes[0].set_ylabel('Sample counts')\n",
    "    df = exp_a_oscc.sample_metadata['gender'].value_counts()\n",
    "    axes[1].bar(df.index, df.values)\n",
    "    axes[1].set_title('OSCC')\n",
    "    plt.suptitle('%s - Gender distribution' % prj)\n",
    "    plt.subplots_adjust(top=0.8)"
   ]
  },
  {
   "cell_type": "markdown",
   "metadata": {},
   "source": [
    "# gender prediction"
   ]
  },
  {
   "cell_type": "code",
   "execution_count": 328,
   "metadata": {},
   "outputs": [],
   "source": [
    "tab_f.sample_metadata['gender_01'] = tab_f.sample_metadata['gender'].replace({'M':1, 'F':0})"
   ]
  },
  {
   "cell_type": "code",
   "execution_count": 329,
   "metadata": {},
   "outputs": [
    {
     "data": {
      "text/plain": [
       "(AmpliconExperiment (\"conqur-adjusted-table-rarefied17794.biom\") with 298 samples, 3524 features,\n",
       " AmpliconExperiment (\"conqur-adjusted-table-rarefied17794.biom\") with 403 samples, 3524 features)"
      ]
     },
     "execution_count": 329,
     "metadata": {},
     "output_type": "execute_result"
    }
   ],
   "source": [
    "tab_f_hc = tab_f.filter_samples('diagnose', 'Healthy_control')\n",
    "tab_f_oscc = tab_f.filter_samples('diagnose', 'OSCC')\n",
    "tab_f_hc, tab_f_oscc"
   ]
  },
  {
   "cell_type": "markdown",
   "metadata": {},
   "source": [
    "## RF hyperparameter tuning"
   ]
  },
  {
   "cell_type": "code",
   "execution_count": 333,
   "metadata": {},
   "outputs": [],
   "source": [
    "rf = RandomForestClassifier(random_state=random_state)"
   ]
  },
  {
   "cell_type": "code",
   "execution_count": 20,
   "metadata": {
    "tags": []
   },
   "outputs": [
    {
     "name": "stdout",
     "output_type": "stream",
     "text": [
      "Fitting 5 folds for each of 10 candidates, totalling 50 fits\n"
     ]
    },
    {
     "data": {
      "text/plain": [
       "RandomizedSearchCV(cv=5, estimator=RandomForestClassifier(random_state=1234),\n",
       "                   param_distributions={'bootstrap': [True],\n",
       "                                        'criterion': ['gini', 'entropy'],\n",
       "                                        'max_depth': [None, 5, 10, 20, 50],\n",
       "                                        'max_features': ['sqrt', 'log2', None],\n",
       "                                        'max_leaf_nodes': [None],\n",
       "                                        'min_samples_leaf': [1, 2, 5, 10],\n",
       "                                        'min_samples_split': [2, 5, 10],\n",
       "                                        'n_estimators': [1000]},\n",
       "                   scoring='roc_auc', verbose=1)"
      ]
     },
     "execution_count": 20,
     "metadata": {},
     "output_type": "execute_result"
    }
   ],
   "source": [
    "# model hyperparameters by random search method\n",
    "params = {\n",
    "    'n_estimators': [1000],\n",
    "    'criterion': [\"gini\", \"entropy\"],\n",
    "    'max_depth': [None, 5, 10, 20, 50], # The maximum depth of the tree\n",
    "    'min_samples_split': [2, 5, 10], # The minimum number of samples required to split an internal node, default=2.\n",
    "    'min_samples_leaf': [1, 2, 5, 10], # The minimum number of samples required to be at a leaf node, default=1.\n",
    "    'max_features': ['sqrt', 'log2', None],\n",
    "    'max_leaf_nodes': [None], # If None then unlimited number of leaf nodes.\n",
    "    'bootstrap': [True],\n",
    "}\n",
    "\n",
    "rf_randomized_search = model_selection.RandomizedSearchCV(estimator=rf,\n",
    "                                                       param_distributions=params,\n",
    "                                                       cv = 5,\n",
    "                                                       scoring='roc_auc',\n",
    "                                                       verbose=1)\n",
    "\n",
    "rf_randomized_search.fit(X_train, y_train)"
   ]
  },
  {
   "cell_type": "code",
   "execution_count": 334,
   "metadata": {},
   "outputs": [
    {
     "data": {
      "text/plain": [
       "RandomForestClassifier(max_depth=20, max_features=None, min_samples_leaf=10,\n",
       "                       min_samples_split=5, n_estimators=1000,\n",
       "                       random_state=1234)"
      ]
     },
     "execution_count": 334,
     "metadata": {},
     "output_type": "execute_result"
    }
   ],
   "source": [
    "rf_randomized_search.best_estimator_"
   ]
  },
  {
   "cell_type": "markdown",
   "metadata": {},
   "source": [
    "## prediction "
   ]
  },
  {
   "cell_type": "code",
   "execution_count": 432,
   "metadata": {},
   "outputs": [],
   "source": [
    "rf = RandomForestClassifier(n_estimators=1000,\n",
    "                           min_samples_split=5,\n",
    "                           min_samples_leaf=10,\n",
    "                           max_leaf_nodes=None,\n",
    "                           max_features=None,\n",
    "                           max_depth=20,\n",
    "                           criterion='gini',\n",
    "                           bootstrap=True,\n",
    "                           random_state=random_state)"
   ]
  },
  {
   "cell_type": "code",
   "execution_count": 433,
   "metadata": {},
   "outputs": [],
   "source": [
    "rskf = model_selection.RepeatedStratifiedKFold(n_splits=5, n_repeats=10, random_state=random_state)"
   ]
  },
  {
   "cell_type": "code",
   "execution_count": 434,
   "metadata": {},
   "outputs": [],
   "source": [
    "# use healthy samples to predict OSCC samples\n",
    "field = 'gender_01'\n",
    "res_hc_train = []\n",
    "res_hc_test = []\n",
    "res_oscc = []\n",
    "for i, (train_index, test_index) in enumerate(rskf.split(tab_f_hc.data,\n",
    "                                                         tab_f_hc.sample_metadata[field])):\n",
    "    X_train = tab_f_hc.data[train_index]\n",
    "    y_train = tab_f_hc.sample_metadata[field][train_index]\n",
    "    \n",
    "    rf.fit(X_train, y_train)\n",
    "    \n",
    "    df = pd.DataFrame(rf.predict_proba(X_train),\n",
    "                      columns=rf.classes_,\n",
    "                      index=tab_f_hc.sample_metadata.index[train_index])\n",
    "    df.insert(0, 'Y_TRUE', y_train)\n",
    "    df.insert(0, 'CV', i)\n",
    "    res_hc_train.append(df)\n",
    "    \n",
    "    \n",
    "    X_test = tab_f_hc.data[test_index]\n",
    "    y_test = tab_f_hc.sample_metadata[field][test_index]\n",
    "    hc_test_df = pd.DataFrame(rf.predict_proba(X_test),\n",
    "                              columns=rf.classes_,\n",
    "                              index=tab_f_hc.sample_metadata.index[test_index])\n",
    "    hc_test_df.insert(0, 'Y_TRUE', y_test.tolist())\n",
    "    hc_test_df.insert(0, 'CV', i)\n",
    "    res_hc_test.append(hc_test_df)\n",
    "    \n",
    "    X_test_oscc = tab_f_oscc.data\n",
    "    y_test_oscc = tab_f_oscc.sample_metadata[field]\n",
    "    oscc_df = pd.DataFrame(rf.predict_proba(X_test_oscc),\n",
    "                           columns=rf.classes_,\n",
    "                           index=tab_f_oscc.sample_metadata.index)\n",
    "    oscc_df.insert(0, 'Y_TRUE', y_test_oscc.tolist())\n",
    "    oscc_df.insert(0, 'CV', i)\n",
    "    res_oscc.append(oscc_df)\n",
    "    \n",
    "res_hc_train = pd.concat(res_hc_train)\n",
    "res_hc_test = pd.concat(res_hc_test)\n",
    "res_oscc = pd.concat(res_oscc)"
   ]
  },
  {
   "cell_type": "code",
   "execution_count": 435,
   "metadata": {},
   "outputs": [
    {
     "data": {
      "text/html": [
       "<div>\n",
       "<style scoped>\n",
       "    .dataframe tbody tr th:only-of-type {\n",
       "        vertical-align: middle;\n",
       "    }\n",
       "\n",
       "    .dataframe tbody tr th {\n",
       "        vertical-align: top;\n",
       "    }\n",
       "\n",
       "    .dataframe thead th {\n",
       "        text-align: right;\n",
       "    }\n",
       "</style>\n",
       "<table border=\"1\" class=\"dataframe\">\n",
       "  <thead>\n",
       "    <tr style=\"text-align: right;\">\n",
       "      <th></th>\n",
       "      <th>CV</th>\n",
       "      <th>Y_TRUE</th>\n",
       "      <th>0</th>\n",
       "      <th>1</th>\n",
       "    </tr>\n",
       "    <tr>\n",
       "      <th>sample-id</th>\n",
       "      <th></th>\n",
       "      <th></th>\n",
       "      <th></th>\n",
       "      <th></th>\n",
       "    </tr>\n",
       "  </thead>\n",
       "  <tbody>\n",
       "    <tr>\n",
       "      <th>SRR15560942</th>\n",
       "      <td>0</td>\n",
       "      <td>0</td>\n",
       "      <td>0.547002</td>\n",
       "      <td>0.452998</td>\n",
       "    </tr>\n",
       "    <tr>\n",
       "      <th>SRR5559395</th>\n",
       "      <td>0</td>\n",
       "      <td>1</td>\n",
       "      <td>0.038975</td>\n",
       "      <td>0.961025</td>\n",
       "    </tr>\n",
       "    <tr>\n",
       "      <th>SRR15305649</th>\n",
       "      <td>0</td>\n",
       "      <td>1</td>\n",
       "      <td>0.228904</td>\n",
       "      <td>0.771096</td>\n",
       "    </tr>\n",
       "    <tr>\n",
       "      <th>SRR5559586</th>\n",
       "      <td>0</td>\n",
       "      <td>1</td>\n",
       "      <td>0.052685</td>\n",
       "      <td>0.947315</td>\n",
       "    </tr>\n",
       "    <tr>\n",
       "      <th>SRR5559689</th>\n",
       "      <td>0</td>\n",
       "      <td>1</td>\n",
       "      <td>0.029361</td>\n",
       "      <td>0.970639</td>\n",
       "    </tr>\n",
       "  </tbody>\n",
       "</table>\n",
       "</div>"
      ],
      "text/plain": [
       "             CV  Y_TRUE         0         1\n",
       "sample-id                                  \n",
       "SRR15560942   0       0  0.547002  0.452998\n",
       "SRR5559395    0       1  0.038975  0.961025\n",
       "SRR15305649   0       1  0.228904  0.771096\n",
       "SRR5559586    0       1  0.052685  0.947315\n",
       "SRR5559689    0       1  0.029361  0.970639"
      ]
     },
     "execution_count": 435,
     "metadata": {},
     "output_type": "execute_result"
    }
   ],
   "source": [
    "res_hc_train.head()"
   ]
  },
  {
   "cell_type": "code",
   "execution_count": 436,
   "metadata": {},
   "outputs": [],
   "source": [
    "labels = ['Training', 'HC2HC', 'HC2OSCC']"
   ]
  },
  {
   "cell_type": "code",
   "execution_count": 437,
   "metadata": {},
   "outputs": [
    {
     "data": {
      "image/png": "[encoded data removed]",
      "text/plain": [
       "<Figure size 792x216 with 3 Axes>"
      ]
     },
     "metadata": {
      "needs_background": "light"
     },
     "output_type": "display_data"
    }
   ],
   "source": [
    "fig, (ax_train, ax_test, ax_oscc) = plt.subplots(nrows=1, ncols=3, \n",
    "                                                 figsize=(11, 3))\n",
    "for ax, df, title in zip([ax_train, ax_test, ax_oscc],\n",
    "                         [res_hc_train, res_hc_test, res_oscc],\n",
    "                         labels):\n",
    "    ca.training.plot_roc(df, classes=[0], ax=ax, title=title)\n",
    "# plt.savefig('figures-and-tables/gender-prediction-roc-curve.pdf',\n",
    "#             bbox_inches='tight')"
   ]
  },
  {
   "cell_type": "code",
   "execution_count": null,
   "metadata": {},
   "outputs": [],
   "source": []
  }
 ],
 "metadata": {
  "kernelspec": {
   "display_name": "qiime2-2022.2",
   "language": "python",
   "name": "qiime2-2022.2"
  },
  "language_info": {
   "codemirror_mode": {
    "name": "ipython",
    "version": 3
   },
   "file_extension": ".py",
   "mimetype": "text/x-python",
   "name": "python",
   "nbconvert_exporter": "python",
   "pygments_lexer": "ipython3",
   "version": "3.8.12"
  },
  "toc": {
   "base_numbering": 1,
   "nav_menu": {},
   "number_sections": true,
   "sideBar": true,
   "skip_h1_title": false,
   "title_cell": "Table of Contents",
   "title_sidebar": "Contents",
   "toc_cell": false,
   "toc_position": {
    "height": "calc(100% - 180px)",
    "left": "10px",
    "top": "150px",
    "width": "224.711px"
   },
   "toc_section_display": true,
   "toc_window_display": true
  },
  "toc-autonumbering": true
 },
 "nbformat": 4,
 "nbformat_minor": 4
}
